{
  "cells": [
    {
      "cell_type": "code",
      "execution_count": null,
      "metadata": {
        "colab": {
          "base_uri": "https://localhost:8080/"
        },
        "id": "cp4BzZubteq2",
        "outputId": "307446fb-5c93-4562-8a91-e8ff1fe5f15c"
      },
      "outputs": [
        {
          "name": "stdout",
          "output_type": "stream",
          "text": [
            "Cloning into 'GSOC-25-Projects'...\n",
            "remote: Enumerating objects: 110, done.\u001b[K\n",
            "remote: Counting objects: 100% (104/104), done.\u001b[K\n",
            "remote: Compressing objects: 100% (78/78), done.\u001b[K\n",
            "remote: Total 110 (delta 60), reused 66 (delta 26), pack-reused 6 (from 1)\u001b[K\n",
            "Receiving objects: 100% (110/110), 1.13 MiB | 8.21 MiB/s, done.\n",
            "Resolving deltas: 100% (60/60), done.\n"
          ]
        }
      ],
      "source": [
        "# !git clone https://github.com/MandaKausthubh/GSOC-25-Projects.git"
      ]
    },
    {
      "cell_type": "code",
      "execution_count": null,
      "metadata": {
        "colab": {
          "base_uri": "https://localhost:8080/"
        },
        "id": "q-XYUcdut9x9",
        "outputId": "4df6c8fc-0700-4adb-a896-52bd340d0aac"
      },
      "outputs": [
        {
          "name": "stdout",
          "output_type": "stream",
          "text": [
            "/content/GSOC-25-Projects\n"
          ]
        }
      ],
      "source": [
        "# %cd GSOC-25-Projects"
      ]
    },
    {
      "cell_type": "code",
      "execution_count": null,
      "metadata": {
        "colab": {
          "base_uri": "https://localhost:8080/"
        },
        "id": "Qe8Tn1iBuXAy",
        "outputId": "e0ef1847-90df-4d9a-a73a-583936abe89e"
      },
      "outputs": [
        {
          "name": "stdout",
          "output_type": "stream",
          "text": [
            "Mounted at /content/drive\n"
          ]
        }
      ],
      "source": [
        "#!pip install -q gdown  # Ensure gdown is installed\n",
        "#!gdown \"https://drive.google.com/uc?id=1znqUeFzYz-DeAE3dYXD17qoMPK82Whji\"\n",
        "#!unzip -q Dataset.zip\n",
        "\n",
        "# 1znqUeFzYz-DeAE3dYXD17qoMPK82Whji\n",
        "\n",
        "# from google.colab import drive\n",
        "# drive.mount('/content/drive')\n",
        "\n",
        "# !cp /content/drive/MyDrive/\"Dataset.zip\" /content/GSOC-25-Projects/\n",
        "# !unzip -q Dataset.zip"
      ]
    },
    {
      "cell_type": "code",
      "execution_count": null,
      "metadata": {
        "id": "_uWUB3C9u-aa"
      },
      "outputs": [],
      "source": [
        "# !rm -fr Dataset.zip __MACOSX/\n",
        "# !mkdir dataset\n",
        "# !mv Dataset dataset/"
      ]
    },
    {
      "cell_type": "code",
      "execution_count": null,
      "metadata": {
        "id": "NG6wqk5pvUXG"
      },
      "outputs": [],
      "source": [
        "# !mv dataset/Dataset/ dataset/DatasetTask6A"
      ]
    },
    {
      "cell_type": "code",
      "execution_count": null,
      "metadata": {
        "colab": {
          "base_uri": "https://localhost:8080/"
        },
        "id": "Q9qBkdRZDNYK",
        "outputId": "3b1ecd3d-12a9-4581-b88b-667285452706"
      },
      "outputs": [
        {
          "name": "stdout",
          "output_type": "stream",
          "text": [
            "Drive already mounted at /content/drive; to attempt to forcibly remount, call drive.mount(\"/content/drive\", force_remount=True).\n",
            "mkdir: cannot create directory ‘dataset’: File exists\n"
          ]
        }
      ],
      "source": [
        "# from google.colab import drive\n",
        "# drive.mount('/content/drive')\n",
        "\n",
        "# !cp /content/drive/MyDrive/\"DatasetB.zip\" /content/GSOC-25-Projects/\n",
        "# !unzip -q DatasetB.zip\n",
        "# !rm -fr DatasetB.zip __MACOSX/\n",
        "# !mkdir dataset\n",
        "# !mv Dataset DatasetB\n",
        "# !mv DatasetB dataset/\n",
        "# !mv dataset/DatasetB/ dataset/DatasetTask6B"
      ]
    },
    {
      "cell_type": "code",
      "execution_count": 2,
      "metadata": {
        "id": "3K2Spt5VuXP0"
      },
      "outputs": [],
      "source": [
        "import numpy as np\n",
        "import matplotlib.pyplot as plt\n",
        "import torch, torch.nn as nn\n",
        "from torch.utils.data import DataLoader, random_split\n",
        "from torchvision.transforms import Normalize, Lambda\n",
        "import torchvision\n",
        "\n",
        "import sys, os\n",
        "sys.path.append(os.path.join(os.path.dirname(\"./\"), '..'))\n",
        "\n",
        "from utils.Training import Train_MAE\n",
        "from utils.CustomDataset import CustomDatasetSelfSupervised\n",
        "from Models.MaskedAutoEncoders import MaskedAutoEncoder\n",
        "from utils.Augmentation import augment_images\n",
        "\n",
        "torch.backends.cudnn.benchmark = True\n",
        "torch.backends.cudnn.enabled = True"
      ]
    },
    {
      "cell_type": "code",
      "execution_count": 3,
      "metadata": {
        "id": "B9rndwBKubBr"
      },
      "outputs": [],
      "source": [
        "# Transform = Normalize(mean=[0.5], std=[0.5])\n",
        "class MinMaxNormalize(object):\n",
        "    \"\"\"Normalizes a tensor to [0, 1] range using min and max of the tensor.\"\"\"\n",
        "    def __init__(self, min_val=None, max_val=None):\n",
        "        \"\"\"\n",
        "        Args:\n",
        "            min_val (float, optional): Fixed min value. If None, computed from input.\n",
        "            max_val (float, optional): Fixed max value. If None, computed from input.\n",
        "        \"\"\"\n",
        "        self.min_val = min_val\n",
        "        self.max_val = max_val\n",
        "\n",
        "    def __call__(self, tensor):\n",
        "        \"\"\"\n",
        "        Args:\n",
        "            tensor (torch.Tensor): Input tensor of shape (C, H, W) or (H, W)\n",
        "        Returns:\n",
        "            torch.Tensor: Normalized tensor in [0, 1]\n",
        "        \"\"\"\n",
        "        if self.min_val is None or self.max_val is None:\n",
        "            min_val = tensor.min()\n",
        "            max_val = tensor.max()\n",
        "        else:\n",
        "            min_val = self.min_val\n",
        "            max_val = self.max_val\n",
        "\n",
        "        # Avoid division by zero\n",
        "        if max_val == min_val:\n",
        "            return torch.zeros_like(tensor) if min_val == 0 else torch.ones_like(tensor)\n",
        "\n",
        "        return (tensor - min_val) / (max_val - min_val)"
      ]
    },
    {
      "cell_type": "code",
      "execution_count": 4,
      "metadata": {
        "id": "YEdxwsotufRz"
      },
      "outputs": [],
      "source": [
        "def visualize_reconstruction(model, data, index=0, mask_ratio=0.75, patch_size=8, device='cpu'):\n",
        "    \"\"\"\n",
        "    Visualize the original image, mask, and reconstructed image from the MAE model.\n",
        "\n",
        "    Args:\n",
        "        model: Trained MaskedAutoEncoder instance\n",
        "        data: Dataset or list of images (tensors of shape (C, H, W))\n",
        "        index: Index of the image to visualize (default: 0)\n",
        "        mask_ratio: Fraction of patches to mask (default: 0.75)\n",
        "        patch_size: Size of each patch (default: 16). Can be an integer (square patches) or tuple (rectangular patches).\n",
        "        device: Device to run the model on (default: 'cpu')\n",
        "    \"\"\"\n",
        "    model.eval()\n",
        "    with torch.no_grad():\n",
        "        image = data[index].unsqueeze(0).to(device)  # (1, C, H, W)\n",
        "        loss, pred, mask = model(image, mask_ratio)\n",
        "        recon = model.unpatchify(pred)  # (1, C, H, W)\n",
        "\n",
        "        # Get image size\n",
        "        _, C, H, W = image.shape\n",
        "\n",
        "        # Handle patch_size as integer or tuple\n",
        "        if isinstance(patch_size, int):\n",
        "            patch_size = (patch_size, patch_size)\n",
        "        else:\n",
        "            assert len(patch_size) == 2, \"patch_size must be an integer or a tuple of two integers\"\n",
        "\n",
        "        # Calculate number of patches\n",
        "        num_patches_h = H // patch_size[0]\n",
        "        num_patches_w = W // patch_size[1]\n",
        "\n",
        "        # Reshape mask for visualization\n",
        "        mask_vis = mask.reshape(1, num_patches_h, num_patches_w).squeeze().cpu()\n",
        "\n",
        "        # Plot original, mask, and reconstruction\n",
        "        fig, axes = plt.subplots(1, 3, figsize=(15, 5))\n",
        "\n",
        "        # Original image\n",
        "        if C == 1:\n",
        "            axes[0].imshow(image.squeeze().cpu())\n",
        "        else:\n",
        "            axes[0].imshow(image.squeeze().cpu().permute(1, 2, 0))\n",
        "        axes[0].set_title('Original')\n",
        "\n",
        "        # Mask\n",
        "        axes[1].imshow(mask_vis)\n",
        "        axes[1].set_title('Mask')\n",
        "\n",
        "        # Reconstructed image\n",
        "        if C == 1:\n",
        "            axes[2].imshow(recon.squeeze().cpu())\n",
        "        else:\n",
        "            axes[2].imshow(recon.squeeze().cpu().permute(1, 2, 0))\n",
        "        axes[2].set_title('Reconstructed')\n",
        "\n",
        "        plt.show()"
      ]
    },
    {
      "cell_type": "code",
      "execution_count": 5,
      "metadata": {
        "id": "QfIQFOFzulJL"
      },
      "outputs": [],
      "source": [
        "from torch.optim.lr_scheduler import LambdaLR\n",
        "\n",
        "def get_linear_schedule_with_warmup(optimizer, num_warmup_steps, num_training_steps, last_epoch=-1):\n",
        "    \"\"\"\n",
        "    Creates a learning rate scheduler with:\n",
        "    - Warmup (linear increase from 0 to initial LR) over `num_warmup_steps`.\n",
        "    - Linear decay to 0 over remaining `num_training_steps - num_warmup_steps`.\n",
        "    \"\"\"\n",
        "    def lr_lambda(current_step: int):\n",
        "        if current_step < num_warmup_steps:\n",
        "            # Warmup phase: increase LR from 0 to 1.0\n",
        "            return float(current_step) / float(max(1, num_warmup_steps))\n",
        "        # Decay phase: decrease LR from 1.0 to 0.0\n",
        "        return max(\n",
        "            0.0,\n",
        "            float(num_training_steps - current_step) /\n",
        "            float(max(1, num_training_steps - num_warmup_steps)))\n",
        "\n",
        "    return LambdaLR(optimizer, lr_lambda, last_epoch)"
      ]
    },
    {
      "cell_type": "code",
      "execution_count": null,
      "metadata": {
        "colab": {
          "base_uri": "https://localhost:8080/"
        },
        "id": "mdJpFls9PDoW",
        "outputId": "0a18975e-f5b1-409a-aa47-f73da0b20b9d"
      },
      "outputs": [
        {
          "data": {
            "text/plain": [
              "(29449, torch.Size([1, 64, 64]))"
            ]
          },
          "execution_count": 6,
          "metadata": {},
          "output_type": "execute_result"
        }
      ],
      "source": [
        "Data_paths = [os.path.join(root, file) for root, _, files in os.walk( \"../dataset/DatasetTask6A/no_sub\") for file in files]\n",
        "# Data_paths = Data_paths[:1000]\n",
        "\n",
        "transform = torchvision.transforms.Compose([\n",
        "    MinMaxNormalize(),\n",
        "    torchvision.transforms.RandomAffine(degrees=0, translate=(0.2, 0.2)),\n",
        "    torchvision.transforms.RandomHorizontalFlip(p=0.5),\n",
        "    torchvision.transforms.RandomVerticalFlip(p=0.5),\n",
        "])\n",
        "\n",
        "dataset = CustomDatasetSelfSupervised(\n",
        "      data = Data_paths,\n",
        "      root = \"\",\n",
        "      transform = transform,\n",
        ")\n",
        "\n",
        "len(dataset), dataset[0].shape"
      ]
    },
    {
      "cell_type": "code",
      "execution_count": 7,
      "metadata": {
        "id": "0hj02hoVU-kh"
      },
      "outputs": [],
      "source": [
        "train_len = int(len(dataset)*0.9)\n",
        "test_len = len(dataset) - train_len\n",
        "\n",
        "\n",
        "train, test = random_split(dataset, [train_len, test_len], generator=torch.Generator().manual_seed(42))\n",
        "TrainLoader = DataLoader(train, batch_size=256,\n",
        "                         shuffle=True, num_workers=1, pin_memory=True,\n",
        "                         persistent_workers=True, drop_last=True)\n",
        "ValidationLoader = DataLoader(test, batch_size=256,\n",
        "                              shuffle=False, num_workers=1,\n",
        "                              pin_memory=True, drop_last=True,\n",
        "                              persistent_workers=True)"
      ]
    },
    {
      "cell_type": "code",
      "execution_count": 8,
      "metadata": {
        "id": "S08kKVrsuoMW"
      },
      "outputs": [],
      "source": [
        "# Define the model\n",
        "\n",
        "device = \"cuda\"\n",
        "\n",
        "model = MaskedAutoEncoder(\n",
        "        patch_size=16,\n",
        "        encoder_embedding_dim=2048, encoder_num_heads=64, encoder_depth=8,\n",
        "        decoder_embedding_dim=1024, decoder_num_heads=32, decoder_depth=6\n",
        "    ).to(device=device)\n",
        "\n",
        "model.compile()"
      ]
    },
    {
      "cell_type": "code",
      "execution_count": 9,
      "metadata": {
        "colab": {
          "base_uri": "https://localhost:8080/"
        },
        "id": "-kfJ6kq5usVw",
        "outputId": "745bf1dd-0146-4a22-f9c1-9bf5e7f8e4e4"
      },
      "outputs": [
        {
          "name": "stderr",
          "output_type": "stream",
          "text": [
            "Training Epoch 1/500: 100%|██████████| 103/103 [02:03<00:00,  1.20s/it, loss=1.39]\n",
            "Validating Epoch 1/500: 100%|██████████| 11/11 [00:59<00:00,  5.41s/it, loss=1.24]\n",
            "Training Epoch 2/500: 100%|██████████| 103/103 [00:25<00:00,  4.06it/s, loss=1.17]\n",
            "Validating Epoch 2/500: 100%|██████████| 11/11 [00:02<00:00,  3.87it/s, loss=0.969]\n",
            "Training Epoch 3/500: 100%|██████████| 103/103 [00:25<00:00,  4.07it/s, loss=0.857]\n",
            "Validating Epoch 3/500: 100%|██████████| 11/11 [00:02<00:00,  3.99it/s, loss=0.624]\n",
            "Training Epoch 4/500: 100%|██████████| 103/103 [00:25<00:00,  4.05it/s, loss=0.609]\n",
            "Validating Epoch 4/500: 100%|██████████| 11/11 [00:02<00:00,  3.98it/s, loss=0.373]\n",
            "Training Epoch 5/500: 100%|██████████| 103/103 [00:25<00:00,  4.08it/s, loss=0.436]\n",
            "Validating Epoch 5/500: 100%|██████████| 11/11 [00:02<00:00,  3.99it/s, loss=0.197]\n",
            "Training Epoch 6/500: 100%|██████████| 103/103 [00:25<00:00,  4.06it/s, loss=0.322]\n",
            "Validating Epoch 6/500: 100%|██████████| 11/11 [00:02<00:00,  4.01it/s, loss=0.0918]\n",
            "Training Epoch 7/500: 100%|██████████| 103/103 [00:25<00:00,  4.08it/s, loss=0.255]\n",
            "Validating Epoch 7/500: 100%|██████████| 11/11 [00:02<00:00,  3.93it/s, loss=0.0437]\n",
            "Training Epoch 8/500: 100%|██████████| 103/103 [00:25<00:00,  4.07it/s, loss=0.217]\n",
            "Validating Epoch 8/500: 100%|██████████| 11/11 [00:02<00:00,  3.92it/s, loss=0.0249]\n",
            "Training Epoch 9/500: 100%|██████████| 103/103 [00:25<00:00,  4.08it/s, loss=0.188]\n",
            "Validating Epoch 9/500: 100%|██████████| 11/11 [00:02<00:00,  3.96it/s, loss=0.0183]\n",
            "Training Epoch 10/500: 100%|██████████| 103/103 [00:25<00:00,  4.10it/s, loss=0.165]\n",
            "Validating Epoch 10/500: 100%|██████████| 11/11 [00:02<00:00,  3.95it/s, loss=0.0146]\n",
            "Training Epoch 11/500: 100%|██████████| 103/103 [00:25<00:00,  4.07it/s, loss=0.143]\n",
            "Validating Epoch 11/500: 100%|██████████| 11/11 [00:02<00:00,  3.98it/s, loss=0.0127]\n",
            "Training Epoch 12/500: 100%|██████████| 103/103 [00:25<00:00,  4.08it/s, loss=0.126]\n",
            "Validating Epoch 12/500: 100%|██████████| 11/11 [00:02<00:00,  3.93it/s, loss=0.0116]\n",
            "Training Epoch 13/500: 100%|██████████| 103/103 [00:25<00:00,  4.06it/s, loss=0.11]\n",
            "Validating Epoch 13/500: 100%|██████████| 11/11 [00:02<00:00,  3.91it/s, loss=0.011]\n",
            "Training Epoch 14/500: 100%|██████████| 103/103 [00:25<00:00,  4.08it/s, loss=0.0959]\n",
            "Validating Epoch 14/500: 100%|██████████| 11/11 [00:02<00:00,  3.82it/s, loss=0.0104]\n",
            "Training Epoch 15/500: 100%|██████████| 103/103 [00:25<00:00,  4.08it/s, loss=0.0845]\n",
            "Validating Epoch 15/500: 100%|██████████| 11/11 [00:02<00:00,  3.97it/s, loss=0.0104]\n",
            "Training Epoch 16/500: 100%|██████████| 103/103 [00:25<00:00,  4.10it/s, loss=0.0737]\n",
            "Validating Epoch 16/500: 100%|██████████| 11/11 [00:02<00:00,  3.96it/s, loss=0.0104]\n",
            "Training Epoch 17/500: 100%|██████████| 103/103 [00:25<00:00,  4.10it/s, loss=0.0656]\n",
            "Validating Epoch 17/500: 100%|██████████| 11/11 [00:02<00:00,  3.97it/s, loss=0.0102]\n",
            "Training Epoch 18/500: 100%|██████████| 103/103 [00:25<00:00,  4.10it/s, loss=0.0575]\n",
            "Validating Epoch 18/500: 100%|██████████| 11/11 [00:02<00:00,  3.93it/s, loss=0.0098]\n",
            "Training Epoch 19/500: 100%|██████████| 103/103 [00:25<00:00,  4.10it/s, loss=0.0507]\n",
            "Validating Epoch 19/500: 100%|██████████| 11/11 [00:02<00:00,  3.85it/s, loss=0.00986]\n",
            "Training Epoch 20/500: 100%|██████████| 103/103 [00:25<00:00,  4.10it/s, loss=0.0462]\n",
            "Validating Epoch 20/500: 100%|██████████| 11/11 [00:02<00:00,  3.97it/s, loss=0.00943]\n",
            "Training Epoch 21/500: 100%|██████████| 103/103 [00:25<00:00,  4.12it/s, loss=0.0415]\n",
            "Validating Epoch 21/500: 100%|██████████| 11/11 [00:02<00:00,  3.98it/s, loss=0.0101]\n",
            "Training Epoch 22/500: 100%|██████████| 103/103 [00:24<00:00,  4.13it/s, loss=0.0375]\n",
            "Validating Epoch 22/500: 100%|██████████| 11/11 [00:02<00:00,  3.95it/s, loss=0.00948]\n",
            "Training Epoch 23/500: 100%|██████████| 103/103 [00:25<00:00,  4.08it/s, loss=0.0346]\n",
            "Validating Epoch 23/500: 100%|██████████| 11/11 [00:02<00:00,  4.01it/s, loss=0.00948]\n",
            "Training Epoch 24/500: 100%|██████████| 103/103 [00:25<00:00,  4.10it/s, loss=0.0312]\n",
            "Validating Epoch 24/500: 100%|██████████| 11/11 [00:02<00:00,  3.98it/s, loss=0.00941]\n",
            "Training Epoch 25/500: 100%|██████████| 103/103 [00:25<00:00,  4.06it/s, loss=0.0292]\n",
            "Validating Epoch 25/500: 100%|██████████| 11/11 [00:02<00:00,  3.95it/s, loss=0.00929]\n",
            "Training Epoch 26/500: 100%|██████████| 103/103 [00:25<00:00,  4.05it/s, loss=0.0274]\n",
            "Validating Epoch 26/500: 100%|██████████| 11/11 [00:03<00:00,  3.24it/s, loss=0.00978]\n",
            "Training Epoch 27/500: 100%|██████████| 103/103 [00:25<00:00,  4.07it/s, loss=0.026]\n",
            "Validating Epoch 27/500: 100%|██████████| 11/11 [00:02<00:00,  3.96it/s, loss=0.00946]\n",
            "Training Epoch 28/500: 100%|██████████| 103/103 [00:25<00:00,  4.07it/s, loss=0.0242]\n",
            "Validating Epoch 28/500: 100%|██████████| 11/11 [00:02<00:00,  3.92it/s, loss=0.0094]\n",
            "Training Epoch 29/500: 100%|██████████| 103/103 [00:25<00:00,  4.11it/s, loss=0.0232]\n",
            "Validating Epoch 29/500: 100%|██████████| 11/11 [00:02<00:00,  3.92it/s, loss=0.00915]\n",
            "Training Epoch 30/500: 100%|██████████| 103/103 [00:25<00:00,  4.07it/s, loss=0.0224]\n",
            "Validating Epoch 30/500: 100%|██████████| 11/11 [00:02<00:00,  3.93it/s, loss=0.0094]\n",
            "Training Epoch 31/500: 100%|██████████| 103/103 [00:25<00:00,  4.11it/s, loss=0.0216]\n",
            "Validating Epoch 31/500: 100%|██████████| 11/11 [00:02<00:00,  3.89it/s, loss=0.00938]\n",
            "Training Epoch 32/500: 100%|██████████| 103/103 [00:25<00:00,  4.10it/s, loss=0.021]\n",
            "Validating Epoch 32/500: 100%|██████████| 11/11 [00:02<00:00,  3.85it/s, loss=0.00935]\n",
            "Training Epoch 33/500: 100%|██████████| 103/103 [00:25<00:00,  4.11it/s, loss=0.0202]\n",
            "Validating Epoch 33/500: 100%|██████████| 11/11 [00:02<00:00,  3.91it/s, loss=0.00954]\n",
            "Training Epoch 34/500: 100%|██████████| 103/103 [00:25<00:00,  4.10it/s, loss=0.0197]\n",
            "Validating Epoch 34/500: 100%|██████████| 11/11 [00:02<00:00,  3.94it/s, loss=0.00934]\n",
            "Training Epoch 35/500: 100%|██████████| 103/103 [00:25<00:00,  4.08it/s, loss=0.0189]\n",
            "Validating Epoch 35/500: 100%|██████████| 11/11 [00:02<00:00,  3.94it/s, loss=0.00935]\n",
            "Training Epoch 36/500: 100%|██████████| 103/103 [00:24<00:00,  4.13it/s, loss=0.0183]\n",
            "Validating Epoch 36/500: 100%|██████████| 11/11 [00:02<00:00,  3.97it/s, loss=0.00939]\n",
            "Training Epoch 37/500: 100%|██████████| 103/103 [00:25<00:00,  4.11it/s, loss=0.0175]\n",
            "Validating Epoch 37/500: 100%|██████████| 11/11 [00:02<00:00,  3.92it/s, loss=0.00942]\n",
            "Training Epoch 38/500: 100%|██████████| 103/103 [00:25<00:00,  4.01it/s, loss=0.0171]\n",
            "Validating Epoch 38/500: 100%|██████████| 11/11 [00:02<00:00,  3.92it/s, loss=0.00938]\n",
            "Training Epoch 39/500: 100%|██████████| 103/103 [00:25<00:00,  4.07it/s, loss=0.0167]\n",
            "Validating Epoch 39/500: 100%|██████████| 11/11 [00:02<00:00,  3.95it/s, loss=0.00946]\n",
            "Training Epoch 40/500: 100%|██████████| 103/103 [00:24<00:00,  4.13it/s, loss=0.016]\n",
            "Validating Epoch 40/500: 100%|██████████| 11/11 [00:02<00:00,  3.98it/s, loss=0.00935]\n",
            "Training Epoch 41/500: 100%|██████████| 103/103 [00:25<00:00,  4.09it/s, loss=0.0162]\n",
            "Validating Epoch 41/500: 100%|██████████| 11/11 [00:02<00:00,  3.88it/s, loss=0.00943]\n",
            "Training Epoch 42/500: 100%|██████████| 103/103 [00:25<00:00,  4.09it/s, loss=0.0158]\n",
            "Validating Epoch 42/500: 100%|██████████| 11/11 [00:02<00:00,  3.92it/s, loss=0.00949]\n",
            "Training Epoch 43/500: 100%|██████████| 103/103 [00:25<00:00,  4.09it/s, loss=0.0157]\n",
            "Validating Epoch 43/500: 100%|██████████| 11/11 [00:02<00:00,  3.97it/s, loss=0.00961]\n",
            "Training Epoch 44/500: 100%|██████████| 103/103 [00:25<00:00,  4.05it/s, loss=0.015]\n",
            "Validating Epoch 44/500: 100%|██████████| 11/11 [00:02<00:00,  3.92it/s, loss=0.00982]\n",
            "Training Epoch 45/500: 100%|██████████| 103/103 [00:25<00:00,  4.06it/s, loss=0.0145]\n",
            "Validating Epoch 45/500: 100%|██████████| 11/11 [00:02<00:00,  3.91it/s, loss=0.00953]\n",
            "Training Epoch 46/500: 100%|██████████| 103/103 [00:25<00:00,  4.04it/s, loss=0.0141]\n",
            "Validating Epoch 46/500: 100%|██████████| 11/11 [00:02<00:00,  3.86it/s, loss=0.00948]\n",
            "Training Epoch 47/500: 100%|██████████| 103/103 [00:25<00:00,  4.11it/s, loss=0.0145]\n",
            "Validating Epoch 47/500: 100%|██████████| 11/11 [00:02<00:00,  3.85it/s, loss=0.00933]\n",
            "Training Epoch 48/500: 100%|██████████| 103/103 [00:25<00:00,  4.10it/s, loss=0.0138]\n",
            "Validating Epoch 48/500: 100%|██████████| 11/11 [00:02<00:00,  3.90it/s, loss=0.00972]\n",
            "Training Epoch 49/500: 100%|██████████| 103/103 [00:25<00:00,  4.10it/s, loss=0.0133]\n",
            "Validating Epoch 49/500: 100%|██████████| 11/11 [00:02<00:00,  3.84it/s, loss=0.00904]\n",
            "Training Epoch 50/500: 100%|██████████| 103/103 [00:25<00:00,  4.11it/s, loss=0.0135]\n",
            "Validating Epoch 50/500: 100%|██████████| 11/11 [00:02<00:00,  3.83it/s, loss=0.00897]\n",
            "Training Epoch 51/500: 100%|██████████| 103/103 [00:25<00:00,  4.09it/s, loss=0.0128]\n",
            "Validating Epoch 51/500: 100%|██████████| 11/11 [00:02<00:00,  3.91it/s, loss=0.00918]\n",
            "Training Epoch 52/500: 100%|██████████| 103/103 [00:25<00:00,  4.09it/s, loss=0.0126]\n",
            "Validating Epoch 52/500: 100%|██████████| 11/11 [00:02<00:00,  3.92it/s, loss=0.00915]\n",
            "Training Epoch 53/500: 100%|██████████| 103/103 [00:25<00:00,  4.08it/s, loss=0.0128]\n",
            "Validating Epoch 53/500: 100%|██████████| 11/11 [00:02<00:00,  3.89it/s, loss=0.00942]\n",
            "Training Epoch 54/500: 100%|██████████| 103/103 [00:25<00:00,  4.09it/s, loss=0.0121]\n",
            "Validating Epoch 54/500: 100%|██████████| 11/11 [00:02<00:00,  3.93it/s, loss=0.00971]\n",
            "Training Epoch 55/500: 100%|██████████| 103/103 [00:25<00:00,  4.09it/s, loss=0.0121]\n",
            "Validating Epoch 55/500: 100%|██████████| 11/11 [00:02<00:00,  3.88it/s, loss=0.00935]\n",
            "Training Epoch 56/500: 100%|██████████| 103/103 [00:25<00:00,  4.09it/s, loss=0.0115]\n",
            "Validating Epoch 56/500: 100%|██████████| 11/11 [00:02<00:00,  3.93it/s, loss=0.00934]\n",
            "Training Epoch 57/500: 100%|██████████| 103/103 [00:25<00:00,  4.12it/s, loss=0.0116]\n",
            "Validating Epoch 57/500: 100%|██████████| 11/11 [00:02<00:00,  3.97it/s, loss=0.00939]\n",
            "Training Epoch 58/500: 100%|██████████| 103/103 [00:24<00:00,  4.13it/s, loss=0.0119]\n",
            "Validating Epoch 58/500: 100%|██████████| 11/11 [00:02<00:00,  3.94it/s, loss=0.00952]\n",
            "Training Epoch 59/500: 100%|██████████| 103/103 [00:25<00:00,  4.11it/s, loss=0.012]\n",
            "Validating Epoch 59/500: 100%|██████████| 11/11 [00:02<00:00,  3.82it/s, loss=0.00931]\n",
            "Training Epoch 60/500: 100%|██████████| 103/103 [00:25<00:00,  4.08it/s, loss=0.0113]\n",
            "Validating Epoch 60/500: 100%|██████████| 11/11 [00:02<00:00,  3.92it/s, loss=0.00914]\n",
            "Training Epoch 61/500: 100%|██████████| 103/103 [00:25<00:00,  4.04it/s, loss=0.0112]\n",
            "Validating Epoch 61/500: 100%|██████████| 11/11 [00:02<00:00,  3.91it/s, loss=0.00947]\n",
            "Training Epoch 62/500: 100%|██████████| 103/103 [00:25<00:00,  4.08it/s, loss=0.0113]\n",
            "Validating Epoch 62/500: 100%|██████████| 11/11 [00:02<00:00,  3.96it/s, loss=0.00946]\n",
            "Training Epoch 63/500: 100%|██████████| 103/103 [00:25<00:00,  4.10it/s, loss=0.0112]\n",
            "Validating Epoch 63/500: 100%|██████████| 11/11 [00:02<00:00,  3.97it/s, loss=0.00926]\n",
            "Training Epoch 64/500: 100%|██████████| 103/103 [00:25<00:00,  4.10it/s, loss=0.0112]\n",
            "Validating Epoch 64/500: 100%|██████████| 11/11 [00:02<00:00,  3.95it/s, loss=0.00943]\n",
            "Training Epoch 65/500: 100%|██████████| 103/103 [00:25<00:00,  4.10it/s, loss=0.0108]\n",
            "Validating Epoch 65/500: 100%|██████████| 11/11 [00:02<00:00,  3.90it/s, loss=0.00898]\n",
            "Training Epoch 66/500: 100%|██████████| 103/103 [00:25<00:00,  4.08it/s, loss=0.0113]\n",
            "Validating Epoch 66/500: 100%|██████████| 11/11 [00:02<00:00,  3.92it/s, loss=0.00947]\n",
            "Training Epoch 67/500: 100%|██████████| 103/103 [00:25<00:00,  4.06it/s, loss=0.0108]\n",
            "Validating Epoch 67/500: 100%|██████████| 11/11 [00:02<00:00,  3.88it/s, loss=0.00927]\n",
            "Training Epoch 68/500: 100%|██████████| 103/103 [00:25<00:00,  4.06it/s, loss=0.0106]\n",
            "Validating Epoch 68/500: 100%|██████████| 11/11 [00:02<00:00,  3.80it/s, loss=0.00926]\n",
            "Training Epoch 69/500: 100%|██████████| 103/103 [00:25<00:00,  4.08it/s, loss=0.0103]\n",
            "Validating Epoch 69/500: 100%|██████████| 11/11 [00:02<00:00,  3.86it/s, loss=0.00912]\n",
            "Training Epoch 70/500: 100%|██████████| 103/103 [00:25<00:00,  4.05it/s, loss=0.0106]\n",
            "Validating Epoch 70/500: 100%|██████████| 11/11 [00:02<00:00,  3.92it/s, loss=0.00956]\n",
            "Training Epoch 71/500: 100%|██████████| 103/103 [00:25<00:00,  4.07it/s, loss=0.0101]\n",
            "Validating Epoch 71/500: 100%|██████████| 11/11 [00:02<00:00,  3.96it/s, loss=0.00945]\n",
            "Training Epoch 72/500: 100%|██████████| 103/103 [00:25<00:00,  4.07it/s, loss=0.0103]\n",
            "Validating Epoch 72/500: 100%|██████████| 11/11 [00:02<00:00,  3.93it/s, loss=0.00961]\n",
            "Training Epoch 73/500: 100%|██████████| 103/103 [00:25<00:00,  4.02it/s, loss=0.0106]\n",
            "Validating Epoch 73/500: 100%|██████████| 11/11 [00:02<00:00,  3.92it/s, loss=0.00949]\n",
            "Training Epoch 74/500: 100%|██████████| 103/103 [00:25<00:00,  4.04it/s, loss=0.0106]\n",
            "Validating Epoch 74/500: 100%|██████████| 11/11 [00:02<00:00,  3.90it/s, loss=0.0094]\n",
            "Training Epoch 75/500: 100%|██████████| 103/103 [00:25<00:00,  4.06it/s, loss=0.00987]\n",
            "Validating Epoch 75/500: 100%|██████████| 11/11 [00:02<00:00,  3.88it/s, loss=0.00975]\n",
            "Training Epoch 76/500: 100%|██████████| 103/103 [00:25<00:00,  4.09it/s, loss=0.00996]\n",
            "Validating Epoch 76/500: 100%|██████████| 11/11 [00:02<00:00,  3.97it/s, loss=0.00963]\n",
            "Training Epoch 77/500: 100%|██████████| 103/103 [00:25<00:00,  4.08it/s, loss=0.00941]\n",
            "Validating Epoch 77/500: 100%|██████████| 11/11 [00:02<00:00,  3.81it/s, loss=0.00977]\n",
            "Training Epoch 78/500: 100%|██████████| 103/103 [00:25<00:00,  4.07it/s, loss=0.0099]\n",
            "Validating Epoch 78/500: 100%|██████████| 11/11 [00:02<00:00,  3.93it/s, loss=0.00927]\n",
            "Training Epoch 79/500: 100%|██████████| 103/103 [00:25<00:00,  4.10it/s, loss=0.0101]\n",
            "Validating Epoch 79/500: 100%|██████████| 11/11 [00:02<00:00,  3.96it/s, loss=0.00908]\n",
            "Training Epoch 80/500: 100%|██████████| 103/103 [00:25<00:00,  4.11it/s, loss=0.00953]\n",
            "Validating Epoch 80/500: 100%|██████████| 11/11 [00:02<00:00,  3.92it/s, loss=0.00917]\n",
            "Training Epoch 81/500: 100%|██████████| 103/103 [00:25<00:00,  4.11it/s, loss=0.0103]\n",
            "Validating Epoch 81/500: 100%|██████████| 11/11 [00:02<00:00,  3.92it/s, loss=0.0094]\n",
            "Training Epoch 82/500: 100%|██████████| 103/103 [00:25<00:00,  4.10it/s, loss=0.0101]\n",
            "Validating Epoch 82/500: 100%|██████████| 11/11 [00:02<00:00,  3.95it/s, loss=0.00972]\n",
            "Training Epoch 83/500: 100%|██████████| 103/103 [00:25<00:00,  4.11it/s, loss=0.00909]\n",
            "Validating Epoch 83/500: 100%|██████████| 11/11 [00:02<00:00,  3.97it/s, loss=0.00942]\n",
            "Training Epoch 84/500: 100%|██████████| 103/103 [00:25<00:00,  4.10it/s, loss=0.00969]\n",
            "Validating Epoch 84/500: 100%|██████████| 11/11 [00:02<00:00,  3.95it/s, loss=0.00954]\n",
            "Training Epoch 85/500: 100%|██████████| 103/103 [00:25<00:00,  4.09it/s, loss=0.0104]\n",
            "Validating Epoch 85/500: 100%|██████████| 11/11 [00:02<00:00,  3.93it/s, loss=0.00918]\n",
            "Training Epoch 86/500: 100%|██████████| 103/103 [00:25<00:00,  4.10it/s, loss=0.0092]\n",
            "Validating Epoch 86/500: 100%|██████████| 11/11 [00:02<00:00,  3.94it/s, loss=0.00961]\n",
            "Training Epoch 87/500: 100%|██████████| 103/103 [00:25<00:00,  4.07it/s, loss=0.0097]\n",
            "Validating Epoch 87/500: 100%|██████████| 11/11 [00:02<00:00,  3.93it/s, loss=0.009]\n",
            "Training Epoch 88/500: 100%|██████████| 103/103 [00:25<00:00,  4.11it/s, loss=0.00922]\n",
            "Validating Epoch 88/500: 100%|██████████| 11/11 [00:02<00:00,  3.88it/s, loss=0.0095]\n",
            "Training Epoch 89/500: 100%|██████████| 103/103 [00:25<00:00,  4.09it/s, loss=0.00992]\n",
            "Validating Epoch 89/500: 100%|██████████| 11/11 [00:02<00:00,  3.89it/s, loss=0.00897]\n",
            "Training Epoch 90/500: 100%|██████████| 103/103 [00:25<00:00,  4.10it/s, loss=0.00992]\n",
            "Validating Epoch 90/500: 100%|██████████| 11/11 [00:02<00:00,  3.92it/s, loss=0.0096]\n",
            "Training Epoch 91/500: 100%|██████████| 103/103 [00:25<00:00,  4.06it/s, loss=0.0094]\n",
            "Validating Epoch 91/500: 100%|██████████| 11/11 [00:02<00:00,  3.98it/s, loss=0.00941]\n",
            "Training Epoch 92/500: 100%|██████████| 103/103 [00:25<00:00,  4.08it/s, loss=0.00996]\n",
            "Validating Epoch 92/500: 100%|██████████| 11/11 [00:02<00:00,  3.98it/s, loss=0.00888]\n",
            "Training Epoch 93/500: 100%|██████████| 103/103 [00:25<00:00,  4.12it/s, loss=0.00979]\n",
            "Validating Epoch 93/500: 100%|██████████| 11/11 [00:02<00:00,  3.88it/s, loss=0.00951]\n",
            "Training Epoch 94/500: 100%|██████████| 103/103 [00:25<00:00,  4.04it/s, loss=0.00985]\n",
            "Validating Epoch 94/500: 100%|██████████| 11/11 [00:02<00:00,  3.85it/s, loss=0.00905]\n",
            "Training Epoch 95/500: 100%|██████████| 103/103 [00:25<00:00,  4.05it/s, loss=0.00955]\n",
            "Validating Epoch 95/500: 100%|██████████| 11/11 [00:02<00:00,  3.92it/s, loss=0.00939]\n",
            "Training Epoch 96/500: 100%|██████████| 103/103 [00:25<00:00,  4.08it/s, loss=0.00993]\n",
            "Validating Epoch 96/500: 100%|██████████| 11/11 [00:02<00:00,  3.94it/s, loss=0.00939]\n",
            "Training Epoch 97/500: 100%|██████████| 103/103 [00:25<00:00,  4.07it/s, loss=0.00919]\n",
            "Validating Epoch 97/500: 100%|██████████| 11/11 [00:02<00:00,  3.92it/s, loss=0.00922]\n",
            "Training Epoch 98/500: 100%|██████████| 103/103 [00:25<00:00,  4.10it/s, loss=0.01]\n",
            "Validating Epoch 98/500: 100%|██████████| 11/11 [00:02<00:00,  3.94it/s, loss=0.00912]\n",
            "Training Epoch 99/500: 100%|██████████| 103/103 [00:25<00:00,  4.11it/s, loss=0.00952]\n",
            "Validating Epoch 99/500: 100%|██████████| 11/11 [00:02<00:00,  3.98it/s, loss=0.00971]\n",
            "Training Epoch 100/500: 100%|██████████| 103/103 [00:25<00:00,  4.09it/s, loss=0.00947]\n",
            "Validating Epoch 100/500: 100%|██████████| 11/11 [00:02<00:00,  3.95it/s, loss=0.00905]\n",
            "Training Epoch 101/500: 100%|██████████| 103/103 [00:25<00:00,  4.10it/s, loss=0.00955]\n",
            "Validating Epoch 101/500: 100%|██████████| 11/11 [00:02<00:00,  3.88it/s, loss=0.00892]\n",
            "Training Epoch 102/500: 100%|██████████| 103/103 [00:25<00:00,  4.10it/s, loss=0.00951]\n",
            "Validating Epoch 102/500: 100%|██████████| 11/11 [00:02<00:00,  4.03it/s, loss=0.00918]\n",
            "Training Epoch 103/500: 100%|██████████| 103/103 [00:25<00:00,  4.10it/s, loss=0.0094]\n",
            "Validating Epoch 103/500: 100%|██████████| 11/11 [00:02<00:00,  3.84it/s, loss=0.00912]\n",
            "Training Epoch 104/500: 100%|██████████| 103/103 [00:25<00:00,  4.09it/s, loss=0.00945]\n",
            "Validating Epoch 104/500: 100%|██████████| 11/11 [00:02<00:00,  3.99it/s, loss=0.00947]\n",
            "Training Epoch 105/500: 100%|██████████| 103/103 [00:24<00:00,  4.12it/s, loss=0.00992]\n",
            "Validating Epoch 105/500: 100%|██████████| 11/11 [00:02<00:00,  3.94it/s, loss=0.00941]\n",
            "Training Epoch 106/500: 100%|██████████| 103/103 [00:25<00:00,  4.09it/s, loss=0.00929]\n",
            "Validating Epoch 106/500: 100%|██████████| 11/11 [00:02<00:00,  3.89it/s, loss=0.00889]\n",
            "Training Epoch 107/500: 100%|██████████| 103/103 [00:25<00:00,  4.05it/s, loss=0.00982]\n",
            "Validating Epoch 107/500: 100%|██████████| 11/11 [00:02<00:00,  3.96it/s, loss=0.00924]\n",
            "Training Epoch 108/500: 100%|██████████| 103/103 [00:25<00:00,  4.10it/s, loss=0.0095]\n",
            "Validating Epoch 108/500: 100%|██████████| 11/11 [00:02<00:00,  3.93it/s, loss=0.00915]\n",
            "Training Epoch 109/500: 100%|██████████| 103/103 [00:25<00:00,  4.09it/s, loss=0.00927]\n",
            "Validating Epoch 109/500: 100%|██████████| 11/11 [00:02<00:00,  3.92it/s, loss=0.00912]\n",
            "Training Epoch 110/500: 100%|██████████| 103/103 [00:25<00:00,  4.09it/s, loss=0.00911]\n",
            "Validating Epoch 110/500: 100%|██████████| 11/11 [00:02<00:00,  3.90it/s, loss=0.00889]\n",
            "Training Epoch 111/500: 100%|██████████| 103/103 [00:25<00:00,  4.09it/s, loss=0.00874]\n",
            "Validating Epoch 111/500: 100%|██████████| 11/11 [00:02<00:00,  3.96it/s, loss=0.00887]\n",
            "Training Epoch 112/500: 100%|██████████| 103/103 [00:25<00:00,  4.10it/s, loss=0.00867]\n",
            "Validating Epoch 112/500: 100%|██████████| 11/11 [00:02<00:00,  3.98it/s, loss=0.00846]\n",
            "Training Epoch 113/500: 100%|██████████| 103/103 [00:25<00:00,  4.09it/s, loss=0.00896]\n",
            "Validating Epoch 113/500: 100%|██████████| 11/11 [00:02<00:00,  3.95it/s, loss=0.00897]\n",
            "Training Epoch 114/500: 100%|██████████| 103/103 [00:25<00:00,  4.09it/s, loss=0.00848]\n",
            "Validating Epoch 114/500: 100%|██████████| 11/11 [00:02<00:00,  3.95it/s, loss=0.00891]\n",
            "Training Epoch 115/500: 100%|██████████| 103/103 [00:25<00:00,  4.08it/s, loss=0.00879]\n",
            "Validating Epoch 115/500: 100%|██████████| 11/11 [00:02<00:00,  3.91it/s, loss=0.00866]\n",
            "Training Epoch 116/500: 100%|██████████| 103/103 [00:25<00:00,  4.11it/s, loss=0.00892]\n",
            "Validating Epoch 116/500: 100%|██████████| 11/11 [00:02<00:00,  3.96it/s, loss=0.00817]\n",
            "Training Epoch 117/500: 100%|██████████| 103/103 [00:25<00:00,  4.04it/s, loss=0.00893]\n",
            "Validating Epoch 117/500: 100%|██████████| 11/11 [00:02<00:00,  3.95it/s, loss=0.00868]\n",
            "Training Epoch 118/500: 100%|██████████| 103/103 [00:25<00:00,  4.11it/s, loss=0.00882]\n",
            "Validating Epoch 118/500: 100%|██████████| 11/11 [00:02<00:00,  3.91it/s, loss=0.00809]\n",
            "Training Epoch 119/500: 100%|██████████| 103/103 [00:25<00:00,  4.04it/s, loss=0.00824]\n",
            "Validating Epoch 119/500: 100%|██████████| 11/11 [00:02<00:00,  3.93it/s, loss=0.00808]\n",
            "Training Epoch 120/500: 100%|██████████| 103/103 [00:25<00:00,  4.06it/s, loss=0.00904]\n",
            "Validating Epoch 120/500: 100%|██████████| 11/11 [00:02<00:00,  3.97it/s, loss=0.00823]\n",
            "Training Epoch 121/500: 100%|██████████| 103/103 [00:25<00:00,  4.05it/s, loss=0.00771]\n",
            "Validating Epoch 121/500: 100%|██████████| 11/11 [00:02<00:00,  3.94it/s, loss=0.00773]\n",
            "Training Epoch 122/500: 100%|██████████| 103/103 [00:25<00:00,  4.08it/s, loss=0.00808]\n",
            "Validating Epoch 122/500: 100%|██████████| 11/11 [00:02<00:00,  3.92it/s, loss=0.0075]\n",
            "Training Epoch 123/500: 100%|██████████| 103/103 [00:25<00:00,  4.10it/s, loss=0.00827]\n",
            "Validating Epoch 123/500: 100%|██████████| 11/11 [00:02<00:00,  3.96it/s, loss=0.00746]\n",
            "Training Epoch 124/500: 100%|██████████| 103/103 [00:25<00:00,  4.08it/s, loss=0.00788]\n",
            "Validating Epoch 124/500: 100%|██████████| 11/11 [00:02<00:00,  3.97it/s, loss=0.0075]\n",
            "Training Epoch 125/500: 100%|██████████| 103/103 [00:25<00:00,  4.12it/s, loss=0.00779]\n",
            "Validating Epoch 125/500: 100%|██████████| 11/11 [00:02<00:00,  3.85it/s, loss=0.00724]\n",
            "Training Epoch 126/500: 100%|██████████| 103/103 [00:25<00:00,  4.11it/s, loss=0.00793]\n",
            "Validating Epoch 126/500: 100%|██████████| 11/11 [00:02<00:00,  3.98it/s, loss=0.00715]\n",
            "Training Epoch 127/500: 100%|██████████| 103/103 [00:25<00:00,  4.10it/s, loss=0.0076]\n",
            "Validating Epoch 127/500: 100%|██████████| 11/11 [00:02<00:00,  3.92it/s, loss=0.00745]\n",
            "Training Epoch 128/500: 100%|██████████| 103/103 [00:25<00:00,  4.05it/s, loss=0.0078]\n",
            "Validating Epoch 128/500: 100%|██████████| 11/11 [00:02<00:00,  3.86it/s, loss=0.00718]\n",
            "Training Epoch 129/500: 100%|██████████| 103/103 [00:25<00:00,  4.11it/s, loss=0.00806]\n",
            "Validating Epoch 129/500: 100%|██████████| 11/11 [00:02<00:00,  3.93it/s, loss=0.00692]\n",
            "Training Epoch 130/500: 100%|██████████| 103/103 [00:25<00:00,  4.09it/s, loss=0.00715]\n",
            "Validating Epoch 130/500: 100%|██████████| 11/11 [00:02<00:00,  3.89it/s, loss=0.00712]\n",
            "Training Epoch 131/500: 100%|██████████| 103/103 [00:25<00:00,  4.10it/s, loss=0.00774]\n",
            "Validating Epoch 131/500: 100%|██████████| 11/11 [00:02<00:00,  3.85it/s, loss=0.00684]\n",
            "Training Epoch 132/500: 100%|██████████| 103/103 [00:25<00:00,  4.10it/s, loss=0.00741]\n",
            "Validating Epoch 132/500: 100%|██████████| 11/11 [00:02<00:00,  3.89it/s, loss=0.00695]\n",
            "Training Epoch 133/500: 100%|██████████| 103/103 [00:25<00:00,  4.06it/s, loss=0.00706]\n",
            "Validating Epoch 133/500: 100%|██████████| 11/11 [00:02<00:00,  3.94it/s, loss=0.00674]\n",
            "Training Epoch 134/500: 100%|██████████| 103/103 [00:25<00:00,  4.09it/s, loss=0.00757]\n",
            "Validating Epoch 134/500: 100%|██████████| 11/11 [00:02<00:00,  3.91it/s, loss=0.00651]\n",
            "Training Epoch 135/500: 100%|██████████| 103/103 [00:25<00:00,  4.11it/s, loss=0.0068]\n",
            "Validating Epoch 135/500: 100%|██████████| 11/11 [00:02<00:00,  3.91it/s, loss=0.00676]\n",
            "Training Epoch 136/500: 100%|██████████| 103/103 [00:25<00:00,  4.11it/s, loss=0.00674]\n",
            "Validating Epoch 136/500: 100%|██████████| 11/11 [00:02<00:00,  3.94it/s, loss=0.00628]\n",
            "Training Epoch 137/500: 100%|██████████| 103/103 [00:25<00:00,  4.09it/s, loss=0.00738]\n",
            "Validating Epoch 137/500: 100%|██████████| 11/11 [00:02<00:00,  3.90it/s, loss=0.00671]\n",
            "Training Epoch 138/500: 100%|██████████| 103/103 [00:25<00:00,  4.08it/s, loss=0.00671]\n",
            "Validating Epoch 138/500: 100%|██████████| 11/11 [00:02<00:00,  3.93it/s, loss=0.00658]\n",
            "Training Epoch 139/500: 100%|██████████| 103/103 [00:25<00:00,  4.11it/s, loss=0.00674]\n",
            "Validating Epoch 139/500: 100%|██████████| 11/11 [00:02<00:00,  3.96it/s, loss=0.00658]\n",
            "Training Epoch 140/500: 100%|██████████| 103/103 [00:25<00:00,  4.08it/s, loss=0.00689]\n",
            "Validating Epoch 140/500: 100%|██████████| 11/11 [00:02<00:00,  3.91it/s, loss=0.0067]\n",
            "Training Epoch 141/500: 100%|██████████| 103/103 [00:25<00:00,  4.05it/s, loss=0.00675]\n",
            "Validating Epoch 141/500: 100%|██████████| 11/11 [00:02<00:00,  3.95it/s, loss=0.00629]\n",
            "Training Epoch 142/500: 100%|██████████| 103/103 [00:25<00:00,  4.05it/s, loss=0.00635]\n",
            "Validating Epoch 142/500: 100%|██████████| 11/11 [00:02<00:00,  3.97it/s, loss=0.0058]\n",
            "Training Epoch 143/500: 100%|██████████| 103/103 [00:25<00:00,  4.10it/s, loss=0.00652]\n",
            "Validating Epoch 143/500: 100%|██████████| 11/11 [00:02<00:00,  3.95it/s, loss=0.00595]\n",
            "Training Epoch 144/500: 100%|██████████| 103/103 [00:25<00:00,  4.10it/s, loss=0.0066]\n",
            "Validating Epoch 144/500: 100%|██████████| 11/11 [00:02<00:00,  3.93it/s, loss=0.00608]\n",
            "Training Epoch 145/500: 100%|██████████| 103/103 [00:24<00:00,  4.13it/s, loss=0.00631]\n",
            "Validating Epoch 145/500: 100%|██████████| 11/11 [00:02<00:00,  3.98it/s, loss=0.0057]\n",
            "Training Epoch 146/500: 100%|██████████| 103/103 [00:25<00:00,  4.10it/s, loss=0.00671]\n",
            "Validating Epoch 146/500: 100%|██████████| 11/11 [00:02<00:00,  3.94it/s, loss=0.00572]\n",
            "Training Epoch 147/500: 100%|██████████| 103/103 [00:25<00:00,  4.09it/s, loss=0.00624]\n",
            "Validating Epoch 147/500: 100%|██████████| 11/11 [00:02<00:00,  3.92it/s, loss=0.00555]\n",
            "Training Epoch 148/500: 100%|██████████| 103/103 [00:25<00:00,  4.04it/s, loss=0.00675]\n",
            "Validating Epoch 148/500: 100%|██████████| 11/11 [00:02<00:00,  3.95it/s, loss=0.00601]\n",
            "Training Epoch 149/500: 100%|██████████| 103/103 [00:25<00:00,  4.09it/s, loss=0.00655]\n",
            "Validating Epoch 149/500: 100%|██████████| 11/11 [00:02<00:00,  3.95it/s, loss=0.00555]\n",
            "Training Epoch 150/500: 100%|██████████| 103/103 [00:25<00:00,  4.06it/s, loss=0.00606]\n",
            "Validating Epoch 150/500: 100%|██████████| 11/11 [00:02<00:00,  3.91it/s, loss=0.00565]\n",
            "Training Epoch 151/500: 100%|██████████| 103/103 [00:25<00:00,  4.06it/s, loss=0.00659]\n",
            "Validating Epoch 151/500: 100%|██████████| 11/11 [00:02<00:00,  3.94it/s, loss=0.00586]\n",
            "Training Epoch 152/500: 100%|██████████| 103/103 [00:25<00:00,  4.05it/s, loss=0.006]\n",
            "Validating Epoch 152/500: 100%|██████████| 11/11 [00:02<00:00,  3.85it/s, loss=0.00531]\n",
            "Training Epoch 153/500: 100%|██████████| 103/103 [00:25<00:00,  4.10it/s, loss=0.00657]\n",
            "Validating Epoch 153/500: 100%|██████████| 11/11 [00:02<00:00,  3.86it/s, loss=0.00568]\n",
            "Training Epoch 154/500: 100%|██████████| 103/103 [00:25<00:00,  4.06it/s, loss=0.00612]\n",
            "Validating Epoch 154/500: 100%|██████████| 11/11 [00:02<00:00,  3.95it/s, loss=0.00539]\n",
            "Training Epoch 155/500: 100%|██████████| 103/103 [00:25<00:00,  4.05it/s, loss=0.00612]\n",
            "Validating Epoch 155/500: 100%|██████████| 11/11 [00:02<00:00,  3.95it/s, loss=0.00577]\n",
            "Training Epoch 156/500: 100%|██████████| 103/103 [00:25<00:00,  4.10it/s, loss=0.00582]\n",
            "Validating Epoch 156/500: 100%|██████████| 11/11 [00:02<00:00,  3.91it/s, loss=0.0055]\n",
            "Training Epoch 157/500: 100%|██████████| 103/103 [00:25<00:00,  4.07it/s, loss=0.00586]\n",
            "Validating Epoch 157/500: 100%|██████████| 11/11 [00:02<00:00,  3.96it/s, loss=0.0055]\n",
            "Training Epoch 158/500: 100%|██████████| 103/103 [00:25<00:00,  4.04it/s, loss=0.00553]\n",
            "Validating Epoch 158/500: 100%|██████████| 11/11 [00:02<00:00,  3.93it/s, loss=0.00537]\n",
            "Training Epoch 159/500: 100%|██████████| 103/103 [00:25<00:00,  4.06it/s, loss=0.00595]\n",
            "Validating Epoch 159/500: 100%|██████████| 11/11 [00:02<00:00,  3.91it/s, loss=0.0054]\n",
            "Training Epoch 160/500: 100%|██████████| 103/103 [00:25<00:00,  4.09it/s, loss=0.00546]\n",
            "Validating Epoch 160/500: 100%|██████████| 11/11 [00:02<00:00,  3.97it/s, loss=0.00489]\n",
            "Training Epoch 161/500: 100%|██████████| 103/103 [00:25<00:00,  4.08it/s, loss=0.00578]\n",
            "Validating Epoch 161/500: 100%|██████████| 11/11 [00:02<00:00,  3.99it/s, loss=0.00531]\n",
            "Training Epoch 162/500: 100%|██████████| 103/103 [00:25<00:00,  4.04it/s, loss=0.00575]\n",
            "Validating Epoch 162/500: 100%|██████████| 11/11 [00:02<00:00,  3.94it/s, loss=0.00572]\n",
            "Training Epoch 163/500: 100%|██████████| 103/103 [00:25<00:00,  4.09it/s, loss=0.00563]\n",
            "Validating Epoch 163/500: 100%|██████████| 11/11 [00:02<00:00,  3.96it/s, loss=0.00494]\n",
            "Training Epoch 164/500: 100%|██████████| 103/103 [00:25<00:00,  4.04it/s, loss=0.00598]\n",
            "Validating Epoch 164/500: 100%|██████████| 11/11 [00:02<00:00,  3.98it/s, loss=0.00501]\n",
            "Training Epoch 165/500: 100%|██████████| 103/103 [00:25<00:00,  4.03it/s, loss=0.00552]\n",
            "Validating Epoch 165/500: 100%|██████████| 11/11 [00:02<00:00,  3.91it/s, loss=0.00502]\n",
            "Training Epoch 166/500: 100%|██████████| 103/103 [00:25<00:00,  4.09it/s, loss=0.00546]\n",
            "Validating Epoch 166/500: 100%|██████████| 11/11 [00:02<00:00,  3.95it/s, loss=0.00484]\n",
            "Training Epoch 167/500: 100%|██████████| 103/103 [00:25<00:00,  4.08it/s, loss=0.00583]\n",
            "Validating Epoch 167/500: 100%|██████████| 11/11 [00:02<00:00,  3.93it/s, loss=0.00533]\n",
            "Training Epoch 168/500: 100%|██████████| 103/103 [00:25<00:00,  4.10it/s, loss=0.0061]\n",
            "Validating Epoch 168/500: 100%|██████████| 11/11 [00:02<00:00,  3.90it/s, loss=0.0049]\n",
            "Training Epoch 169/500: 100%|██████████| 103/103 [00:25<00:00,  4.10it/s, loss=0.00531]\n",
            "Validating Epoch 169/500: 100%|██████████| 11/11 [00:02<00:00,  3.91it/s, loss=0.00504]\n",
            "Training Epoch 170/500: 100%|██████████| 103/103 [00:25<00:00,  4.10it/s, loss=0.00556]\n",
            "Validating Epoch 170/500: 100%|██████████| 11/11 [00:02<00:00,  3.93it/s, loss=0.00478]\n",
            "Training Epoch 171/500: 100%|██████████| 103/103 [00:25<00:00,  4.09it/s, loss=0.00532]\n",
            "Validating Epoch 171/500: 100%|██████████| 11/11 [00:02<00:00,  3.88it/s, loss=0.00471]\n",
            "Training Epoch 172/500: 100%|██████████| 103/103 [00:25<00:00,  4.04it/s, loss=0.00549]\n",
            "Validating Epoch 172/500: 100%|██████████| 11/11 [00:02<00:00,  3.92it/s, loss=0.00494]\n",
            "Training Epoch 173/500: 100%|██████████| 103/103 [00:25<00:00,  4.11it/s, loss=0.00558]\n",
            "Validating Epoch 173/500: 100%|██████████| 11/11 [00:02<00:00,  3.98it/s, loss=0.00491]\n",
            "Training Epoch 174/500: 100%|██████████| 103/103 [00:25<00:00,  4.09it/s, loss=0.0057]\n",
            "Validating Epoch 174/500: 100%|██████████| 11/11 [00:02<00:00,  3.88it/s, loss=0.00452]\n",
            "Training Epoch 175/500: 100%|██████████| 103/103 [00:25<00:00,  4.10it/s, loss=0.00536]\n",
            "Validating Epoch 175/500: 100%|██████████| 11/11 [00:02<00:00,  3.95it/s, loss=0.00491]\n",
            "Training Epoch 176/500: 100%|██████████| 103/103 [00:25<00:00,  4.11it/s, loss=0.00512]\n",
            "Validating Epoch 176/500: 100%|██████████| 11/11 [00:02<00:00,  3.95it/s, loss=0.00491]\n",
            "Training Epoch 177/500: 100%|██████████| 103/103 [00:24<00:00,  4.13it/s, loss=0.00517]\n",
            "Validating Epoch 177/500: 100%|██████████| 11/11 [00:02<00:00,  3.94it/s, loss=0.00486]\n",
            "Training Epoch 178/500: 100%|██████████| 103/103 [00:25<00:00,  4.08it/s, loss=0.0053]\n",
            "Validating Epoch 178/500: 100%|██████████| 11/11 [00:02<00:00,  3.96it/s, loss=0.00451]\n",
            "Training Epoch 179/500: 100%|██████████| 103/103 [00:25<00:00,  4.11it/s, loss=0.0053]\n",
            "Validating Epoch 179/500: 100%|██████████| 11/11 [00:02<00:00,  3.95it/s, loss=0.00486]\n",
            "Training Epoch 180/500: 100%|██████████| 103/103 [00:25<00:00,  4.09it/s, loss=0.0047]\n",
            "Validating Epoch 180/500: 100%|██████████| 11/11 [00:02<00:00,  3.92it/s, loss=0.00442]\n",
            "Training Epoch 181/500: 100%|██████████| 103/103 [00:25<00:00,  4.10it/s, loss=0.00498]\n",
            "Validating Epoch 181/500: 100%|██████████| 11/11 [00:02<00:00,  3.86it/s, loss=0.00474]\n",
            "Training Epoch 182/500: 100%|██████████| 103/103 [00:25<00:00,  4.09it/s, loss=0.00473]\n",
            "Validating Epoch 182/500: 100%|██████████| 11/11 [00:02<00:00,  3.85it/s, loss=0.00479]\n",
            "Training Epoch 183/500: 100%|██████████| 103/103 [00:25<00:00,  4.10it/s, loss=0.00476]\n",
            "Validating Epoch 183/500: 100%|██████████| 11/11 [00:02<00:00,  3.92it/s, loss=0.00428]\n",
            "Training Epoch 184/500: 100%|██████████| 103/103 [00:25<00:00,  4.08it/s, loss=0.0051]\n",
            "Validating Epoch 184/500: 100%|██████████| 11/11 [00:02<00:00,  3.84it/s, loss=0.00472]\n",
            "Training Epoch 185/500: 100%|██████████| 103/103 [00:25<00:00,  4.10it/s, loss=0.0047]\n",
            "Validating Epoch 185/500: 100%|██████████| 11/11 [00:02<00:00,  3.91it/s, loss=0.00424]\n",
            "Training Epoch 186/500: 100%|██████████| 103/103 [00:25<00:00,  3.97it/s, loss=0.00532]\n",
            "Validating Epoch 186/500: 100%|██████████| 11/11 [00:02<00:00,  3.92it/s, loss=0.004]\n",
            "Training Epoch 187/500: 100%|██████████| 103/103 [00:25<00:00,  4.01it/s, loss=0.00502]\n",
            "Validating Epoch 187/500: 100%|██████████| 11/11 [00:02<00:00,  3.82it/s, loss=0.00416]\n",
            "Training Epoch 188/500: 100%|██████████| 103/103 [00:25<00:00,  3.98it/s, loss=0.00501]\n",
            "Validating Epoch 188/500: 100%|██████████| 11/11 [00:02<00:00,  3.99it/s, loss=0.00436]\n",
            "Training Epoch 189/500: 100%|██████████| 103/103 [00:25<00:00,  4.05it/s, loss=0.00485]\n",
            "Validating Epoch 189/500: 100%|██████████| 11/11 [00:02<00:00,  3.90it/s, loss=0.00458]\n",
            "Training Epoch 190/500: 100%|██████████| 103/103 [00:26<00:00,  3.93it/s, loss=0.00466]\n",
            "Validating Epoch 190/500: 100%|██████████| 11/11 [00:02<00:00,  3.79it/s, loss=0.00425]\n",
            "Training Epoch 191/500: 100%|██████████| 103/103 [00:25<00:00,  4.01it/s, loss=0.00457]\n",
            "Validating Epoch 191/500: 100%|██████████| 11/11 [00:02<00:00,  3.96it/s, loss=0.00449]\n",
            "Training Epoch 192/500: 100%|██████████| 103/103 [00:25<00:00,  4.06it/s, loss=0.0046]\n",
            "Validating Epoch 192/500: 100%|██████████| 11/11 [00:02<00:00,  3.88it/s, loss=0.00432]\n",
            "Training Epoch 193/500: 100%|██████████| 103/103 [00:25<00:00,  4.05it/s, loss=0.0045]\n",
            "Validating Epoch 193/500: 100%|██████████| 11/11 [00:02<00:00,  3.93it/s, loss=0.00414]\n",
            "Training Epoch 194/500: 100%|██████████| 103/103 [00:25<00:00,  4.06it/s, loss=0.00487]\n",
            "Validating Epoch 194/500: 100%|██████████| 11/11 [00:02<00:00,  3.96it/s, loss=0.00434]\n",
            "Training Epoch 195/500: 100%|██████████| 103/103 [00:25<00:00,  4.09it/s, loss=0.00463]\n",
            "Validating Epoch 195/500: 100%|██████████| 11/11 [00:02<00:00,  3.94it/s, loss=0.00433]\n",
            "Training Epoch 196/500: 100%|██████████| 103/103 [00:25<00:00,  4.11it/s, loss=0.00473]\n",
            "Validating Epoch 196/500: 100%|██████████| 11/11 [00:02<00:00,  3.98it/s, loss=0.00399]\n",
            "Training Epoch 197/500: 100%|██████████| 103/103 [00:25<00:00,  4.09it/s, loss=0.00463]\n",
            "Validating Epoch 197/500: 100%|██████████| 11/11 [00:02<00:00,  3.96it/s, loss=0.00362]\n",
            "Training Epoch 198/500: 100%|██████████| 103/103 [00:25<00:00,  4.06it/s, loss=0.00459]\n",
            "Validating Epoch 198/500: 100%|██████████| 11/11 [00:02<00:00,  3.94it/s, loss=0.00407]\n",
            "Training Epoch 199/500: 100%|██████████| 103/103 [00:25<00:00,  4.08it/s, loss=0.00429]\n",
            "Validating Epoch 199/500: 100%|██████████| 11/11 [00:02<00:00,  3.87it/s, loss=0.00378]\n",
            "Training Epoch 200/500: 100%|██████████| 103/103 [00:25<00:00,  4.09it/s, loss=0.00433]\n",
            "Validating Epoch 200/500: 100%|██████████| 11/11 [00:02<00:00,  3.94it/s, loss=0.00408]\n",
            "Training Epoch 201/500: 100%|██████████| 103/103 [00:25<00:00,  4.11it/s, loss=0.00454]\n",
            "Validating Epoch 201/500: 100%|██████████| 11/11 [00:02<00:00,  3.95it/s, loss=0.004]\n",
            "Training Epoch 202/500: 100%|██████████| 103/103 [00:25<00:00,  4.08it/s, loss=0.00436]\n",
            "Validating Epoch 202/500: 100%|██████████| 11/11 [00:02<00:00,  3.94it/s, loss=0.00463]\n",
            "Training Epoch 203/500: 100%|██████████| 103/103 [00:25<00:00,  4.10it/s, loss=0.0043]\n",
            "Validating Epoch 203/500: 100%|██████████| 11/11 [00:02<00:00,  3.97it/s, loss=0.00399]\n",
            "Training Epoch 204/500: 100%|██████████| 103/103 [00:25<00:00,  4.08it/s, loss=0.00439]\n",
            "Validating Epoch 204/500: 100%|██████████| 11/11 [00:02<00:00,  3.98it/s, loss=0.00413]\n",
            "Training Epoch 205/500: 100%|██████████| 103/103 [00:25<00:00,  4.08it/s, loss=0.00469]\n",
            "Validating Epoch 205/500: 100%|██████████| 11/11 [00:02<00:00,  3.91it/s, loss=0.00374]\n",
            "Training Epoch 206/500: 100%|██████████| 103/103 [00:25<00:00,  4.08it/s, loss=0.00438]\n",
            "Validating Epoch 206/500: 100%|██████████| 11/11 [00:02<00:00,  3.96it/s, loss=0.004]\n",
            "Training Epoch 207/500: 100%|██████████| 103/103 [00:25<00:00,  4.11it/s, loss=0.00465]\n",
            "Validating Epoch 207/500: 100%|██████████| 11/11 [00:02<00:00,  3.92it/s, loss=0.00372]\n",
            "Training Epoch 208/500: 100%|██████████| 103/103 [00:25<00:00,  4.09it/s, loss=0.00441]\n",
            "Validating Epoch 208/500: 100%|██████████| 11/11 [00:02<00:00,  3.90it/s, loss=0.00367]\n",
            "Training Epoch 209/500: 100%|██████████| 103/103 [00:25<00:00,  4.05it/s, loss=0.00421]\n",
            "Validating Epoch 209/500: 100%|██████████| 11/11 [00:02<00:00,  3.90it/s, loss=0.00331]\n",
            "Training Epoch 210/500: 100%|██████████| 103/103 [00:25<00:00,  4.07it/s, loss=0.00468]\n",
            "Validating Epoch 210/500: 100%|██████████| 11/11 [00:02<00:00,  3.96it/s, loss=0.00424]\n",
            "Training Epoch 211/500: 100%|██████████| 103/103 [00:25<00:00,  4.07it/s, loss=0.00428]\n",
            "Validating Epoch 211/500: 100%|██████████| 11/11 [00:02<00:00,  3.95it/s, loss=0.00419]\n",
            "Training Epoch 212/500: 100%|██████████| 103/103 [00:25<00:00,  4.03it/s, loss=0.00431]\n",
            "Validating Epoch 212/500: 100%|██████████| 11/11 [00:02<00:00,  3.92it/s, loss=0.00376]\n",
            "Training Epoch 213/500: 100%|██████████| 103/103 [00:25<00:00,  4.09it/s, loss=0.00432]\n",
            "Validating Epoch 213/500: 100%|██████████| 11/11 [00:02<00:00,  3.96it/s, loss=0.00385]\n",
            "Training Epoch 214/500: 100%|██████████| 103/103 [00:25<00:00,  4.09it/s, loss=0.00416]\n",
            "Validating Epoch 214/500: 100%|██████████| 11/11 [00:02<00:00,  3.87it/s, loss=0.00335]\n",
            "Training Epoch 215/500: 100%|██████████| 103/103 [00:25<00:00,  4.07it/s, loss=0.00429]\n",
            "Validating Epoch 215/500: 100%|██████████| 11/11 [00:02<00:00,  3.97it/s, loss=0.00351]\n",
            "Training Epoch 216/500: 100%|██████████| 103/103 [00:25<00:00,  4.10it/s, loss=0.00412]\n",
            "Validating Epoch 216/500: 100%|██████████| 11/11 [00:02<00:00,  3.92it/s, loss=0.00388]\n",
            "Training Epoch 217/500: 100%|██████████| 103/103 [00:25<00:00,  4.11it/s, loss=0.00429]\n",
            "Validating Epoch 217/500: 100%|██████████| 11/11 [00:02<00:00,  3.94it/s, loss=0.00358]\n",
            "Training Epoch 218/500: 100%|██████████| 103/103 [00:25<00:00,  4.09it/s, loss=0.00465]\n",
            "Validating Epoch 218/500: 100%|██████████| 11/11 [00:02<00:00,  3.94it/s, loss=0.00364]\n",
            "Training Epoch 219/500: 100%|██████████| 103/103 [00:25<00:00,  4.12it/s, loss=0.00418]\n",
            "Validating Epoch 219/500: 100%|██████████| 11/11 [00:02<00:00,  3.97it/s, loss=0.00403]\n",
            "Training Epoch 220/500: 100%|██████████| 103/103 [00:25<00:00,  4.10it/s, loss=0.00431]\n",
            "Validating Epoch 220/500: 100%|██████████| 11/11 [00:02<00:00,  3.90it/s, loss=0.00339]\n",
            "Training Epoch 221/500: 100%|██████████| 103/103 [00:25<00:00,  4.07it/s, loss=0.00396]\n",
            "Validating Epoch 221/500: 100%|██████████| 11/11 [00:02<00:00,  3.94it/s, loss=0.00364]\n",
            "Training Epoch 222/500: 100%|██████████| 103/103 [00:25<00:00,  4.10it/s, loss=0.00415]\n",
            "Validating Epoch 222/500: 100%|██████████| 11/11 [00:02<00:00,  3.93it/s, loss=0.00343]\n",
            "Training Epoch 223/500: 100%|██████████| 103/103 [00:24<00:00,  4.12it/s, loss=0.00404]\n",
            "Validating Epoch 223/500: 100%|██████████| 11/11 [00:02<00:00,  3.92it/s, loss=0.00349]\n",
            "Training Epoch 224/500: 100%|██████████| 103/103 [00:25<00:00,  4.09it/s, loss=0.00395]\n",
            "Validating Epoch 224/500: 100%|██████████| 11/11 [00:02<00:00,  3.88it/s, loss=0.00348]\n",
            "Training Epoch 225/500: 100%|██████████| 103/103 [00:25<00:00,  4.08it/s, loss=0.00382]\n",
            "Validating Epoch 225/500: 100%|██████████| 11/11 [00:02<00:00,  3.99it/s, loss=0.0039]\n",
            "Training Epoch 226/500: 100%|██████████| 103/103 [00:25<00:00,  4.10it/s, loss=0.0038]\n",
            "Validating Epoch 226/500: 100%|██████████| 11/11 [00:02<00:00,  3.88it/s, loss=0.00361]\n",
            "Training Epoch 227/500: 100%|██████████| 103/103 [00:24<00:00,  4.13it/s, loss=0.00392]\n",
            "Validating Epoch 227/500: 100%|██████████| 11/11 [00:02<00:00,  4.00it/s, loss=0.0033]\n",
            "Training Epoch 228/500: 100%|██████████| 103/103 [00:25<00:00,  4.06it/s, loss=0.00397]\n",
            "Validating Epoch 228/500: 100%|██████████| 11/11 [00:02<00:00,  3.92it/s, loss=0.00335]\n",
            "Training Epoch 229/500: 100%|██████████| 103/103 [00:25<00:00,  4.05it/s, loss=0.00402]\n",
            "Validating Epoch 229/500: 100%|██████████| 11/11 [00:02<00:00,  3.95it/s, loss=0.00359]\n",
            "Training Epoch 230/500: 100%|██████████| 103/103 [00:25<00:00,  4.10it/s, loss=0.00421]\n",
            "Validating Epoch 230/500: 100%|██████████| 11/11 [00:02<00:00,  3.97it/s, loss=0.00367]\n",
            "Training Epoch 231/500: 100%|██████████| 103/103 [00:25<00:00,  4.10it/s, loss=0.00358]\n",
            "Validating Epoch 231/500: 100%|██████████| 11/11 [00:02<00:00,  3.96it/s, loss=0.00369]\n",
            "Training Epoch 232/500: 100%|██████████| 103/103 [00:25<00:00,  4.08it/s, loss=0.00371]\n",
            "Validating Epoch 232/500: 100%|██████████| 11/11 [00:02<00:00,  3.89it/s, loss=0.00316]\n",
            "Training Epoch 233/500: 100%|██████████| 103/103 [00:25<00:00,  4.10it/s, loss=0.00371]\n",
            "Validating Epoch 233/500: 100%|██████████| 11/11 [00:02<00:00,  3.90it/s, loss=0.00326]\n",
            "Training Epoch 234/500: 100%|██████████| 103/103 [00:25<00:00,  4.10it/s, loss=0.00392]\n",
            "Validating Epoch 234/500: 100%|██████████| 11/11 [00:02<00:00,  3.90it/s, loss=0.00364]\n",
            "Training Epoch 235/500: 100%|██████████| 103/103 [00:25<00:00,  4.11it/s, loss=0.00342]\n",
            "Validating Epoch 235/500: 100%|██████████| 11/11 [00:02<00:00,  3.89it/s, loss=0.00359]\n",
            "Training Epoch 236/500: 100%|██████████| 103/103 [00:25<00:00,  4.05it/s, loss=0.00383]\n",
            "Validating Epoch 236/500: 100%|██████████| 11/11 [00:02<00:00,  3.88it/s, loss=0.00307]\n",
            "Training Epoch 237/500: 100%|██████████| 103/103 [00:25<00:00,  4.09it/s, loss=0.00396]\n",
            "Validating Epoch 237/500: 100%|██████████| 11/11 [00:02<00:00,  3.93it/s, loss=0.00389]\n",
            "Training Epoch 238/500: 100%|██████████| 103/103 [00:25<00:00,  4.09it/s, loss=0.00377]\n",
            "Validating Epoch 238/500: 100%|██████████| 11/11 [00:02<00:00,  3.95it/s, loss=0.00328]\n",
            "Training Epoch 239/500: 100%|██████████| 103/103 [00:25<00:00,  4.11it/s, loss=0.00383]\n",
            "Validating Epoch 239/500: 100%|██████████| 11/11 [00:02<00:00,  3.81it/s, loss=0.00369]\n",
            "Training Epoch 240/500: 100%|██████████| 103/103 [00:25<00:00,  4.10it/s, loss=0.0039]\n",
            "Validating Epoch 240/500: 100%|██████████| 11/11 [00:02<00:00,  3.86it/s, loss=0.00324]\n",
            "Training Epoch 241/500: 100%|██████████| 103/103 [00:25<00:00,  4.12it/s, loss=0.00372]\n",
            "Validating Epoch 241/500: 100%|██████████| 11/11 [00:02<00:00,  3.95it/s, loss=0.0031]\n",
            "Training Epoch 242/500: 100%|██████████| 103/103 [00:25<00:00,  4.09it/s, loss=0.00368]\n",
            "Validating Epoch 242/500: 100%|██████████| 11/11 [00:02<00:00,  3.88it/s, loss=0.0033]\n",
            "Training Epoch 243/500: 100%|██████████| 103/103 [00:25<00:00,  4.10it/s, loss=0.00346]\n",
            "Validating Epoch 243/500: 100%|██████████| 11/11 [00:02<00:00,  3.94it/s, loss=0.00301]\n",
            "Training Epoch 244/500: 100%|██████████| 103/103 [00:25<00:00,  4.08it/s, loss=0.00383]\n",
            "Validating Epoch 244/500: 100%|██████████| 11/11 [00:02<00:00,  3.97it/s, loss=0.00299]\n",
            "Training Epoch 245/500: 100%|██████████| 103/103 [00:25<00:00,  4.10it/s, loss=0.00359]\n",
            "Validating Epoch 245/500: 100%|██████████| 11/11 [00:02<00:00,  3.92it/s, loss=0.0032]\n",
            "Training Epoch 246/500: 100%|██████████| 103/103 [00:25<00:00,  4.08it/s, loss=0.00338]\n",
            "Validating Epoch 246/500: 100%|██████████| 11/11 [00:02<00:00,  3.96it/s, loss=0.00325]\n",
            "Training Epoch 247/500: 100%|██████████| 103/103 [00:24<00:00,  4.12it/s, loss=0.0036]\n",
            "Validating Epoch 247/500: 100%|██████████| 11/11 [00:02<00:00,  3.96it/s, loss=0.00339]\n",
            "Training Epoch 248/500: 100%|██████████| 103/103 [00:25<00:00,  3.98it/s, loss=0.00347]\n",
            "Validating Epoch 248/500: 100%|██████████| 11/11 [00:02<00:00,  3.96it/s, loss=0.00336]\n",
            "Training Epoch 249/500: 100%|██████████| 103/103 [00:25<00:00,  4.03it/s, loss=0.00353]\n",
            "Validating Epoch 249/500: 100%|██████████| 11/11 [00:02<00:00,  3.97it/s, loss=0.00327]\n",
            "Training Epoch 250/500: 100%|██████████| 103/103 [00:25<00:00,  4.11it/s, loss=0.00362]\n",
            "Validating Epoch 250/500: 100%|██████████| 11/11 [00:02<00:00,  3.96it/s, loss=0.00331]\n",
            "Training Epoch 251/500: 100%|██████████| 103/103 [00:25<00:00,  4.10it/s, loss=0.00353]\n",
            "Validating Epoch 251/500: 100%|██████████| 11/11 [00:02<00:00,  3.87it/s, loss=0.00294]\n",
            "Training Epoch 252/500: 100%|██████████| 103/103 [00:25<00:00,  4.10it/s, loss=0.00353]\n",
            "Validating Epoch 252/500: 100%|██████████| 11/11 [00:02<00:00,  3.95it/s, loss=0.00384]\n",
            "Training Epoch 253/500: 100%|██████████| 103/103 [00:25<00:00,  4.09it/s, loss=0.00375]\n",
            "Validating Epoch 253/500: 100%|██████████| 11/11 [00:02<00:00,  3.97it/s, loss=0.00314]\n",
            "Training Epoch 254/500: 100%|██████████| 103/103 [00:25<00:00,  4.11it/s, loss=0.00365]\n",
            "Validating Epoch 254/500: 100%|██████████| 11/11 [00:02<00:00,  3.93it/s, loss=0.00345]\n",
            "Training Epoch 255/500: 100%|██████████| 103/103 [00:25<00:00,  4.09it/s, loss=0.00355]\n",
            "Validating Epoch 255/500: 100%|██████████| 11/11 [00:02<00:00,  3.88it/s, loss=0.00329]\n",
            "Training Epoch 256/500: 100%|██████████| 103/103 [00:25<00:00,  4.05it/s, loss=0.00344]\n",
            "Validating Epoch 256/500: 100%|██████████| 11/11 [00:02<00:00,  3.96it/s, loss=0.00347]\n",
            "Training Epoch 257/500: 100%|██████████| 103/103 [00:25<00:00,  4.05it/s, loss=0.00372]\n",
            "Validating Epoch 257/500: 100%|██████████| 11/11 [00:02<00:00,  3.93it/s, loss=0.00306]\n",
            "Training Epoch 258/500: 100%|██████████| 103/103 [00:25<00:00,  4.11it/s, loss=0.00344]\n",
            "Validating Epoch 258/500: 100%|██████████| 11/11 [00:02<00:00,  3.94it/s, loss=0.00344]\n",
            "Training Epoch 259/500: 100%|██████████| 103/103 [00:25<00:00,  4.10it/s, loss=0.00319]\n",
            "Validating Epoch 259/500: 100%|██████████| 11/11 [00:02<00:00,  3.97it/s, loss=0.00312]\n",
            "Training Epoch 260/500: 100%|██████████| 103/103 [00:25<00:00,  4.09it/s, loss=0.00381]\n",
            "Validating Epoch 260/500: 100%|██████████| 11/11 [00:02<00:00,  3.94it/s, loss=0.00269]\n",
            "Training Epoch 261/500: 100%|██████████| 103/103 [00:25<00:00,  4.10it/s, loss=0.00346]\n",
            "Validating Epoch 261/500: 100%|██████████| 11/11 [00:02<00:00,  3.95it/s, loss=0.00308]\n",
            "Training Epoch 262/500: 100%|██████████| 103/103 [00:24<00:00,  4.12it/s, loss=0.00354]\n",
            "Validating Epoch 262/500: 100%|██████████| 11/11 [00:02<00:00,  3.94it/s, loss=0.00343]\n",
            "Training Epoch 263/500: 100%|██████████| 103/103 [00:25<00:00,  4.10it/s, loss=0.00321]\n",
            "Validating Epoch 263/500: 100%|██████████| 11/11 [00:02<00:00,  3.96it/s, loss=0.00335]\n",
            "Training Epoch 264/500: 100%|██████████| 103/103 [00:25<00:00,  4.10it/s, loss=0.00369]\n",
            "Validating Epoch 264/500: 100%|██████████| 11/11 [00:02<00:00,  3.82it/s, loss=0.00302]\n",
            "Training Epoch 265/500: 100%|██████████| 103/103 [00:25<00:00,  4.09it/s, loss=0.00339]\n",
            "Validating Epoch 265/500: 100%|██████████| 11/11 [00:02<00:00,  3.96it/s, loss=0.00305]\n",
            "Training Epoch 266/500: 100%|██████████| 103/103 [00:25<00:00,  4.05it/s, loss=0.00344]\n",
            "Validating Epoch 266/500: 100%|██████████| 11/11 [00:02<00:00,  3.90it/s, loss=0.00315]\n",
            "Training Epoch 267/500: 100%|██████████| 103/103 [00:25<00:00,  4.09it/s, loss=0.00319]\n",
            "Validating Epoch 267/500: 100%|██████████| 11/11 [00:02<00:00,  3.84it/s, loss=0.00345]\n",
            "Training Epoch 268/500: 100%|██████████| 103/103 [00:25<00:00,  4.08it/s, loss=0.0033]\n",
            "Validating Epoch 268/500: 100%|██████████| 11/11 [00:02<00:00,  3.97it/s, loss=0.00282]\n",
            "Training Epoch 269/500: 100%|██████████| 103/103 [00:25<00:00,  4.06it/s, loss=0.00369]\n",
            "Validating Epoch 269/500: 100%|██████████| 11/11 [00:02<00:00,  3.94it/s, loss=0.00311]\n",
            "Training Epoch 270/500: 100%|██████████| 103/103 [00:25<00:00,  4.10it/s, loss=0.00321]\n",
            "Validating Epoch 270/500: 100%|██████████| 11/11 [00:02<00:00,  3.91it/s, loss=0.00311]\n",
            "Training Epoch 271/500: 100%|██████████| 103/103 [00:25<00:00,  4.08it/s, loss=0.00336]\n",
            "Validating Epoch 271/500: 100%|██████████| 11/11 [00:02<00:00,  3.97it/s, loss=0.0029]\n",
            "Training Epoch 272/500: 100%|██████████| 103/103 [00:25<00:00,  4.11it/s, loss=0.00317]\n",
            "Validating Epoch 272/500: 100%|██████████| 11/11 [00:02<00:00,  3.99it/s, loss=0.00293]\n",
            "Training Epoch 273/500: 100%|██████████| 103/103 [00:25<00:00,  4.10it/s, loss=0.00297]\n",
            "Validating Epoch 273/500: 100%|██████████| 11/11 [00:02<00:00,  3.90it/s, loss=0.0024]\n",
            "Training Epoch 274/500: 100%|██████████| 103/103 [00:25<00:00,  4.11it/s, loss=0.00342]\n",
            "Validating Epoch 274/500: 100%|██████████| 11/11 [00:02<00:00,  3.97it/s, loss=0.00303]\n",
            "Training Epoch 275/500: 100%|██████████| 103/103 [00:25<00:00,  4.08it/s, loss=0.00316]\n",
            "Validating Epoch 275/500: 100%|██████████| 11/11 [00:02<00:00,  3.95it/s, loss=0.00296]\n",
            "Training Epoch 276/500: 100%|██████████| 103/103 [00:25<00:00,  4.04it/s, loss=0.00325]\n",
            "Validating Epoch 276/500: 100%|██████████| 11/11 [00:02<00:00,  3.94it/s, loss=0.00284]\n",
            "Training Epoch 277/500: 100%|██████████| 103/103 [00:25<00:00,  4.04it/s, loss=0.00296]\n",
            "Validating Epoch 277/500: 100%|██████████| 11/11 [00:02<00:00,  4.02it/s, loss=0.00271]\n",
            "Training Epoch 278/500: 100%|██████████| 103/103 [00:25<00:00,  4.07it/s, loss=0.00291]\n",
            "Validating Epoch 278/500: 100%|██████████| 11/11 [00:02<00:00,  3.93it/s, loss=0.00274]\n",
            "Training Epoch 279/500: 100%|██████████| 103/103 [00:25<00:00,  4.08it/s, loss=0.00318]\n",
            "Validating Epoch 279/500: 100%|██████████| 11/11 [00:02<00:00,  3.99it/s, loss=0.00292]\n",
            "Training Epoch 280/500: 100%|██████████| 103/103 [00:25<00:00,  4.05it/s, loss=0.00331]\n",
            "Validating Epoch 280/500: 100%|██████████| 11/11 [00:02<00:00,  3.98it/s, loss=0.00244]\n",
            "Training Epoch 281/500: 100%|██████████| 103/103 [00:25<00:00,  4.05it/s, loss=0.00291]\n",
            "Validating Epoch 281/500: 100%|██████████| 11/11 [00:02<00:00,  3.95it/s, loss=0.00302]\n",
            "Training Epoch 282/500: 100%|██████████| 103/103 [00:25<00:00,  4.07it/s, loss=0.00312]\n",
            "Validating Epoch 282/500: 100%|██████████| 11/11 [00:02<00:00,  3.89it/s, loss=0.00298]\n",
            "Training Epoch 283/500: 100%|██████████| 103/103 [00:25<00:00,  4.02it/s, loss=0.00327]\n",
            "Validating Epoch 283/500: 100%|██████████| 11/11 [00:02<00:00,  3.90it/s, loss=0.00284]\n",
            "Training Epoch 284/500: 100%|██████████| 103/103 [00:25<00:00,  4.07it/s, loss=0.0029]\n",
            "Validating Epoch 284/500: 100%|██████████| 11/11 [00:02<00:00,  3.95it/s, loss=0.0028]\n",
            "Training Epoch 285/500: 100%|██████████| 103/103 [00:25<00:00,  4.09it/s, loss=0.00301]\n",
            "Validating Epoch 285/500: 100%|██████████| 11/11 [00:02<00:00,  3.84it/s, loss=0.00275]\n",
            "Training Epoch 286/500: 100%|██████████| 103/103 [00:25<00:00,  4.10it/s, loss=0.00295]\n",
            "Validating Epoch 286/500: 100%|██████████| 11/11 [00:02<00:00,  3.96it/s, loss=0.00271]\n",
            "Training Epoch 287/500: 100%|██████████| 103/103 [00:25<00:00,  4.09it/s, loss=0.00277]\n",
            "Validating Epoch 287/500: 100%|██████████| 11/11 [00:02<00:00,  3.95it/s, loss=0.00284]\n",
            "Training Epoch 288/500: 100%|██████████| 103/103 [00:25<00:00,  4.11it/s, loss=0.00295]\n",
            "Validating Epoch 288/500: 100%|██████████| 11/11 [00:02<00:00,  3.93it/s, loss=0.00254]\n",
            "Training Epoch 289/500: 100%|██████████| 103/103 [00:25<00:00,  4.09it/s, loss=0.00284]\n",
            "Validating Epoch 289/500: 100%|██████████| 11/11 [00:02<00:00,  3.96it/s, loss=0.0026]\n",
            "Training Epoch 290/500: 100%|██████████| 103/103 [00:25<00:00,  4.10it/s, loss=0.003]\n",
            "Validating Epoch 290/500: 100%|██████████| 11/11 [00:02<00:00,  3.93it/s, loss=0.00286]\n",
            "Training Epoch 291/500: 100%|██████████| 103/103 [00:25<00:00,  4.10it/s, loss=0.0032]\n",
            "Validating Epoch 291/500: 100%|██████████| 11/11 [00:02<00:00,  3.95it/s, loss=0.00278]\n",
            "Training Epoch 292/500: 100%|██████████| 103/103 [00:25<00:00,  4.11it/s, loss=0.00338]\n",
            "Validating Epoch 292/500: 100%|██████████| 11/11 [00:02<00:00,  3.87it/s, loss=0.00279]\n",
            "Training Epoch 293/500: 100%|██████████| 103/103 [00:25<00:00,  4.08it/s, loss=0.00284]\n",
            "Validating Epoch 293/500: 100%|██████████| 11/11 [00:02<00:00,  3.96it/s, loss=0.00259]\n",
            "Training Epoch 294/500: 100%|██████████| 103/103 [00:25<00:00,  4.08it/s, loss=0.00324]\n",
            "Validating Epoch 294/500: 100%|██████████| 11/11 [00:02<00:00,  3.89it/s, loss=0.00284]\n",
            "Training Epoch 295/500: 100%|██████████| 103/103 [00:25<00:00,  4.10it/s, loss=0.00319]\n",
            "Validating Epoch 295/500: 100%|██████████| 11/11 [00:02<00:00,  3.85it/s, loss=0.00301]\n",
            "Training Epoch 296/500: 100%|██████████| 103/103 [00:25<00:00,  4.10it/s, loss=0.00297]\n",
            "Validating Epoch 296/500: 100%|██████████| 11/11 [00:02<00:00,  3.90it/s, loss=0.00299]\n",
            "Training Epoch 297/500: 100%|██████████| 103/103 [00:25<00:00,  4.09it/s, loss=0.003]\n",
            "Validating Epoch 297/500: 100%|██████████| 11/11 [00:02<00:00,  3.89it/s, loss=0.00247]\n",
            "Training Epoch 298/500: 100%|██████████| 103/103 [00:25<00:00,  4.08it/s, loss=0.00306]\n",
            "Validating Epoch 298/500: 100%|██████████| 11/11 [00:02<00:00,  3.94it/s, loss=0.00245]\n",
            "Training Epoch 299/500: 100%|██████████| 103/103 [00:25<00:00,  4.04it/s, loss=0.00305]\n",
            "Validating Epoch 299/500: 100%|██████████| 11/11 [00:02<00:00,  3.99it/s, loss=0.00256]\n",
            "Training Epoch 300/500: 100%|██████████| 103/103 [00:25<00:00,  4.06it/s, loss=0.00325]\n",
            "Validating Epoch 300/500: 100%|██████████| 11/11 [00:02<00:00,  3.95it/s, loss=0.00276]\n",
            "Training Epoch 301/500: 100%|██████████| 103/103 [00:25<00:00,  4.06it/s, loss=0.00301]\n",
            "Validating Epoch 301/500: 100%|██████████| 11/11 [00:02<00:00,  3.85it/s, loss=0.00255]\n",
            "Training Epoch 302/500: 100%|██████████| 103/103 [00:25<00:00,  4.05it/s, loss=0.00317]\n",
            "Validating Epoch 302/500: 100%|██████████| 11/11 [00:02<00:00,  3.95it/s, loss=0.00265]\n",
            "Training Epoch 303/500: 100%|██████████| 103/103 [00:25<00:00,  4.07it/s, loss=0.00249]\n",
            "Validating Epoch 303/500: 100%|██████████| 11/11 [00:02<00:00,  3.94it/s, loss=0.00288]\n",
            "Training Epoch 304/500: 100%|██████████| 103/103 [00:25<00:00,  4.11it/s, loss=0.00324]\n",
            "Validating Epoch 304/500: 100%|██████████| 11/11 [00:02<00:00,  3.91it/s, loss=0.00286]\n",
            "Training Epoch 305/500: 100%|██████████| 103/103 [00:25<00:00,  4.10it/s, loss=0.00291]\n",
            "Validating Epoch 305/500: 100%|██████████| 11/11 [00:02<00:00,  3.93it/s, loss=0.00276]\n",
            "Training Epoch 306/500: 100%|██████████| 103/103 [00:25<00:00,  4.09it/s, loss=0.00298]\n",
            "Validating Epoch 306/500: 100%|██████████| 11/11 [00:02<00:00,  3.95it/s, loss=0.00255]\n",
            "Training Epoch 307/500: 100%|██████████| 103/103 [00:25<00:00,  4.03it/s, loss=0.00311]\n",
            "Validating Epoch 307/500: 100%|██████████| 11/11 [00:02<00:00,  3.95it/s, loss=0.00255]\n",
            "Training Epoch 308/500: 100%|██████████| 103/103 [00:25<00:00,  4.12it/s, loss=0.00258]\n",
            "Validating Epoch 308/500: 100%|██████████| 11/11 [00:02<00:00,  3.99it/s, loss=0.00244]\n",
            "Training Epoch 309/500: 100%|██████████| 103/103 [00:24<00:00,  4.12it/s, loss=0.00276]\n",
            "Validating Epoch 309/500: 100%|██████████| 11/11 [00:02<00:00,  3.92it/s, loss=0.00276]\n",
            "Training Epoch 310/500: 100%|██████████| 103/103 [00:25<00:00,  4.06it/s, loss=0.0031]\n",
            "Validating Epoch 310/500: 100%|██████████| 11/11 [00:02<00:00,  3.90it/s, loss=0.00247]\n",
            "Training Epoch 311/500: 100%|██████████| 103/103 [00:25<00:00,  4.05it/s, loss=0.00303]\n",
            "Validating Epoch 311/500: 100%|██████████| 11/11 [00:02<00:00,  3.93it/s, loss=0.00261]\n",
            "Training Epoch 312/500: 100%|██████████| 103/103 [00:25<00:00,  4.08it/s, loss=0.00287]\n",
            "Validating Epoch 312/500: 100%|██████████| 11/11 [00:02<00:00,  3.86it/s, loss=0.00275]\n",
            "Training Epoch 313/500: 100%|██████████| 103/103 [00:25<00:00,  4.11it/s, loss=0.00306]\n",
            "Validating Epoch 313/500: 100%|██████████| 11/11 [00:02<00:00,  3.94it/s, loss=0.00268]\n",
            "Training Epoch 314/500: 100%|██████████| 103/103 [00:25<00:00,  4.09it/s, loss=0.00289]\n",
            "Validating Epoch 314/500: 100%|██████████| 11/11 [00:02<00:00,  3.92it/s, loss=0.00231]\n",
            "Training Epoch 315/500: 100%|██████████| 103/103 [00:25<00:00,  4.10it/s, loss=0.00286]\n",
            "Validating Epoch 315/500: 100%|██████████| 11/11 [00:02<00:00,  3.89it/s, loss=0.00246]\n",
            "Training Epoch 316/500: 100%|██████████| 103/103 [00:25<00:00,  4.07it/s, loss=0.00303]\n",
            "Validating Epoch 316/500: 100%|██████████| 11/11 [00:02<00:00,  3.72it/s, loss=0.00265]\n",
            "Training Epoch 317/500: 100%|██████████| 103/103 [00:25<00:00,  4.06it/s, loss=0.00314]\n",
            "Validating Epoch 317/500: 100%|██████████| 11/11 [00:02<00:00,  3.94it/s, loss=0.00272]\n",
            "Training Epoch 318/500: 100%|██████████| 103/103 [00:25<00:00,  4.05it/s, loss=0.0028]\n",
            "Validating Epoch 318/500: 100%|██████████| 11/11 [00:02<00:00,  3.89it/s, loss=0.00255]\n",
            "Training Epoch 319/500: 100%|██████████| 103/103 [00:25<00:00,  4.01it/s, loss=0.00288]\n",
            "Validating Epoch 319/500: 100%|██████████| 11/11 [00:02<00:00,  3.94it/s, loss=0.00225]\n",
            "Training Epoch 320/500: 100%|██████████| 103/103 [00:25<00:00,  4.05it/s, loss=0.00264]\n",
            "Validating Epoch 320/500: 100%|██████████| 11/11 [00:02<00:00,  3.94it/s, loss=0.00252]\n",
            "Training Epoch 321/500: 100%|██████████| 103/103 [00:25<00:00,  4.11it/s, loss=0.00293]\n",
            "Validating Epoch 321/500: 100%|██████████| 11/11 [00:02<00:00,  3.98it/s, loss=0.00244]\n",
            "Training Epoch 322/500: 100%|██████████| 103/103 [00:25<00:00,  4.07it/s, loss=0.00282]\n",
            "Validating Epoch 322/500: 100%|██████████| 11/11 [00:02<00:00,  3.94it/s, loss=0.00268]\n",
            "Training Epoch 323/500: 100%|██████████| 103/103 [00:25<00:00,  4.08it/s, loss=0.00237]\n",
            "Validating Epoch 323/500: 100%|██████████| 11/11 [00:02<00:00,  4.00it/s, loss=0.00266]\n",
            "Training Epoch 324/500: 100%|██████████| 103/103 [00:25<00:00,  4.08it/s, loss=0.00251]\n",
            "Validating Epoch 324/500: 100%|██████████| 11/11 [00:02<00:00,  3.94it/s, loss=0.00218]\n",
            "Training Epoch 325/500: 100%|██████████| 103/103 [00:25<00:00,  4.11it/s, loss=0.00262]\n",
            "Validating Epoch 325/500: 100%|██████████| 11/11 [00:02<00:00,  3.84it/s, loss=0.00226]\n",
            "Training Epoch 326/500: 100%|██████████| 103/103 [00:25<00:00,  4.07it/s, loss=0.00272]\n",
            "Validating Epoch 326/500: 100%|██████████| 11/11 [00:02<00:00,  3.89it/s, loss=0.00274]\n",
            "Training Epoch 327/500: 100%|██████████| 103/103 [00:25<00:00,  4.08it/s, loss=0.00253]\n",
            "Validating Epoch 327/500: 100%|██████████| 11/11 [00:02<00:00,  3.97it/s, loss=0.00251]\n",
            "Training Epoch 328/500: 100%|██████████| 103/103 [00:25<00:00,  4.09it/s, loss=0.00243]\n",
            "Validating Epoch 328/500: 100%|██████████| 11/11 [00:02<00:00,  3.89it/s, loss=0.00233]\n",
            "Training Epoch 329/500: 100%|██████████| 103/103 [00:25<00:00,  4.08it/s, loss=0.00291]\n",
            "Validating Epoch 329/500: 100%|██████████| 11/11 [00:02<00:00,  3.94it/s, loss=0.00249]\n",
            "Training Epoch 330/500: 100%|██████████| 103/103 [00:25<00:00,  4.08it/s, loss=0.00269]\n",
            "Validating Epoch 330/500: 100%|██████████| 11/11 [00:02<00:00,  3.93it/s, loss=0.00264]\n",
            "Training Epoch 331/500: 100%|██████████| 103/103 [00:25<00:00,  4.05it/s, loss=0.00294]\n",
            "Validating Epoch 331/500: 100%|██████████| 11/11 [00:02<00:00,  3.91it/s, loss=0.00258]\n",
            "Training Epoch 332/500: 100%|██████████| 103/103 [00:25<00:00,  4.10it/s, loss=0.00269]\n",
            "Validating Epoch 332/500: 100%|██████████| 11/11 [00:02<00:00,  3.95it/s, loss=0.00239]\n",
            "Training Epoch 333/500: 100%|██████████| 103/103 [00:25<00:00,  4.09it/s, loss=0.0028]\n",
            "Validating Epoch 333/500: 100%|██████████| 11/11 [00:02<00:00,  3.95it/s, loss=0.0025]\n",
            "Training Epoch 334/500: 100%|██████████| 103/103 [00:24<00:00,  4.12it/s, loss=0.00313]\n",
            "Validating Epoch 334/500: 100%|██████████| 11/11 [00:02<00:00,  3.93it/s, loss=0.00254]\n",
            "Training Epoch 335/500: 100%|██████████| 103/103 [00:25<00:00,  4.07it/s, loss=0.0027]\n",
            "Validating Epoch 335/500: 100%|██████████| 11/11 [00:02<00:00,  3.87it/s, loss=0.00257]\n",
            "Training Epoch 336/500: 100%|██████████| 103/103 [00:25<00:00,  4.11it/s, loss=0.00254]\n",
            "Validating Epoch 336/500: 100%|██████████| 11/11 [00:02<00:00,  3.87it/s, loss=0.00252]\n",
            "Training Epoch 337/500: 100%|██████████| 103/103 [00:25<00:00,  4.09it/s, loss=0.00269]\n",
            "Validating Epoch 337/500: 100%|██████████| 11/11 [00:02<00:00,  3.94it/s, loss=0.00256]\n",
            "Training Epoch 338/500: 100%|██████████| 103/103 [00:25<00:00,  4.10it/s, loss=0.00284]\n",
            "Validating Epoch 338/500: 100%|██████████| 11/11 [00:02<00:00,  3.95it/s, loss=0.00243]\n",
            "Training Epoch 339/500: 100%|██████████| 103/103 [00:25<00:00,  4.06it/s, loss=0.00255]\n",
            "Validating Epoch 339/500: 100%|██████████| 11/11 [00:02<00:00,  3.90it/s, loss=0.00278]\n",
            "Training Epoch 340/500: 100%|██████████| 103/103 [00:25<00:00,  4.09it/s, loss=0.00282]\n",
            "Validating Epoch 340/500: 100%|██████████| 11/11 [00:02<00:00,  3.91it/s, loss=0.00222]\n",
            "Training Epoch 341/500: 100%|██████████| 103/103 [00:25<00:00,  4.09it/s, loss=0.00256]\n",
            "Validating Epoch 341/500: 100%|██████████| 11/11 [00:02<00:00,  3.91it/s, loss=0.00206]\n",
            "Training Epoch 342/500: 100%|██████████| 103/103 [00:25<00:00,  4.10it/s, loss=0.00295]\n",
            "Validating Epoch 342/500: 100%|██████████| 11/11 [00:02<00:00,  3.94it/s, loss=0.00226]\n",
            "Training Epoch 343/500: 100%|██████████| 103/103 [00:24<00:00,  4.12it/s, loss=0.00238]\n",
            "Validating Epoch 343/500: 100%|██████████| 11/11 [00:02<00:00,  3.97it/s, loss=0.0024]\n",
            "Training Epoch 344/500: 100%|██████████| 103/103 [00:25<00:00,  4.10it/s, loss=0.00278]\n",
            "Validating Epoch 344/500: 100%|██████████| 11/11 [00:02<00:00,  3.93it/s, loss=0.00262]\n",
            "Training Epoch 345/500: 100%|██████████| 103/103 [00:25<00:00,  4.10it/s, loss=0.00253]\n",
            "Validating Epoch 345/500: 100%|██████████| 11/11 [00:02<00:00,  3.92it/s, loss=0.00203]\n",
            "Training Epoch 346/500: 100%|██████████| 103/103 [00:25<00:00,  4.11it/s, loss=0.00285]\n",
            "Validating Epoch 346/500: 100%|██████████| 11/11 [00:02<00:00,  3.98it/s, loss=0.00246]\n",
            "Training Epoch 347/500: 100%|██████████| 103/103 [00:25<00:00,  4.09it/s, loss=0.00266]\n",
            "Validating Epoch 347/500: 100%|██████████| 11/11 [00:02<00:00,  3.99it/s, loss=0.00237]\n",
            "Training Epoch 348/500: 100%|██████████| 103/103 [00:25<00:00,  4.09it/s, loss=0.00272]\n",
            "Validating Epoch 348/500: 100%|██████████| 11/11 [00:02<00:00,  3.95it/s, loss=0.0024]\n",
            "Training Epoch 349/500: 100%|██████████| 103/103 [00:25<00:00,  4.12it/s, loss=0.00265]\n",
            "Validating Epoch 349/500: 100%|██████████| 11/11 [00:02<00:00,  3.93it/s, loss=0.00273]\n",
            "Training Epoch 350/500: 100%|██████████| 103/103 [00:25<00:00,  4.11it/s, loss=0.00297]\n",
            "Validating Epoch 350/500: 100%|██████████| 11/11 [00:02<00:00,  3.93it/s, loss=0.00258]\n",
            "Training Epoch 351/500: 100%|██████████| 103/103 [00:25<00:00,  4.12it/s, loss=0.00255]\n",
            "Validating Epoch 351/500: 100%|██████████| 11/11 [00:02<00:00,  3.89it/s, loss=0.00248]\n",
            "Training Epoch 352/500: 100%|██████████| 103/103 [00:25<00:00,  4.09it/s, loss=0.00293]\n",
            "Validating Epoch 352/500: 100%|██████████| 11/11 [00:02<00:00,  3.92it/s, loss=0.00263]\n",
            "Training Epoch 353/500: 100%|██████████| 103/103 [00:25<00:00,  4.06it/s, loss=0.00278]\n",
            "Validating Epoch 353/500: 100%|██████████| 11/11 [00:02<00:00,  3.97it/s, loss=0.00216]\n",
            "Training Epoch 354/500: 100%|██████████| 103/103 [00:25<00:00,  4.04it/s, loss=0.00248]\n",
            "Validating Epoch 354/500: 100%|██████████| 11/11 [00:02<00:00,  3.88it/s, loss=0.00205]\n",
            "Training Epoch 355/500: 100%|██████████| 103/103 [00:25<00:00,  4.10it/s, loss=0.00267]\n",
            "Validating Epoch 355/500: 100%|██████████| 11/11 [00:02<00:00,  3.95it/s, loss=0.00249]\n",
            "Training Epoch 356/500: 100%|██████████| 103/103 [00:25<00:00,  4.08it/s, loss=0.00231]\n",
            "Validating Epoch 356/500: 100%|██████████| 11/11 [00:02<00:00,  3.87it/s, loss=0.00244]\n",
            "Training Epoch 357/500: 100%|██████████| 103/103 [00:25<00:00,  4.11it/s, loss=0.0025]\n",
            "Validating Epoch 357/500: 100%|██████████| 11/11 [00:02<00:00,  3.93it/s, loss=0.00211]\n",
            "Training Epoch 358/500: 100%|██████████| 103/103 [00:25<00:00,  4.10it/s, loss=0.00298]\n",
            "Validating Epoch 358/500: 100%|██████████| 11/11 [00:02<00:00,  3.85it/s, loss=0.00244]\n",
            "Training Epoch 359/500: 100%|██████████| 103/103 [00:25<00:00,  4.09it/s, loss=0.0026]\n",
            "Validating Epoch 359/500: 100%|██████████| 11/11 [00:02<00:00,  3.90it/s, loss=0.00246]\n",
            "Training Epoch 360/500: 100%|██████████| 103/103 [00:25<00:00,  4.10it/s, loss=0.00266]\n",
            "Validating Epoch 360/500: 100%|██████████| 11/11 [00:02<00:00,  3.94it/s, loss=0.00248]\n",
            "Training Epoch 361/500: 100%|██████████| 103/103 [00:25<00:00,  4.09it/s, loss=0.0026]\n",
            "Validating Epoch 361/500: 100%|██████████| 11/11 [00:02<00:00,  3.84it/s, loss=0.00257]\n",
            "Training Epoch 362/500: 100%|██████████| 103/103 [00:25<00:00,  4.09it/s, loss=0.00253]\n",
            "Validating Epoch 362/500: 100%|██████████| 11/11 [00:02<00:00,  3.83it/s, loss=0.00211]\n",
            "Training Epoch 363/500: 100%|██████████| 103/103 [00:25<00:00,  4.05it/s, loss=0.00297]\n",
            "Validating Epoch 363/500: 100%|██████████| 11/11 [00:02<00:00,  3.95it/s, loss=0.00212]\n",
            "Training Epoch 364/500: 100%|██████████| 103/103 [00:25<00:00,  4.03it/s, loss=0.00245]\n",
            "Validating Epoch 364/500: 100%|██████████| 11/11 [00:02<00:00,  3.93it/s, loss=0.00226]\n",
            "Training Epoch 365/500: 100%|██████████| 103/103 [00:25<00:00,  4.03it/s, loss=0.00229]\n",
            "Validating Epoch 365/500: 100%|██████████| 11/11 [00:02<00:00,  3.98it/s, loss=0.00228]\n",
            "Training Epoch 366/500: 100%|██████████| 103/103 [00:25<00:00,  4.08it/s, loss=0.00263]\n",
            "Validating Epoch 366/500: 100%|██████████| 11/11 [00:02<00:00,  3.91it/s, loss=0.00215]\n",
            "Training Epoch 367/500: 100%|██████████| 103/103 [00:25<00:00,  4.03it/s, loss=0.00239]\n",
            "Validating Epoch 367/500: 100%|██████████| 11/11 [00:02<00:00,  3.93it/s, loss=0.00258]\n",
            "Training Epoch 368/500: 100%|██████████| 103/103 [00:25<00:00,  4.07it/s, loss=0.00237]\n",
            "Validating Epoch 368/500: 100%|██████████| 11/11 [00:02<00:00,  3.86it/s, loss=0.00247]\n",
            "Training Epoch 369/500: 100%|██████████| 103/103 [00:25<00:00,  4.02it/s, loss=0.00249]\n",
            "Validating Epoch 369/500: 100%|██████████| 11/11 [00:02<00:00,  3.95it/s, loss=0.00224]\n",
            "Training Epoch 370/500: 100%|██████████| 103/103 [00:25<00:00,  4.02it/s, loss=0.00255]\n",
            "Validating Epoch 370/500: 100%|██████████| 11/11 [00:02<00:00,  3.90it/s, loss=0.00225]\n",
            "Training Epoch 371/500: 100%|██████████| 103/103 [00:25<00:00,  4.10it/s, loss=0.00226]\n",
            "Validating Epoch 371/500: 100%|██████████| 11/11 [00:02<00:00,  3.95it/s, loss=0.00224]\n",
            "Training Epoch 372/500: 100%|██████████| 103/103 [00:25<00:00,  4.10it/s, loss=0.00224]\n",
            "Validating Epoch 372/500: 100%|██████████| 11/11 [00:02<00:00,  3.95it/s, loss=0.00207]\n",
            "Training Epoch 373/500: 100%|██████████| 103/103 [00:25<00:00,  4.10it/s, loss=0.00256]\n",
            "Validating Epoch 373/500: 100%|██████████| 11/11 [00:02<00:00,  3.91it/s, loss=0.00281]\n",
            "Training Epoch 374/500: 100%|██████████| 103/103 [00:25<00:00,  4.08it/s, loss=0.00259]\n",
            "Validating Epoch 374/500: 100%|██████████| 11/11 [00:02<00:00,  3.93it/s, loss=0.00177]\n",
            "Training Epoch 375/500: 100%|██████████| 103/103 [00:25<00:00,  4.05it/s, loss=0.00268]\n",
            "Validating Epoch 375/500: 100%|██████████| 11/11 [00:02<00:00,  3.91it/s, loss=0.0022]\n",
            "Training Epoch 376/500: 100%|██████████| 103/103 [00:25<00:00,  4.09it/s, loss=0.00231]\n",
            "Validating Epoch 376/500: 100%|██████████| 11/11 [00:02<00:00,  3.94it/s, loss=0.00234]\n",
            "Training Epoch 377/500: 100%|██████████| 103/103 [00:25<00:00,  4.06it/s, loss=0.00221]\n",
            "Validating Epoch 377/500: 100%|██████████| 11/11 [00:02<00:00,  3.92it/s, loss=0.00197]\n",
            "Training Epoch 378/500: 100%|██████████| 103/103 [00:25<00:00,  4.05it/s, loss=0.00267]\n",
            "Validating Epoch 378/500: 100%|██████████| 11/11 [00:02<00:00,  3.91it/s, loss=0.00206]\n",
            "Training Epoch 379/500: 100%|██████████| 103/103 [00:25<00:00,  4.09it/s, loss=0.00304]\n",
            "Validating Epoch 379/500: 100%|██████████| 11/11 [00:02<00:00,  3.94it/s, loss=0.00196]\n",
            "Training Epoch 380/500: 100%|██████████| 103/103 [00:25<00:00,  4.09it/s, loss=0.00251]\n",
            "Validating Epoch 380/500: 100%|██████████| 11/11 [00:02<00:00,  3.87it/s, loss=0.00233]\n",
            "Training Epoch 381/500: 100%|██████████| 103/103 [00:25<00:00,  4.08it/s, loss=0.00259]\n",
            "Validating Epoch 381/500: 100%|██████████| 11/11 [00:02<00:00,  3.98it/s, loss=0.00225]\n",
            "Training Epoch 382/500: 100%|██████████| 103/103 [00:25<00:00,  4.09it/s, loss=0.0026]\n",
            "Validating Epoch 382/500: 100%|██████████| 11/11 [00:02<00:00,  3.88it/s, loss=0.00242]\n",
            "Training Epoch 383/500: 100%|██████████| 103/103 [00:25<00:00,  4.06it/s, loss=0.00263]\n",
            "Validating Epoch 383/500: 100%|██████████| 11/11 [00:02<00:00,  3.78it/s, loss=0.00222]\n",
            "Training Epoch 384/500: 100%|██████████| 103/103 [00:25<00:00,  4.06it/s, loss=0.00237]\n",
            "Validating Epoch 384/500: 100%|██████████| 11/11 [00:02<00:00,  3.88it/s, loss=0.00208]\n",
            "Training Epoch 385/500: 100%|██████████| 103/103 [00:25<00:00,  4.06it/s, loss=0.00259]\n",
            "Validating Epoch 385/500: 100%|██████████| 11/11 [00:02<00:00,  3.90it/s, loss=0.00212]\n",
            "Training Epoch 386/500: 100%|██████████| 103/103 [00:25<00:00,  4.05it/s, loss=0.00223]\n",
            "Validating Epoch 386/500: 100%|██████████| 11/11 [00:02<00:00,  3.84it/s, loss=0.00258]\n",
            "Training Epoch 387/500: 100%|██████████| 103/103 [00:25<00:00,  4.07it/s, loss=0.00247]\n",
            "Validating Epoch 387/500: 100%|██████████| 11/11 [00:02<00:00,  3.85it/s, loss=0.00202]\n",
            "Training Epoch 388/500: 100%|██████████| 103/103 [00:25<00:00,  4.08it/s, loss=0.00246]\n",
            "Validating Epoch 388/500: 100%|██████████| 11/11 [00:02<00:00,  3.87it/s, loss=0.00217]\n",
            "Training Epoch 389/500: 100%|██████████| 103/103 [00:25<00:00,  4.05it/s, loss=0.00271]\n",
            "Validating Epoch 389/500: 100%|██████████| 11/11 [00:02<00:00,  3.80it/s, loss=0.00193]\n",
            "Training Epoch 390/500: 100%|██████████| 103/103 [00:25<00:00,  4.05it/s, loss=0.00231]\n",
            "Validating Epoch 390/500: 100%|██████████| 11/11 [00:02<00:00,  3.95it/s, loss=0.00233]\n",
            "Training Epoch 391/500: 100%|██████████| 103/103 [00:25<00:00,  4.06it/s, loss=0.00221]\n",
            "Validating Epoch 391/500: 100%|██████████| 11/11 [00:02<00:00,  3.92it/s, loss=0.00197]\n",
            "Training Epoch 392/500: 100%|██████████| 103/103 [00:25<00:00,  4.08it/s, loss=0.00224]\n",
            "Validating Epoch 392/500: 100%|██████████| 11/11 [00:02<00:00,  3.88it/s, loss=0.00209]\n",
            "Training Epoch 393/500: 100%|██████████| 103/103 [00:25<00:00,  4.08it/s, loss=0.0027]\n",
            "Validating Epoch 393/500: 100%|██████████| 11/11 [00:02<00:00,  3.92it/s, loss=0.00195]\n",
            "Training Epoch 394/500: 100%|██████████| 103/103 [00:25<00:00,  4.09it/s, loss=0.00231]\n",
            "Validating Epoch 394/500: 100%|██████████| 11/11 [00:02<00:00,  3.88it/s, loss=0.00274]\n",
            "Training Epoch 395/500: 100%|██████████| 103/103 [00:25<00:00,  4.09it/s, loss=0.00257]\n",
            "Validating Epoch 395/500: 100%|██████████| 11/11 [00:02<00:00,  3.90it/s, loss=0.00258]\n",
            "Training Epoch 396/500: 100%|██████████| 103/103 [00:25<00:00,  4.08it/s, loss=0.00242]\n",
            "Validating Epoch 396/500: 100%|██████████| 11/11 [00:02<00:00,  3.90it/s, loss=0.00231]\n",
            "Training Epoch 397/500: 100%|██████████| 103/103 [00:25<00:00,  4.04it/s, loss=0.00234]\n",
            "Validating Epoch 397/500: 100%|██████████| 11/11 [00:02<00:00,  3.98it/s, loss=0.0021]\n",
            "Training Epoch 398/500: 100%|██████████| 103/103 [00:25<00:00,  4.03it/s, loss=0.00225]\n",
            "Validating Epoch 398/500: 100%|██████████| 11/11 [00:02<00:00,  3.82it/s, loss=0.00213]\n",
            "Training Epoch 399/500: 100%|██████████| 103/103 [00:25<00:00,  4.06it/s, loss=0.00231]\n",
            "Validating Epoch 399/500: 100%|██████████| 11/11 [00:02<00:00,  3.89it/s, loss=0.0023]\n",
            "Training Epoch 400/500: 100%|██████████| 103/103 [00:25<00:00,  4.08it/s, loss=0.00237]\n",
            "Validating Epoch 400/500: 100%|██████████| 11/11 [00:02<00:00,  3.80it/s, loss=0.00219]\n",
            "Training Epoch 401/500: 100%|██████████| 103/103 [00:25<00:00,  4.10it/s, loss=0.0023]\n",
            "Validating Epoch 401/500: 100%|██████████| 11/11 [00:02<00:00,  3.87it/s, loss=0.00225]\n",
            "Training Epoch 402/500: 100%|██████████| 103/103 [00:25<00:00,  4.06it/s, loss=0.00239]\n",
            "Validating Epoch 402/500: 100%|██████████| 11/11 [00:02<00:00,  3.97it/s, loss=0.00205]\n",
            "Training Epoch 403/500: 100%|██████████| 103/103 [00:25<00:00,  4.09it/s, loss=0.00213]\n",
            "Validating Epoch 403/500: 100%|██████████| 11/11 [00:02<00:00,  3.90it/s, loss=0.00207]\n",
            "Training Epoch 404/500: 100%|██████████| 103/103 [00:25<00:00,  4.08it/s, loss=0.00252]\n",
            "Validating Epoch 404/500: 100%|██████████| 11/11 [00:02<00:00,  3.84it/s, loss=0.00203]\n",
            "Training Epoch 405/500: 100%|██████████| 103/103 [00:25<00:00,  4.11it/s, loss=0.0023]\n",
            "Validating Epoch 405/500: 100%|██████████| 11/11 [00:02<00:00,  3.85it/s, loss=0.0022]\n",
            "Training Epoch 406/500: 100%|██████████| 103/103 [00:25<00:00,  4.09it/s, loss=0.00251]\n",
            "Validating Epoch 406/500: 100%|██████████| 11/11 [00:02<00:00,  3.92it/s, loss=0.00203]\n",
            "Training Epoch 407/500: 100%|██████████| 103/103 [00:25<00:00,  4.08it/s, loss=0.00244]\n",
            "Validating Epoch 407/500: 100%|██████████| 11/11 [00:02<00:00,  3.94it/s, loss=0.00195]\n",
            "Training Epoch 408/500: 100%|██████████| 103/103 [00:25<00:00,  4.06it/s, loss=0.00218]\n",
            "Validating Epoch 408/500: 100%|██████████| 11/11 [00:02<00:00,  3.82it/s, loss=0.00224]\n",
            "Training Epoch 409/500: 100%|██████████| 103/103 [00:25<00:00,  4.08it/s, loss=0.00261]\n",
            "Validating Epoch 409/500: 100%|██████████| 11/11 [00:02<00:00,  3.93it/s, loss=0.00184]\n",
            "Training Epoch 410/500: 100%|██████████| 103/103 [00:25<00:00,  4.10it/s, loss=0.00204]\n",
            "Validating Epoch 410/500: 100%|██████████| 11/11 [00:02<00:00,  3.88it/s, loss=0.00198]\n",
            "Training Epoch 411/500: 100%|██████████| 103/103 [00:25<00:00,  4.07it/s, loss=0.00245]\n",
            "Validating Epoch 411/500: 100%|██████████| 11/11 [00:02<00:00,  3.91it/s, loss=0.00204]\n",
            "Training Epoch 412/500: 100%|██████████| 103/103 [00:25<00:00,  4.09it/s, loss=0.0024]\n",
            "Validating Epoch 412/500: 100%|██████████| 11/11 [00:02<00:00,  3.87it/s, loss=0.00224]\n",
            "Training Epoch 413/500: 100%|██████████| 103/103 [00:25<00:00,  4.09it/s, loss=0.0026]\n",
            "Validating Epoch 413/500: 100%|██████████| 11/11 [00:02<00:00,  3.91it/s, loss=0.00196]\n",
            "Training Epoch 414/500: 100%|██████████| 103/103 [00:25<00:00,  4.07it/s, loss=0.00206]\n",
            "Validating Epoch 414/500: 100%|██████████| 11/11 [00:02<00:00,  3.87it/s, loss=0.00215]\n",
            "Training Epoch 415/500: 100%|██████████| 103/103 [00:25<00:00,  4.08it/s, loss=0.00236]\n",
            "Validating Epoch 415/500: 100%|██████████| 11/11 [00:02<00:00,  3.90it/s, loss=0.00215]\n",
            "Training Epoch 416/500: 100%|██████████| 103/103 [00:25<00:00,  4.06it/s, loss=0.00225]\n",
            "Validating Epoch 416/500: 100%|██████████| 11/11 [00:02<00:00,  3.93it/s, loss=0.00212]\n",
            "Training Epoch 417/500: 100%|██████████| 103/103 [00:25<00:00,  3.98it/s, loss=0.00215]\n",
            "Validating Epoch 417/500: 100%|██████████| 11/11 [00:02<00:00,  3.93it/s, loss=0.00206]\n",
            "Training Epoch 418/500: 100%|██████████| 103/103 [00:25<00:00,  4.08it/s, loss=0.00245]\n",
            "Validating Epoch 418/500: 100%|██████████| 11/11 [00:02<00:00,  3.80it/s, loss=0.0022]\n",
            "Training Epoch 419/500: 100%|██████████| 103/103 [00:25<00:00,  4.09it/s, loss=0.00223]\n",
            "Validating Epoch 419/500: 100%|██████████| 11/11 [00:02<00:00,  3.94it/s, loss=0.00241]\n",
            "Training Epoch 420/500: 100%|██████████| 103/103 [00:25<00:00,  4.08it/s, loss=0.00231]\n",
            "Validating Epoch 420/500: 100%|██████████| 11/11 [00:02<00:00,  3.93it/s, loss=0.00213]\n",
            "Training Epoch 421/500: 100%|██████████| 103/103 [00:25<00:00,  4.10it/s, loss=0.00215]\n",
            "Validating Epoch 421/500: 100%|██████████| 11/11 [00:02<00:00,  3.90it/s, loss=0.00223]\n",
            "Training Epoch 422/500: 100%|██████████| 103/103 [00:25<00:00,  4.04it/s, loss=0.0024]\n",
            "Validating Epoch 422/500: 100%|██████████| 11/11 [00:02<00:00,  3.98it/s, loss=0.00266]\n",
            "Training Epoch 423/500: 100%|██████████| 103/103 [00:25<00:00,  4.07it/s, loss=0.00226]\n",
            "Validating Epoch 423/500: 100%|██████████| 11/11 [00:02<00:00,  3.89it/s, loss=0.00197]\n",
            "Training Epoch 424/500: 100%|██████████| 103/103 [00:25<00:00,  4.09it/s, loss=0.00204]\n",
            "Validating Epoch 424/500: 100%|██████████| 11/11 [00:02<00:00,  3.96it/s, loss=0.00231]\n",
            "Training Epoch 425/500: 100%|██████████| 103/103 [00:25<00:00,  4.08it/s, loss=0.00216]\n",
            "Validating Epoch 425/500: 100%|██████████| 11/11 [00:02<00:00,  3.88it/s, loss=0.00237]\n",
            "Training Epoch 426/500: 100%|██████████| 103/103 [00:25<00:00,  4.10it/s, loss=0.00246]\n",
            "Validating Epoch 426/500: 100%|██████████| 11/11 [00:02<00:00,  3.98it/s, loss=0.0021]\n",
            "Training Epoch 427/500: 100%|██████████| 103/103 [00:25<00:00,  4.10it/s, loss=0.00223]\n",
            "Validating Epoch 427/500: 100%|██████████| 11/11 [00:02<00:00,  3.95it/s, loss=0.0018]\n",
            "Training Epoch 428/500: 100%|██████████| 103/103 [00:25<00:00,  4.10it/s, loss=0.00212]\n",
            "Validating Epoch 428/500: 100%|██████████| 11/11 [00:02<00:00,  3.89it/s, loss=0.00196]\n",
            "Training Epoch 429/500: 100%|██████████| 103/103 [00:25<00:00,  4.08it/s, loss=0.00206]\n",
            "Validating Epoch 429/500: 100%|██████████| 11/11 [00:02<00:00,  3.95it/s, loss=0.00223]\n",
            "Training Epoch 430/500: 100%|██████████| 103/103 [00:25<00:00,  4.09it/s, loss=0.00207]\n",
            "Validating Epoch 430/500: 100%|██████████| 11/11 [00:02<00:00,  3.88it/s, loss=0.00198]\n",
            "Training Epoch 431/500: 100%|██████████| 103/103 [00:25<00:00,  4.10it/s, loss=0.00211]\n",
            "Validating Epoch 431/500: 100%|██████████| 11/11 [00:02<00:00,  3.95it/s, loss=0.00239]\n",
            "Training Epoch 432/500: 100%|██████████| 103/103 [00:25<00:00,  4.11it/s, loss=0.00205]\n",
            "Validating Epoch 432/500: 100%|██████████| 11/11 [00:02<00:00,  3.98it/s, loss=0.00214]\n",
            "Training Epoch 433/500: 100%|██████████| 103/103 [00:25<00:00,  4.08it/s, loss=0.00235]\n",
            "Validating Epoch 433/500: 100%|██████████| 11/11 [00:02<00:00,  3.96it/s, loss=0.00205]\n",
            "Training Epoch 434/500: 100%|██████████| 103/103 [00:25<00:00,  4.10it/s, loss=0.00242]\n",
            "Validating Epoch 434/500: 100%|██████████| 11/11 [00:02<00:00,  3.97it/s, loss=0.00203]\n",
            "Training Epoch 435/500: 100%|██████████| 103/103 [00:25<00:00,  4.11it/s, loss=0.00211]\n",
            "Validating Epoch 435/500: 100%|██████████| 11/11 [00:02<00:00,  3.95it/s, loss=0.002]\n",
            "Training Epoch 436/500: 100%|██████████| 103/103 [00:25<00:00,  4.09it/s, loss=0.00203]\n",
            "Validating Epoch 436/500: 100%|██████████| 11/11 [00:02<00:00,  3.97it/s, loss=0.002]\n",
            "Training Epoch 437/500: 100%|██████████| 103/103 [00:25<00:00,  4.12it/s, loss=0.00229]\n",
            "Validating Epoch 437/500: 100%|██████████| 11/11 [00:02<00:00,  3.85it/s, loss=0.00196]\n",
            "Training Epoch 438/500: 100%|██████████| 103/103 [00:25<00:00,  4.11it/s, loss=0.00249]\n",
            "Validating Epoch 438/500: 100%|██████████| 11/11 [00:02<00:00,  3.91it/s, loss=0.00208]\n",
            "Training Epoch 439/500: 100%|██████████| 103/103 [00:25<00:00,  4.08it/s, loss=0.00184]\n",
            "Validating Epoch 439/500: 100%|██████████| 11/11 [00:02<00:00,  3.93it/s, loss=0.00236]\n",
            "Training Epoch 440/500: 100%|██████████| 103/103 [00:25<00:00,  4.08it/s, loss=0.00214]\n",
            "Validating Epoch 440/500: 100%|██████████| 11/11 [00:02<00:00,  3.90it/s, loss=0.00206]\n",
            "Training Epoch 441/500: 100%|██████████| 103/103 [00:25<00:00,  4.10it/s, loss=0.00212]\n",
            "Validating Epoch 441/500: 100%|██████████| 11/11 [00:02<00:00,  3.94it/s, loss=0.00188]\n",
            "Training Epoch 442/500: 100%|██████████| 103/103 [00:25<00:00,  4.10it/s, loss=0.00233]\n",
            "Validating Epoch 442/500: 100%|██████████| 11/11 [00:02<00:00,  4.00it/s, loss=0.00207]\n",
            "Training Epoch 443/500: 100%|██████████| 103/103 [00:25<00:00,  4.11it/s, loss=0.00216]\n",
            "Validating Epoch 443/500: 100%|██████████| 11/11 [00:02<00:00,  3.79it/s, loss=0.00189]\n",
            "Training Epoch 444/500: 100%|██████████| 103/103 [00:25<00:00,  4.09it/s, loss=0.00213]\n",
            "Validating Epoch 444/500: 100%|██████████| 11/11 [00:02<00:00,  3.95it/s, loss=0.0018]\n",
            "Training Epoch 445/500: 100%|██████████| 103/103 [00:25<00:00,  4.11it/s, loss=0.00235]\n",
            "Validating Epoch 445/500: 100%|██████████| 11/11 [00:02<00:00,  3.96it/s, loss=0.00236]\n",
            "Training Epoch 446/500: 100%|██████████| 103/103 [00:25<00:00,  4.08it/s, loss=0.00215]\n",
            "Validating Epoch 446/500: 100%|██████████| 11/11 [00:02<00:00,  3.92it/s, loss=0.00207]\n",
            "Training Epoch 447/500: 100%|██████████| 103/103 [00:25<00:00,  4.10it/s, loss=0.00227]\n",
            "Validating Epoch 447/500: 100%|██████████| 11/11 [00:02<00:00,  3.99it/s, loss=0.00169]\n",
            "Training Epoch 448/500: 100%|██████████| 103/103 [00:25<00:00,  4.10it/s, loss=0.00212]\n",
            "Validating Epoch 448/500: 100%|██████████| 11/11 [00:02<00:00,  3.97it/s, loss=0.00218]\n",
            "Training Epoch 449/500: 100%|██████████| 103/103 [00:25<00:00,  4.08it/s, loss=0.00209]\n",
            "Validating Epoch 449/500: 100%|██████████| 11/11 [00:02<00:00,  3.88it/s, loss=0.00209]\n",
            "Training Epoch 450/500: 100%|██████████| 103/103 [00:25<00:00,  4.09it/s, loss=0.00197]\n",
            "Validating Epoch 450/500: 100%|██████████| 11/11 [00:02<00:00,  3.97it/s, loss=0.00209]\n",
            "Training Epoch 451/500: 100%|██████████| 103/103 [00:25<00:00,  4.10it/s, loss=0.00224]\n",
            "Validating Epoch 451/500: 100%|██████████| 11/11 [00:02<00:00,  3.96it/s, loss=0.00177]\n",
            "Training Epoch 452/500: 100%|██████████| 103/103 [00:25<00:00,  4.11it/s, loss=0.0021]\n",
            "Validating Epoch 452/500: 100%|██████████| 11/11 [00:02<00:00,  3.92it/s, loss=0.00217]\n",
            "Training Epoch 453/500: 100%|██████████| 103/103 [00:25<00:00,  4.11it/s, loss=0.00226]\n",
            "Validating Epoch 453/500: 100%|██████████| 11/11 [00:02<00:00,  3.87it/s, loss=0.00191]\n",
            "Training Epoch 454/500: 100%|██████████| 103/103 [00:25<00:00,  4.10it/s, loss=0.00198]\n",
            "Validating Epoch 454/500: 100%|██████████| 11/11 [00:02<00:00,  3.91it/s, loss=0.0025]\n",
            "Training Epoch 455/500: 100%|██████████| 103/103 [00:25<00:00,  4.06it/s, loss=0.00223]\n",
            "Validating Epoch 455/500: 100%|██████████| 11/11 [00:02<00:00,  3.94it/s, loss=0.00219]\n",
            "Training Epoch 456/500: 100%|██████████| 103/103 [00:25<00:00,  4.09it/s, loss=0.00209]\n",
            "Validating Epoch 456/500: 100%|██████████| 11/11 [00:02<00:00,  3.90it/s, loss=0.00201]\n",
            "Training Epoch 457/500: 100%|██████████| 103/103 [00:25<00:00,  4.09it/s, loss=0.00224]\n",
            "Validating Epoch 457/500: 100%|██████████| 11/11 [00:02<00:00,  3.94it/s, loss=0.00195]\n",
            "Training Epoch 458/500: 100%|██████████| 103/103 [00:25<00:00,  4.10it/s, loss=0.00218]\n",
            "Validating Epoch 458/500: 100%|██████████| 11/11 [00:02<00:00,  4.00it/s, loss=0.00183]\n",
            "Training Epoch 459/500: 100%|██████████| 103/103 [00:25<00:00,  4.07it/s, loss=0.00211]\n",
            "Validating Epoch 459/500: 100%|██████████| 11/11 [00:02<00:00,  3.93it/s, loss=0.00182]\n",
            "Training Epoch 460/500: 100%|██████████| 103/103 [00:25<00:00,  4.05it/s, loss=0.0024]\n",
            "Validating Epoch 460/500: 100%|██████████| 11/11 [00:02<00:00,  3.97it/s, loss=0.002]\n",
            "Training Epoch 461/500: 100%|██████████| 103/103 [00:25<00:00,  4.06it/s, loss=0.00245]\n",
            "Validating Epoch 461/500: 100%|██████████| 11/11 [00:02<00:00,  3.97it/s, loss=0.00213]\n",
            "Training Epoch 462/500: 100%|██████████| 103/103 [00:25<00:00,  4.10it/s, loss=0.00219]\n",
            "Validating Epoch 462/500: 100%|██████████| 11/11 [00:02<00:00,  3.88it/s, loss=0.00201]\n",
            "Training Epoch 463/500: 100%|██████████| 103/103 [00:25<00:00,  4.05it/s, loss=0.00217]\n",
            "Validating Epoch 463/500: 100%|██████████| 11/11 [00:02<00:00,  3.94it/s, loss=0.00205]\n",
            "Training Epoch 464/500: 100%|██████████| 103/103 [00:25<00:00,  4.07it/s, loss=0.00237]\n",
            "Validating Epoch 464/500: 100%|██████████| 11/11 [00:02<00:00,  3.94it/s, loss=0.00194]\n",
            "Training Epoch 465/500: 100%|██████████| 103/103 [00:25<00:00,  4.10it/s, loss=0.00225]\n",
            "Validating Epoch 465/500: 100%|██████████| 11/11 [00:03<00:00,  3.30it/s, loss=0.00222]\n",
            "Training Epoch 466/500: 100%|██████████| 103/103 [00:25<00:00,  4.11it/s, loss=0.00198]\n",
            "Validating Epoch 466/500: 100%|██████████| 11/11 [00:02<00:00,  3.96it/s, loss=0.00184]\n",
            "Training Epoch 467/500: 100%|██████████| 103/103 [00:25<00:00,  4.08it/s, loss=0.00215]\n",
            "Validating Epoch 467/500: 100%|██████████| 11/11 [00:02<00:00,  3.98it/s, loss=0.00196]\n",
            "Training Epoch 468/500: 100%|██████████| 103/103 [00:25<00:00,  4.07it/s, loss=0.00189]\n",
            "Validating Epoch 468/500: 100%|██████████| 11/11 [00:02<00:00,  3.86it/s, loss=0.00218]\n",
            "Training Epoch 469/500: 100%|██████████| 103/103 [00:25<00:00,  4.07it/s, loss=0.00206]\n",
            "Validating Epoch 469/500: 100%|██████████| 11/11 [00:02<00:00,  4.00it/s, loss=0.00216]\n",
            "Training Epoch 470/500: 100%|██████████| 103/103 [00:25<00:00,  4.05it/s, loss=0.00227]\n",
            "Validating Epoch 470/500: 100%|██████████| 11/11 [00:02<00:00,  3.94it/s, loss=0.00212]\n",
            "Training Epoch 471/500: 100%|██████████| 103/103 [00:25<00:00,  4.10it/s, loss=0.00225]\n",
            "Validating Epoch 471/500: 100%|██████████| 11/11 [00:02<00:00,  3.82it/s, loss=0.00185]\n",
            "Training Epoch 472/500: 100%|██████████| 103/103 [00:25<00:00,  4.10it/s, loss=0.00213]\n",
            "Validating Epoch 472/500: 100%|██████████| 11/11 [00:02<00:00,  3.98it/s, loss=0.00191]\n",
            "Training Epoch 473/500: 100%|██████████| 103/103 [00:25<00:00,  4.01it/s, loss=0.00245]\n",
            "Validating Epoch 473/500: 100%|██████████| 11/11 [00:02<00:00,  3.92it/s, loss=0.00221]\n",
            "Training Epoch 474/500: 100%|██████████| 103/103 [00:25<00:00,  4.05it/s, loss=0.00212]\n",
            "Validating Epoch 474/500: 100%|██████████| 11/11 [00:02<00:00,  3.85it/s, loss=0.00205]\n",
            "Training Epoch 475/500: 100%|██████████| 103/103 [00:25<00:00,  4.11it/s, loss=0.00208]\n",
            "Validating Epoch 475/500: 100%|██████████| 11/11 [00:02<00:00,  4.00it/s, loss=0.00211]\n",
            "Training Epoch 476/500: 100%|██████████| 103/103 [00:25<00:00,  4.11it/s, loss=0.00201]\n",
            "Validating Epoch 476/500: 100%|██████████| 11/11 [00:02<00:00,  3.97it/s, loss=0.00217]\n",
            "Training Epoch 477/500: 100%|██████████| 103/103 [00:25<00:00,  4.08it/s, loss=0.00232]\n",
            "Validating Epoch 477/500: 100%|██████████| 11/11 [00:02<00:00,  3.97it/s, loss=0.00183]\n",
            "Training Epoch 478/500: 100%|██████████| 103/103 [00:25<00:00,  4.07it/s, loss=0.00223]\n",
            "Validating Epoch 478/500: 100%|██████████| 11/11 [00:02<00:00,  4.02it/s, loss=0.00222]\n",
            "Training Epoch 479/500: 100%|██████████| 103/103 [00:25<00:00,  4.09it/s, loss=0.00241]\n",
            "Validating Epoch 479/500: 100%|██████████| 11/11 [00:02<00:00,  3.95it/s, loss=0.00182]\n",
            "Training Epoch 480/500: 100%|██████████| 103/103 [00:25<00:00,  4.09it/s, loss=0.0023]\n",
            "Validating Epoch 480/500: 100%|██████████| 11/11 [00:02<00:00,  3.90it/s, loss=0.0018]\n",
            "Training Epoch 481/500: 100%|██████████| 103/103 [00:25<00:00,  4.09it/s, loss=0.00207]\n",
            "Validating Epoch 481/500: 100%|██████████| 11/11 [00:02<00:00,  3.92it/s, loss=0.00217]\n",
            "Training Epoch 482/500: 100%|██████████| 103/103 [00:25<00:00,  4.10it/s, loss=0.00177]\n",
            "Validating Epoch 482/500: 100%|██████████| 11/11 [00:02<00:00,  3.92it/s, loss=0.00203]\n",
            "Training Epoch 483/500: 100%|██████████| 103/103 [00:25<00:00,  4.10it/s, loss=0.00219]\n",
            "Validating Epoch 483/500: 100%|██████████| 11/11 [00:02<00:00,  3.95it/s, loss=0.00166]\n",
            "Training Epoch 484/500: 100%|██████████| 103/103 [00:25<00:00,  4.09it/s, loss=0.00216]\n",
            "Validating Epoch 484/500: 100%|██████████| 11/11 [00:02<00:00,  3.98it/s, loss=0.00199]\n",
            "Training Epoch 485/500: 100%|██████████| 103/103 [00:25<00:00,  4.08it/s, loss=0.00184]\n",
            "Validating Epoch 485/500: 100%|██████████| 11/11 [00:02<00:00,  3.96it/s, loss=0.00208]\n",
            "Training Epoch 486/500: 100%|██████████| 103/103 [00:25<00:00,  4.09it/s, loss=0.00244]\n",
            "Validating Epoch 486/500: 100%|██████████| 11/11 [00:02<00:00,  3.93it/s, loss=0.00198]\n",
            "Training Epoch 487/500: 100%|██████████| 103/103 [00:25<00:00,  4.11it/s, loss=0.00241]\n",
            "Validating Epoch 487/500: 100%|██████████| 11/11 [00:02<00:00,  3.97it/s, loss=0.00212]\n",
            "Training Epoch 488/500: 100%|██████████| 103/103 [00:25<00:00,  4.05it/s, loss=0.00206]\n",
            "Validating Epoch 488/500: 100%|██████████| 11/11 [00:02<00:00,  4.00it/s, loss=0.00178]\n",
            "Training Epoch 489/500: 100%|██████████| 103/103 [00:25<00:00,  4.10it/s, loss=0.00233]\n",
            "Validating Epoch 489/500: 100%|██████████| 11/11 [00:02<00:00,  3.88it/s, loss=0.00221]\n",
            "Training Epoch 490/500: 100%|██████████| 103/103 [00:25<00:00,  4.08it/s, loss=0.00183]\n",
            "Validating Epoch 490/500: 100%|██████████| 11/11 [00:02<00:00,  3.97it/s, loss=0.00178]\n",
            "Training Epoch 491/500: 100%|██████████| 103/103 [00:25<00:00,  4.05it/s, loss=0.00213]\n",
            "Validating Epoch 491/500: 100%|██████████| 11/11 [00:02<00:00,  3.99it/s, loss=0.00192]\n",
            "Training Epoch 492/500: 100%|██████████| 103/103 [00:25<00:00,  4.07it/s, loss=0.00221]\n",
            "Validating Epoch 492/500: 100%|██████████| 11/11 [00:02<00:00,  3.95it/s, loss=0.00189]\n",
            "Training Epoch 493/500: 100%|██████████| 103/103 [00:25<00:00,  4.12it/s, loss=0.00197]\n",
            "Validating Epoch 493/500: 100%|██████████| 11/11 [00:02<00:00,  3.99it/s, loss=0.00208]\n",
            "Training Epoch 494/500: 100%|██████████| 103/103 [00:25<00:00,  4.10it/s, loss=0.00191]\n",
            "Validating Epoch 494/500: 100%|██████████| 11/11 [00:02<00:00,  3.94it/s, loss=0.00217]\n",
            "Training Epoch 495/500: 100%|██████████| 103/103 [00:25<00:00,  4.06it/s, loss=0.00234]\n",
            "Validating Epoch 495/500: 100%|██████████| 11/11 [00:02<00:00,  3.96it/s, loss=0.00225]\n",
            "Training Epoch 496/500: 100%|██████████| 103/103 [00:25<00:00,  4.06it/s, loss=0.00181]\n",
            "Validating Epoch 496/500: 100%|██████████| 11/11 [00:02<00:00,  3.94it/s, loss=0.00138]\n",
            "Training Epoch 497/500: 100%|██████████| 103/103 [00:25<00:00,  4.10it/s, loss=0.00198]\n",
            "Validating Epoch 497/500: 100%|██████████| 11/11 [00:02<00:00,  3.94it/s, loss=0.00178]\n",
            "Training Epoch 498/500: 100%|██████████| 103/103 [00:25<00:00,  4.11it/s, loss=0.00189]\n",
            "Validating Epoch 498/500: 100%|██████████| 11/11 [00:02<00:00,  3.95it/s, loss=0.00201]\n",
            "Training Epoch 499/500: 100%|██████████| 103/103 [00:25<00:00,  4.10it/s, loss=0.00204]\n",
            "Validating Epoch 499/500: 100%|██████████| 11/11 [00:02<00:00,  3.88it/s, loss=0.00188]\n",
            "Training Epoch 500/500: 100%|██████████| 103/103 [00:25<00:00,  4.11it/s, loss=0.00203]\n",
            "Validating Epoch 500/500: 100%|██████████| 11/11 [00:02<00:00,  3.91it/s, loss=0.0021]\n"
          ]
        }
      ],
      "source": [
        "model.norm_pix_loss = False\n",
        "optimizer = torch.optim.AdamW(model.parameters(), lr=1e-3, weight_decay=0.05, betas=(0.9, 0.95))\n",
        "\n",
        "total_epochs = 500\n",
        "batches_per_epoch = len(TrainLoader)\n",
        "total_training_steps = total_epochs * batches_per_epoch\n",
        "num_warmup_steps = int(total_training_steps * 0.4)\n",
        "scheduler = get_linear_schedule_with_warmup(optimizer, num_warmup_steps, total_training_steps)\n",
        "\n",
        "Train_MAE(model, TrainLoader, ValidationLoader, 0.5, optimizer,\n",
        "            epochs=total_epochs, device='cuda', scheduler=scheduler)"
      ]
    },
    {
      "cell_type": "code",
      "execution_count": 10,
      "metadata": {
        "colab": {
          "base_uri": "https://localhost:8080/",
          "height": 392
        },
        "id": "qD1su2YQutSs",
        "outputId": "cf8e1118-e20c-4d88-fe9c-2bee8baeb304"
      },
      "outputs": [
        {
          "data": {
            "image/png": "[encoded data removed]",
            "text/plain": [
              "<Figure size 1500x500 with 3 Axes>"
            ]
          },
          "metadata": {},
          "output_type": "display_data"
        }
      ],
      "source": [
        "torch.set_float32_matmul_precision('high')\n",
        "visualize_reconstruction(model, train, index=0, mask_ratio=0.5, patch_size=16, device=device)"
      ]
    },
    {
      "cell_type": "code",
      "execution_count": null,
      "metadata": {
        "id": "5Glo42ttuwMJ"
      },
      "outputs": [],
      "source": [
        "torch.save(model.state_dict(), 'MaskedAutoEncoder__Very_VeryDeep_Final__Solution.pth')"
      ]
    },
    {
      "cell_type": "code",
      "execution_count": 12,
      "metadata": {
        "colab": {
          "base_uri": "https://localhost:8080/"
        },
        "id": "nlyyK3Ttu1Ju",
        "outputId": "47b6f26b-1a36-43cf-badf-52a7db69785e"
      },
      "outputs": [
        {
          "name": "stdout",
          "output_type": "stream",
          "text": [
            "torch.Size([1, 4, 2048])\n",
            "tensor(14.9090, device='cuda:0', grad_fn=<MeanBackward0>)\n"
          ]
        }
      ],
      "source": [
        "image = train[4].unsqueeze(0).to(device)  # (1, 1, 64, 64)\n",
        "latent, _, _ = model.forward_encoder(image, masking_ratio=0.75)\n",
        "print(latent.shape)  # Should be (1, 4, 768) - 4 unmasked patches\n",
        "print(latent.var(dim=1).mean())  # Variance across patches"
      ]
    },
    {
      "cell_type": "code",
      "execution_count": 13,
      "metadata": {
        "colab": {
          "base_uri": "https://localhost:8080/"
        },
        "id": "_52cYjZ4u43R",
        "outputId": "63d5e3ae-05f0-44ac-8011-3d8653f48362"
      },
      "outputs": [
        {
          "name": "stdout",
          "output_type": "stream",
          "text": [
            "Decoder Positional Embeddings Variance: 0.19542153179645538\n"
          ]
        }
      ],
      "source": [
        "print(\"Decoder Positional Embeddings Variance:\", model.decoder_pos_embed.var(dim=1).mean().item())"
      ]
    },
    {
      "cell_type": "code",
      "execution_count": 14,
      "metadata": {
        "colab": {
          "base_uri": "https://localhost:8080/",
          "height": 392
        },
        "id": "_pvaoHOVu60B",
        "outputId": "2437f75b-9e16-4499-da66-404ae68b3c79"
      },
      "outputs": [
        {
          "data": {
            "image/png": "[encoded data removed]",
            "text/plain": [
              "<Figure size 1500x500 with 3 Axes>"
            ]
          },
          "metadata": {},
          "output_type": "display_data"
        }
      ],
      "source": [
        "TestingData = torch.rand(4, 1, 64, 64).to(device)\n",
        "visualize_reconstruction(model, TestingData, index=2, mask_ratio=0.3, patch_size=16, device=device)"
      ]
    },
    {
      "cell_type": "code",
      "execution_count": null,
      "metadata": {
        "id": "7LlZkT6h2gdn"
      },
      "outputs": [],
      "source": [
        "# !mv MaskedAutoEncoder__Very_VeryDeep_Final__Solution.pth /content/drive/"
      ]
    },
    {
      "cell_type": "code",
      "execution_count": null,
      "metadata": {
        "id": "py6iRMwBc8uD"
      },
      "outputs": [],
      "source": [
        "import numpy as np\n",
        "import matplotlib.pyplot as plt\n",
        "import torch\n",
        "\n",
        "# import sys, os\n",
        "# sys.path.append(os.path.join(os.path.dirname(\"./\"), '..'))\n",
        "\n",
        "Data = []\n",
        "labels = []\n",
        "\n",
        "for root, dirs, _ in os.walk('../dataset/DatasetTask6A/'):\n",
        "    for dir in dirs:\n",
        "        for root2, _, files in os.walk(os.path.abspath(os.path.join(root, dir))):\n",
        "            for file in files:\n",
        "                Data.append(os.path.abspath(os.path.join(root2, file)))\n",
        "                labels.append(dir)\n",
        "\n",
        "# Data = Data[:100]\n",
        "# labels = labels[:100]\n",
        "\n",
        "print(\"Number of files: \", len(Data))\n",
        "print(\"Number of labels: \", len(labels))"
      ]
    },
    {
      "cell_type": "code",
      "execution_count": null,
      "metadata": {
        "id": "Ubxl3dOxdNk1"
      },
      "outputs": [],
      "source": [
        "from utils.CustomDataset import CustomDataset\n",
        "from utils.Training import Train\n",
        "from Models.MAEClassifier import MAEViTClassifier\n",
        "from Models.MaskedAutoEncoders import MaskedAutoEncoder\n",
        "\n",
        "\n",
        "Dataset = CustomDataset(\n",
        "    root='../dataset/DatasetTask6A/',\n",
        "    data=Data,\n",
        "    label=labels,\n",
        "    label_to_id = {'axion': 0, 'cdm':1, 'no_sub':2},\n",
        "    transforms=None,\n",
        "    label_transform=None,\n",
        ")\n",
        "\n",
        "train, test = torch.utils.data.random_split(Dataset, [int(len(Dataset)*0.8), len(Dataset) - int(len(Dataset)*0.8)])\n",
        "\n",
        "trainloader = torch.utils.data.DataLoader(\n",
        "    train,\n",
        "    batch_size=128,\n",
        "    shuffle=True,\n",
        "    num_workers=2,\n",
        ")\n",
        "\n",
        "testloader = torch.utils.data.DataLoader(\n",
        "    test,\n",
        "    batch_size=128,\n",
        "    shuffle=True,\n",
        "    num_workers=2,\n",
        ")"
      ]
    },
    {
      "cell_type": "code",
      "execution_count": 23,
      "metadata": {
        "colab": {
          "base_uri": "https://localhost:8080/"
        },
        "id": "r3PybrNjdZQE",
        "outputId": "a92ba43e-f187-40ea-bf3a-c257a7a57044"
      },
      "outputs": [
        {
          "name": "stdout",
          "output_type": "stream",
          "text": [
            "Created Classifier\n"
          ]
        }
      ],
      "source": [
        "ClassifierModel = MAEViTClassifier(\n",
        "    Encoder=model,\n",
        "    num_classes=3,\n",
        "    hidden_size=1024\n",
        ").to(device='cuda')"
      ]
    },
    {
      "cell_type": "code",
      "execution_count": 26,
      "metadata": {
        "colab": {
          "base_uri": "https://localhost:8080/"
        },
        "id": "IzklcKu2dfLf",
        "outputId": "7a0f7d95-7d94-4cc6-8f99-6c8423abec73"
      },
      "outputs": [
        {
          "name": "stderr",
          "output_type": "stream",
          "text": [
            "Training Epoch 1/100: 100%|██████████| 557/557 [00:59<00:00,  9.30it/s, accuracy=0.878, loss=0.299]\n",
            "Validating: 100%|██████████| 140/140 [00:03<00:00, 44.59it/s]\n"
          ]
        },
        {
          "name": "stdout",
          "output_type": "stream",
          "text": [
            "Epoch 1: Validation Loss = 0.3243\n"
          ]
        },
        {
          "name": "stderr",
          "output_type": "stream",
          "text": [
            "Training Epoch 2/100: 100%|██████████| 557/557 [00:59<00:00,  9.30it/s, accuracy=0.809, loss=0.381]\n",
            "Validating: 100%|██████████| 140/140 [00:03<00:00, 44.61it/s]\n"
          ]
        },
        {
          "name": "stdout",
          "output_type": "stream",
          "text": [
            "Epoch 2: Validation Loss = 0.2527\n"
          ]
        },
        {
          "name": "stderr",
          "output_type": "stream",
          "text": [
            "Training Epoch 3/100: 100%|██████████| 557/557 [00:59<00:00,  9.30it/s, accuracy=0.93, loss=0.209]\n",
            "Validating: 100%|██████████| 140/140 [00:03<00:00, 44.47it/s]\n"
          ]
        },
        {
          "name": "stdout",
          "output_type": "stream",
          "text": [
            "Epoch 3: Validation Loss = 0.2968\n"
          ]
        },
        {
          "name": "stderr",
          "output_type": "stream",
          "text": [
            "Training Epoch 4/100: 100%|██████████| 557/557 [00:59<00:00,  9.31it/s, accuracy=0.896, loss=0.236]\n",
            "Validating: 100%|██████████| 140/140 [00:03<00:00, 44.70it/s]\n"
          ]
        },
        {
          "name": "stdout",
          "output_type": "stream",
          "text": [
            "Epoch 4: Validation Loss = 0.3083\n"
          ]
        },
        {
          "name": "stderr",
          "output_type": "stream",
          "text": [
            "Training Epoch 5/100: 100%|██████████| 557/557 [00:59<00:00,  9.31it/s, accuracy=0.896, loss=0.268]\n",
            "Validating: 100%|██████████| 140/140 [00:03<00:00, 44.76it/s]\n"
          ]
        },
        {
          "name": "stdout",
          "output_type": "stream",
          "text": [
            "Epoch 5: Validation Loss = 0.3131\n"
          ]
        },
        {
          "name": "stderr",
          "output_type": "stream",
          "text": [
            "Training Epoch 6/100: 100%|██████████| 557/557 [00:59<00:00,  9.30it/s, accuracy=0.939, loss=0.2]\n",
            "Validating: 100%|██████████| 140/140 [00:03<00:00, 44.71it/s]\n"
          ]
        },
        {
          "name": "stdout",
          "output_type": "stream",
          "text": [
            "Epoch 6: Validation Loss = 0.1948\n"
          ]
        },
        {
          "name": "stderr",
          "output_type": "stream",
          "text": [
            "Training Epoch 7/100: 100%|██████████| 557/557 [00:59<00:00,  9.30it/s, accuracy=0.904, loss=0.248]\n",
            "Validating: 100%|██████████| 140/140 [00:03<00:00, 44.57it/s]\n"
          ]
        },
        {
          "name": "stdout",
          "output_type": "stream",
          "text": [
            "Epoch 7: Validation Loss = 0.2030\n"
          ]
        },
        {
          "name": "stderr",
          "output_type": "stream",
          "text": [
            "Training Epoch 8/100: 100%|██████████| 557/557 [00:59<00:00,  9.31it/s, accuracy=0.852, loss=0.363]\n",
            "Validating: 100%|██████████| 140/140 [00:03<00:00, 44.69it/s]\n"
          ]
        },
        {
          "name": "stdout",
          "output_type": "stream",
          "text": [
            "Epoch 8: Validation Loss = 0.2317\n"
          ]
        },
        {
          "name": "stderr",
          "output_type": "stream",
          "text": [
            "Training Epoch 9/100: 100%|██████████| 557/557 [00:59<00:00,  9.31it/s, accuracy=0.93, loss=0.248]\n",
            "Validating: 100%|██████████| 140/140 [00:03<00:00, 44.65it/s]\n"
          ]
        },
        {
          "name": "stdout",
          "output_type": "stream",
          "text": [
            "Epoch 9: Validation Loss = 0.1917\n"
          ]
        },
        {
          "name": "stderr",
          "output_type": "stream",
          "text": [
            "Training Epoch 10/100: 100%|██████████| 557/557 [00:59<00:00,  9.31it/s, accuracy=0.896, loss=0.313]\n",
            "Validating: 100%|██████████| 140/140 [00:03<00:00, 44.73it/s]\n"
          ]
        },
        {
          "name": "stdout",
          "output_type": "stream",
          "text": [
            "Epoch 10: Validation Loss = 0.1703\n"
          ]
        },
        {
          "name": "stderr",
          "output_type": "stream",
          "text": [
            "Training Epoch 11/100: 100%|██████████| 557/557 [00:59<00:00,  9.30it/s, accuracy=0.965, loss=0.0857]\n",
            "Validating: 100%|██████████| 140/140 [00:03<00:00, 44.73it/s]\n"
          ]
        },
        {
          "name": "stdout",
          "output_type": "stream",
          "text": [
            "Epoch 11: Validation Loss = 0.1622\n"
          ]
        },
        {
          "name": "stderr",
          "output_type": "stream",
          "text": [
            "Training Epoch 12/100: 100%|██████████| 557/557 [00:59<00:00,  9.30it/s, accuracy=0.948, loss=0.159]\n",
            "Validating: 100%|██████████| 140/140 [00:03<00:00, 44.76it/s]\n"
          ]
        },
        {
          "name": "stdout",
          "output_type": "stream",
          "text": [
            "Epoch 12: Validation Loss = 0.1519\n"
          ]
        },
        {
          "name": "stderr",
          "output_type": "stream",
          "text": [
            "Training Epoch 13/100: 100%|██████████| 557/557 [00:59<00:00,  9.31it/s, accuracy=0.965, loss=0.13]\n",
            "Validating: 100%|██████████| 140/140 [00:03<00:00, 44.71it/s]\n"
          ]
        },
        {
          "name": "stdout",
          "output_type": "stream",
          "text": [
            "Epoch 13: Validation Loss = 0.1932\n"
          ]
        },
        {
          "name": "stderr",
          "output_type": "stream",
          "text": [
            "Training Epoch 14/100: 100%|██████████| 557/557 [00:59<00:00,  9.31it/s, accuracy=0.93, loss=0.165]\n",
            "Validating: 100%|██████████| 140/140 [00:03<00:00, 44.52it/s]\n"
          ]
        },
        {
          "name": "stdout",
          "output_type": "stream",
          "text": [
            "Epoch 14: Validation Loss = 0.1783\n"
          ]
        },
        {
          "name": "stderr",
          "output_type": "stream",
          "text": [
            "Training Epoch 15/100: 100%|██████████| 557/557 [00:59<00:00,  9.31it/s, accuracy=0.957, loss=0.132]\n",
            "Validating: 100%|██████████| 140/140 [00:03<00:00, 44.34it/s]\n"
          ]
        },
        {
          "name": "stdout",
          "output_type": "stream",
          "text": [
            "Epoch 15: Validation Loss = 0.1372\n"
          ]
        },
        {
          "name": "stderr",
          "output_type": "stream",
          "text": [
            "Training Epoch 16/100: 100%|██████████| 557/557 [00:59<00:00,  9.33it/s, accuracy=0.878, loss=0.249]\n",
            "Validating: 100%|██████████| 140/140 [00:03<00:00, 44.61it/s]\n"
          ]
        },
        {
          "name": "stdout",
          "output_type": "stream",
          "text": [
            "Epoch 16: Validation Loss = 0.1965\n"
          ]
        },
        {
          "name": "stderr",
          "output_type": "stream",
          "text": [
            "Training Epoch 17/100: 100%|██████████| 557/557 [00:59<00:00,  9.32it/s, accuracy=0.974, loss=0.0835]\n",
            "Validating: 100%|██████████| 140/140 [00:03<00:00, 44.67it/s]\n"
          ]
        },
        {
          "name": "stdout",
          "output_type": "stream",
          "text": [
            "Epoch 17: Validation Loss = 0.1365\n"
          ]
        },
        {
          "name": "stderr",
          "output_type": "stream",
          "text": [
            "Training Epoch 18/100: 100%|██████████| 557/557 [00:59<00:00,  9.31it/s, accuracy=0.913, loss=0.275]\n",
            "Validating: 100%|██████████| 140/140 [00:03<00:00, 44.61it/s]\n"
          ]
        },
        {
          "name": "stdout",
          "output_type": "stream",
          "text": [
            "Epoch 18: Validation Loss = 0.2590\n"
          ]
        },
        {
          "name": "stderr",
          "output_type": "stream",
          "text": [
            "Training Epoch 19/100: 100%|██████████| 557/557 [00:59<00:00,  9.30it/s, accuracy=0.904, loss=0.246]\n",
            "Validating: 100%|██████████| 140/140 [00:03<00:00, 44.52it/s]\n"
          ]
        },
        {
          "name": "stdout",
          "output_type": "stream",
          "text": [
            "Epoch 19: Validation Loss = 0.2613\n"
          ]
        },
        {
          "name": "stderr",
          "output_type": "stream",
          "text": [
            "Training Epoch 20/100: 100%|██████████| 557/557 [00:59<00:00,  9.29it/s, accuracy=0.957, loss=0.111]\n",
            "Validating: 100%|██████████| 140/140 [00:03<00:00, 44.44it/s]\n"
          ]
        },
        {
          "name": "stdout",
          "output_type": "stream",
          "text": [
            "Epoch 20: Validation Loss = 0.2129\n"
          ]
        },
        {
          "name": "stderr",
          "output_type": "stream",
          "text": [
            "Training Epoch 21/100: 100%|██████████| 557/557 [00:59<00:00,  9.29it/s, accuracy=0.948, loss=0.14]\n",
            "Validating: 100%|██████████| 140/140 [00:03<00:00, 44.44it/s]\n"
          ]
        },
        {
          "name": "stdout",
          "output_type": "stream",
          "text": [
            "Epoch 21: Validation Loss = 0.1666\n"
          ]
        },
        {
          "name": "stderr",
          "output_type": "stream",
          "text": [
            "Training Epoch 22/100: 100%|██████████| 557/557 [01:00<00:00,  9.27it/s, accuracy=0.913, loss=0.244]\n",
            "Validating: 100%|██████████| 140/140 [00:03<00:00, 44.52it/s]\n"
          ]
        },
        {
          "name": "stdout",
          "output_type": "stream",
          "text": [
            "Epoch 22: Validation Loss = 0.1280\n"
          ]
        },
        {
          "name": "stderr",
          "output_type": "stream",
          "text": [
            "Training Epoch 23/100: 100%|██████████| 557/557 [00:59<00:00,  9.29it/s, accuracy=0.93, loss=0.198]\n",
            "Validating: 100%|██████████| 140/140 [00:03<00:00, 44.24it/s]\n"
          ]
        },
        {
          "name": "stdout",
          "output_type": "stream",
          "text": [
            "Epoch 23: Validation Loss = 0.1497\n"
          ]
        },
        {
          "name": "stderr",
          "output_type": "stream",
          "text": [
            "Training Epoch 24/100: 100%|██████████| 557/557 [01:00<00:00,  9.27it/s, accuracy=0.948, loss=0.132]\n",
            "Validating: 100%|██████████| 140/140 [00:03<00:00, 44.54it/s]\n"
          ]
        },
        {
          "name": "stdout",
          "output_type": "stream",
          "text": [
            "Epoch 24: Validation Loss = 0.1304\n"
          ]
        },
        {
          "name": "stderr",
          "output_type": "stream",
          "text": [
            "Training Epoch 25/100: 100%|██████████| 557/557 [01:00<00:00,  9.27it/s, accuracy=0.948, loss=0.174]\n",
            "Validating: 100%|██████████| 140/140 [00:03<00:00, 44.43it/s]\n"
          ]
        },
        {
          "name": "stdout",
          "output_type": "stream",
          "text": [
            "Epoch 25: Validation Loss = 0.2469\n"
          ]
        },
        {
          "name": "stderr",
          "output_type": "stream",
          "text": [
            "Training Epoch 26/100: 100%|██████████| 557/557 [01:00<00:00,  9.28it/s, accuracy=0.983, loss=0.07]\n",
            "Validating: 100%|██████████| 140/140 [00:03<00:00, 44.59it/s]\n"
          ]
        },
        {
          "name": "stdout",
          "output_type": "stream",
          "text": [
            "Epoch 26: Validation Loss = 0.1461\n"
          ]
        },
        {
          "name": "stderr",
          "output_type": "stream",
          "text": [
            "Training Epoch 27/100: 100%|██████████| 557/557 [00:59<00:00,  9.29it/s, accuracy=0.974, loss=0.123]\n",
            "Validating: 100%|██████████| 140/140 [00:03<00:00, 44.61it/s]\n"
          ]
        },
        {
          "name": "stdout",
          "output_type": "stream",
          "text": [
            "Epoch 27: Validation Loss = 0.1042\n"
          ]
        },
        {
          "name": "stderr",
          "output_type": "stream",
          "text": [
            "Training Epoch 28/100: 100%|██████████| 557/557 [00:59<00:00,  9.30it/s, accuracy=0.939, loss=0.162]\n",
            "Validating: 100%|██████████| 140/140 [00:03<00:00, 44.57it/s]\n"
          ]
        },
        {
          "name": "stdout",
          "output_type": "stream",
          "text": [
            "Epoch 28: Validation Loss = 0.1444\n"
          ]
        },
        {
          "name": "stderr",
          "output_type": "stream",
          "text": [
            "Training Epoch 29/100: 100%|██████████| 557/557 [00:59<00:00,  9.30it/s, accuracy=0.965, loss=0.113]\n",
            "Validating: 100%|██████████| 140/140 [00:03<00:00, 44.52it/s]\n"
          ]
        },
        {
          "name": "stdout",
          "output_type": "stream",
          "text": [
            "Epoch 29: Validation Loss = 0.1461\n"
          ]
        },
        {
          "name": "stderr",
          "output_type": "stream",
          "text": [
            "Training Epoch 30/100: 100%|██████████| 557/557 [00:59<00:00,  9.29it/s, accuracy=0.913, loss=0.18]\n",
            "Validating: 100%|██████████| 140/140 [00:03<00:00, 44.23it/s]\n"
          ]
        },
        {
          "name": "stdout",
          "output_type": "stream",
          "text": [
            "Epoch 30: Validation Loss = 0.1504\n"
          ]
        },
        {
          "name": "stderr",
          "output_type": "stream",
          "text": [
            "Training Epoch 31/100: 100%|██████████| 557/557 [01:00<00:00,  9.27it/s, accuracy=0.965, loss=0.0991]\n",
            "Validating: 100%|██████████| 140/140 [00:03<00:00, 44.37it/s]\n"
          ]
        },
        {
          "name": "stdout",
          "output_type": "stream",
          "text": [
            "Epoch 31: Validation Loss = 0.1268\n"
          ]
        },
        {
          "name": "stderr",
          "output_type": "stream",
          "text": [
            "Training Epoch 32/100: 100%|██████████| 557/557 [01:00<00:00,  9.23it/s, accuracy=0.948, loss=0.118]\n",
            "Validating: 100%|██████████| 140/140 [00:03<00:00, 44.37it/s]\n"
          ]
        },
        {
          "name": "stdout",
          "output_type": "stream",
          "text": [
            "Epoch 32: Validation Loss = 0.1113\n"
          ]
        },
        {
          "name": "stderr",
          "output_type": "stream",
          "text": [
            "Training Epoch 33/100: 100%|██████████| 557/557 [01:00<00:00,  9.26it/s, accuracy=0.974, loss=0.09]\n",
            "Validating: 100%|██████████| 140/140 [00:03<00:00, 44.62it/s]\n"
          ]
        },
        {
          "name": "stdout",
          "output_type": "stream",
          "text": [
            "Epoch 33: Validation Loss = 0.1500\n"
          ]
        },
        {
          "name": "stderr",
          "output_type": "stream",
          "text": [
            "Training Epoch 34/100: 100%|██████████| 557/557 [01:00<00:00,  9.28it/s, accuracy=0.93, loss=0.201]\n",
            "Validating: 100%|██████████| 140/140 [00:03<00:00, 44.50it/s]\n"
          ]
        },
        {
          "name": "stdout",
          "output_type": "stream",
          "text": [
            "Epoch 34: Validation Loss = 0.1879\n"
          ]
        },
        {
          "name": "stderr",
          "output_type": "stream",
          "text": [
            "Training Epoch 35/100: 100%|██████████| 557/557 [01:00<00:00,  9.28it/s, accuracy=0.922, loss=0.16]\n",
            "Validating: 100%|██████████| 140/140 [00:03<00:00, 44.36it/s]\n"
          ]
        },
        {
          "name": "stdout",
          "output_type": "stream",
          "text": [
            "Epoch 35: Validation Loss = 0.1130\n"
          ]
        },
        {
          "name": "stderr",
          "output_type": "stream",
          "text": [
            "Training Epoch 36/100: 100%|██████████| 557/557 [01:00<00:00,  9.28it/s, accuracy=0.965, loss=0.082]\n",
            "Validating: 100%|██████████| 140/140 [00:03<00:00, 44.56it/s]\n"
          ]
        },
        {
          "name": "stdout",
          "output_type": "stream",
          "text": [
            "Epoch 36: Validation Loss = 0.1345\n"
          ]
        },
        {
          "name": "stderr",
          "output_type": "stream",
          "text": [
            "Training Epoch 37/100: 100%|██████████| 557/557 [00:59<00:00,  9.29it/s, accuracy=0.957, loss=0.122]\n",
            "Validating: 100%|██████████| 140/140 [00:03<00:00, 44.59it/s]\n"
          ]
        },
        {
          "name": "stdout",
          "output_type": "stream",
          "text": [
            "Epoch 37: Validation Loss = 0.1382\n"
          ]
        },
        {
          "name": "stderr",
          "output_type": "stream",
          "text": [
            "Training Epoch 38/100: 100%|██████████| 557/557 [01:00<00:00,  9.27it/s, accuracy=0.948, loss=0.154]\n",
            "Validating: 100%|██████████| 140/140 [00:03<00:00, 44.50it/s]\n"
          ]
        },
        {
          "name": "stdout",
          "output_type": "stream",
          "text": [
            "Epoch 38: Validation Loss = 0.0860\n"
          ]
        },
        {
          "name": "stderr",
          "output_type": "stream",
          "text": [
            "Training Epoch 39/100: 100%|██████████| 557/557 [01:00<00:00,  9.27it/s, accuracy=0.957, loss=0.111]\n",
            "Validating: 100%|██████████| 140/140 [00:03<00:00, 44.47it/s]\n"
          ]
        },
        {
          "name": "stdout",
          "output_type": "stream",
          "text": [
            "Epoch 39: Validation Loss = 0.1208\n"
          ]
        },
        {
          "name": "stderr",
          "output_type": "stream",
          "text": [
            "Training Epoch 40/100: 100%|██████████| 557/557 [01:00<00:00,  9.28it/s, accuracy=0.93, loss=0.131]\n",
            "Validating: 100%|██████████| 140/140 [00:03<00:00, 44.47it/s]\n"
          ]
        },
        {
          "name": "stdout",
          "output_type": "stream",
          "text": [
            "Epoch 40: Validation Loss = 0.1404\n"
          ]
        },
        {
          "name": "stderr",
          "output_type": "stream",
          "text": [
            "Training Epoch 41/100: 100%|██████████| 557/557 [01:00<00:00,  9.28it/s, accuracy=0.957, loss=0.131]\n",
            "Validating: 100%|██████████| 140/140 [00:03<00:00, 44.45it/s]\n"
          ]
        },
        {
          "name": "stdout",
          "output_type": "stream",
          "text": [
            "Epoch 41: Validation Loss = 0.1039\n"
          ]
        },
        {
          "name": "stderr",
          "output_type": "stream",
          "text": [
            "Training Epoch 42/100: 100%|██████████| 557/557 [01:00<00:00,  9.28it/s, accuracy=0.974, loss=0.0979]\n",
            "Validating: 100%|██████████| 140/140 [00:03<00:00, 44.53it/s]\n"
          ]
        },
        {
          "name": "stdout",
          "output_type": "stream",
          "text": [
            "Epoch 42: Validation Loss = 0.0986\n"
          ]
        },
        {
          "name": "stderr",
          "output_type": "stream",
          "text": [
            "Training Epoch 43/100: 100%|██████████| 557/557 [01:00<00:00,  9.28it/s, accuracy=0.983, loss=0.0624]\n",
            "Validating: 100%|██████████| 140/140 [00:03<00:00, 44.41it/s]\n"
          ]
        },
        {
          "name": "stdout",
          "output_type": "stream",
          "text": [
            "Epoch 43: Validation Loss = 0.0791\n"
          ]
        },
        {
          "name": "stderr",
          "output_type": "stream",
          "text": [
            "Training Epoch 44/100: 100%|██████████| 557/557 [01:00<00:00,  9.26it/s, accuracy=0.948, loss=0.113]\n",
            "Validating: 100%|██████████| 140/140 [00:03<00:00, 44.25it/s]\n"
          ]
        },
        {
          "name": "stdout",
          "output_type": "stream",
          "text": [
            "Epoch 44: Validation Loss = 0.1036\n"
          ]
        },
        {
          "name": "stderr",
          "output_type": "stream",
          "text": [
            "Training Epoch 45/100: 100%|██████████| 557/557 [01:00<00:00,  9.26it/s, accuracy=0.965, loss=0.077]\n",
            "Validating: 100%|██████████| 140/140 [00:03<00:00, 44.37it/s]\n"
          ]
        },
        {
          "name": "stdout",
          "output_type": "stream",
          "text": [
            "Epoch 45: Validation Loss = 0.1085\n"
          ]
        },
        {
          "name": "stderr",
          "output_type": "stream",
          "text": [
            "Training Epoch 46/100: 100%|██████████| 557/557 [01:00<00:00,  9.26it/s, accuracy=0.939, loss=0.182]\n",
            "Validating: 100%|██████████| 140/140 [00:03<00:00, 44.56it/s]\n"
          ]
        },
        {
          "name": "stdout",
          "output_type": "stream",
          "text": [
            "Epoch 46: Validation Loss = 0.2076\n"
          ]
        },
        {
          "name": "stderr",
          "output_type": "stream",
          "text": [
            "Training Epoch 47/100: 100%|██████████| 557/557 [01:00<00:00,  9.28it/s, accuracy=0.974, loss=0.0845]\n",
            "Validating: 100%|██████████| 140/140 [00:03<00:00, 44.46it/s]\n"
          ]
        },
        {
          "name": "stdout",
          "output_type": "stream",
          "text": [
            "Epoch 47: Validation Loss = 0.0936\n"
          ]
        },
        {
          "name": "stderr",
          "output_type": "stream",
          "text": [
            "Training Epoch 48/100: 100%|██████████| 557/557 [01:00<00:00,  9.28it/s, accuracy=0.974, loss=0.123]\n",
            "Validating: 100%|██████████| 140/140 [00:03<00:00, 44.28it/s]\n"
          ]
        },
        {
          "name": "stdout",
          "output_type": "stream",
          "text": [
            "Epoch 48: Validation Loss = 0.1371\n"
          ]
        },
        {
          "name": "stderr",
          "output_type": "stream",
          "text": [
            "Training Epoch 49/100: 100%|██████████| 557/557 [01:00<00:00,  9.28it/s, accuracy=0.93, loss=0.282]\n",
            "Validating: 100%|██████████| 140/140 [00:03<00:00, 44.48it/s]\n"
          ]
        },
        {
          "name": "stdout",
          "output_type": "stream",
          "text": [
            "Epoch 49: Validation Loss = 0.1222\n"
          ]
        },
        {
          "name": "stderr",
          "output_type": "stream",
          "text": [
            "Training Epoch 50/100: 100%|██████████| 557/557 [01:00<00:00,  9.28it/s, accuracy=0.974, loss=0.0632]\n",
            "Validating: 100%|██████████| 140/140 [00:03<00:00, 44.46it/s]\n"
          ]
        },
        {
          "name": "stdout",
          "output_type": "stream",
          "text": [
            "Epoch 50: Validation Loss = 0.1146\n"
          ]
        },
        {
          "name": "stderr",
          "output_type": "stream",
          "text": [
            "Training Epoch 51/100: 100%|██████████| 557/557 [00:59<00:00,  9.29it/s, accuracy=0.957, loss=0.144]\n",
            "Validating: 100%|██████████| 140/140 [00:03<00:00, 44.46it/s]\n"
          ]
        },
        {
          "name": "stdout",
          "output_type": "stream",
          "text": [
            "Epoch 51: Validation Loss = 0.1014\n"
          ]
        },
        {
          "name": "stderr",
          "output_type": "stream",
          "text": [
            "Training Epoch 52/100: 100%|██████████| 557/557 [00:59<00:00,  9.29it/s, accuracy=0.965, loss=0.0878]\n",
            "Validating: 100%|██████████| 140/140 [00:03<00:00, 44.42it/s]\n"
          ]
        },
        {
          "name": "stdout",
          "output_type": "stream",
          "text": [
            "Epoch 52: Validation Loss = 0.1163\n"
          ]
        },
        {
          "name": "stderr",
          "output_type": "stream",
          "text": [
            "Training Epoch 53/100: 100%|██████████| 557/557 [00:59<00:00,  9.29it/s, accuracy=0.974, loss=0.106]\n",
            "Validating: 100%|██████████| 140/140 [00:03<00:00, 44.10it/s]\n"
          ]
        },
        {
          "name": "stdout",
          "output_type": "stream",
          "text": [
            "Epoch 53: Validation Loss = 0.0889\n"
          ]
        },
        {
          "name": "stderr",
          "output_type": "stream",
          "text": [
            "Training Epoch 54/100: 100%|██████████| 557/557 [01:00<00:00,  9.28it/s, accuracy=0.974, loss=0.0633]\n",
            "Validating: 100%|██████████| 140/140 [00:03<00:00, 44.53it/s]\n"
          ]
        },
        {
          "name": "stdout",
          "output_type": "stream",
          "text": [
            "Epoch 54: Validation Loss = 0.1031\n"
          ]
        },
        {
          "name": "stderr",
          "output_type": "stream",
          "text": [
            "Training Epoch 55/100: 100%|██████████| 557/557 [01:00<00:00,  9.28it/s, accuracy=0.957, loss=0.132]\n",
            "Validating: 100%|██████████| 140/140 [00:03<00:00, 44.55it/s]\n"
          ]
        },
        {
          "name": "stdout",
          "output_type": "stream",
          "text": [
            "Epoch 55: Validation Loss = 0.1349\n"
          ]
        },
        {
          "name": "stderr",
          "output_type": "stream",
          "text": [
            "Training Epoch 56/100: 100%|██████████| 557/557 [01:00<00:00,  9.28it/s, accuracy=0.939, loss=0.145]\n",
            "Validating: 100%|██████████| 140/140 [00:03<00:00, 44.42it/s]\n"
          ]
        },
        {
          "name": "stdout",
          "output_type": "stream",
          "text": [
            "Epoch 56: Validation Loss = 0.0957\n"
          ]
        },
        {
          "name": "stderr",
          "output_type": "stream",
          "text": [
            "Training Epoch 57/100: 100%|██████████| 557/557 [00:59<00:00,  9.29it/s, accuracy=0.948, loss=0.156]\n",
            "Validating: 100%|██████████| 140/140 [00:03<00:00, 44.33it/s]\n"
          ]
        },
        {
          "name": "stdout",
          "output_type": "stream",
          "text": [
            "Epoch 57: Validation Loss = 0.0875\n"
          ]
        },
        {
          "name": "stderr",
          "output_type": "stream",
          "text": [
            "Training Epoch 58/100: 100%|██████████| 557/557 [01:00<00:00,  9.28it/s, accuracy=0.983, loss=0.0481]\n",
            "Validating: 100%|██████████| 140/140 [00:03<00:00, 44.46it/s]\n"
          ]
        },
        {
          "name": "stdout",
          "output_type": "stream",
          "text": [
            "Epoch 58: Validation Loss = 0.1115\n"
          ]
        },
        {
          "name": "stderr",
          "output_type": "stream",
          "text": [
            "Training Epoch 59/100: 100%|██████████| 557/557 [01:00<00:00,  9.28it/s, accuracy=0.991, loss=0.0542]\n",
            "Validating: 100%|██████████| 140/140 [00:03<00:00, 44.52it/s]\n"
          ]
        },
        {
          "name": "stdout",
          "output_type": "stream",
          "text": [
            "Epoch 59: Validation Loss = 0.0664\n"
          ]
        },
        {
          "name": "stderr",
          "output_type": "stream",
          "text": [
            "Training Epoch 60/100: 100%|██████████| 557/557 [01:00<00:00,  9.28it/s, accuracy=0.983, loss=0.0517]\n",
            "Validating: 100%|██████████| 140/140 [00:03<00:00, 44.52it/s]\n"
          ]
        },
        {
          "name": "stdout",
          "output_type": "stream",
          "text": [
            "Epoch 60: Validation Loss = 0.0728\n"
          ]
        },
        {
          "name": "stderr",
          "output_type": "stream",
          "text": [
            "Training Epoch 61/100: 100%|██████████| 557/557 [01:00<00:00,  9.25it/s, accuracy=0.983, loss=0.0488]\n",
            "Validating: 100%|██████████| 140/140 [00:03<00:00, 44.32it/s]\n"
          ]
        },
        {
          "name": "stdout",
          "output_type": "stream",
          "text": [
            "Epoch 61: Validation Loss = 0.0711\n"
          ]
        },
        {
          "name": "stderr",
          "output_type": "stream",
          "text": [
            "Training Epoch 62/100: 100%|██████████| 557/557 [01:00<00:00,  9.27it/s, accuracy=1, loss=0.0475]\n",
            "Validating: 100%|██████████| 140/140 [00:03<00:00, 44.36it/s]\n"
          ]
        },
        {
          "name": "stdout",
          "output_type": "stream",
          "text": [
            "Epoch 62: Validation Loss = 0.0746\n"
          ]
        },
        {
          "name": "stderr",
          "output_type": "stream",
          "text": [
            "Training Epoch 63/100: 100%|██████████| 557/557 [00:59<00:00,  9.29it/s, accuracy=0.948, loss=0.151]\n",
            "Validating: 100%|██████████| 140/140 [00:03<00:00, 44.54it/s]\n"
          ]
        },
        {
          "name": "stdout",
          "output_type": "stream",
          "text": [
            "Epoch 63: Validation Loss = 0.1101\n"
          ]
        },
        {
          "name": "stderr",
          "output_type": "stream",
          "text": [
            "Training Epoch 64/100: 100%|██████████| 557/557 [01:00<00:00,  9.28it/s, accuracy=0.965, loss=0.0567]\n",
            "Validating: 100%|██████████| 140/140 [00:03<00:00, 44.51it/s]\n"
          ]
        },
        {
          "name": "stdout",
          "output_type": "stream",
          "text": [
            "Epoch 64: Validation Loss = 0.1039\n"
          ]
        },
        {
          "name": "stderr",
          "output_type": "stream",
          "text": [
            "Training Epoch 65/100: 100%|██████████| 557/557 [01:00<00:00,  9.27it/s, accuracy=0.965, loss=0.108]\n",
            "Validating: 100%|██████████| 140/140 [00:03<00:00, 44.33it/s]\n"
          ]
        },
        {
          "name": "stdout",
          "output_type": "stream",
          "text": [
            "Epoch 65: Validation Loss = 0.1014\n"
          ]
        },
        {
          "name": "stderr",
          "output_type": "stream",
          "text": [
            "Training Epoch 66/100: 100%|██████████| 557/557 [01:00<00:00,  9.27it/s, accuracy=0.974, loss=0.0489]\n",
            "Validating: 100%|██████████| 140/140 [00:03<00:00, 44.08it/s]\n"
          ]
        },
        {
          "name": "stdout",
          "output_type": "stream",
          "text": [
            "Epoch 66: Validation Loss = 0.1065\n"
          ]
        },
        {
          "name": "stderr",
          "output_type": "stream",
          "text": [
            "Training Epoch 67/100: 100%|██████████| 557/557 [01:00<00:00,  9.28it/s, accuracy=0.922, loss=0.214]\n",
            "Validating: 100%|██████████| 140/140 [00:03<00:00, 44.44it/s]\n"
          ]
        },
        {
          "name": "stdout",
          "output_type": "stream",
          "text": [
            "Epoch 67: Validation Loss = 0.1508\n"
          ]
        },
        {
          "name": "stderr",
          "output_type": "stream",
          "text": [
            "Training Epoch 68/100: 100%|██████████| 557/557 [01:00<00:00,  9.28it/s, accuracy=0.991, loss=0.0379]\n",
            "Validating: 100%|██████████| 140/140 [00:03<00:00, 44.42it/s]\n"
          ]
        },
        {
          "name": "stdout",
          "output_type": "stream",
          "text": [
            "Epoch 68: Validation Loss = 0.0755\n"
          ]
        },
        {
          "name": "stderr",
          "output_type": "stream",
          "text": [
            "Training Epoch 69/100: 100%|██████████| 557/557 [00:59<00:00,  9.28it/s, accuracy=0.991, loss=0.0533]\n",
            "Validating: 100%|██████████| 140/140 [00:03<00:00, 44.36it/s]\n"
          ]
        },
        {
          "name": "stdout",
          "output_type": "stream",
          "text": [
            "Epoch 69: Validation Loss = 0.0819\n"
          ]
        },
        {
          "name": "stderr",
          "output_type": "stream",
          "text": [
            "Training Epoch 70/100: 100%|██████████| 557/557 [01:00<00:00,  9.28it/s, accuracy=0.939, loss=0.116]\n",
            "Validating: 100%|██████████| 140/140 [00:03<00:00, 44.35it/s]\n"
          ]
        },
        {
          "name": "stdout",
          "output_type": "stream",
          "text": [
            "Epoch 70: Validation Loss = 0.1246\n"
          ]
        },
        {
          "name": "stderr",
          "output_type": "stream",
          "text": [
            "Training Epoch 71/100: 100%|██████████| 557/557 [00:59<00:00,  9.29it/s, accuracy=0.974, loss=0.0758]\n",
            "Validating: 100%|██████████| 140/140 [00:03<00:00, 44.49it/s]\n"
          ]
        },
        {
          "name": "stdout",
          "output_type": "stream",
          "text": [
            "Epoch 71: Validation Loss = 0.1151\n"
          ]
        },
        {
          "name": "stderr",
          "output_type": "stream",
          "text": [
            "Training Epoch 72/100: 100%|██████████| 557/557 [00:59<00:00,  9.29it/s, accuracy=0.957, loss=0.0729]\n",
            "Validating: 100%|██████████| 140/140 [00:03<00:00, 44.39it/s]\n"
          ]
        },
        {
          "name": "stdout",
          "output_type": "stream",
          "text": [
            "Epoch 72: Validation Loss = 0.0781\n"
          ]
        },
        {
          "name": "stderr",
          "output_type": "stream",
          "text": [
            "Training Epoch 73/100: 100%|██████████| 557/557 [01:00<00:00,  9.23it/s, accuracy=0.974, loss=0.0997]\n",
            "Validating: 100%|██████████| 140/140 [00:03<00:00, 44.53it/s]\n"
          ]
        },
        {
          "name": "stdout",
          "output_type": "stream",
          "text": [
            "Epoch 73: Validation Loss = 0.0978\n"
          ]
        },
        {
          "name": "stderr",
          "output_type": "stream",
          "text": [
            "Training Epoch 74/100: 100%|██████████| 557/557 [01:00<00:00,  9.27it/s, accuracy=0.983, loss=0.0457]\n",
            "Validating: 100%|██████████| 140/140 [00:03<00:00, 44.29it/s]\n"
          ]
        },
        {
          "name": "stdout",
          "output_type": "stream",
          "text": [
            "Epoch 74: Validation Loss = 0.1096\n"
          ]
        },
        {
          "name": "stderr",
          "output_type": "stream",
          "text": [
            "Training Epoch 75/100: 100%|██████████| 557/557 [01:00<00:00,  9.28it/s, accuracy=0.991, loss=0.0637]\n",
            "Validating: 100%|██████████| 140/140 [00:03<00:00, 44.14it/s]\n"
          ]
        },
        {
          "name": "stdout",
          "output_type": "stream",
          "text": [
            "Epoch 75: Validation Loss = 0.0793\n"
          ]
        },
        {
          "name": "stderr",
          "output_type": "stream",
          "text": [
            "Training Epoch 76/100: 100%|██████████| 557/557 [01:00<00:00,  9.26it/s, accuracy=0.965, loss=0.0894]\n",
            "Validating: 100%|██████████| 140/140 [00:03<00:00, 44.49it/s]\n"
          ]
        },
        {
          "name": "stdout",
          "output_type": "stream",
          "text": [
            "Epoch 76: Validation Loss = 0.0541\n"
          ]
        },
        {
          "name": "stderr",
          "output_type": "stream",
          "text": [
            "Training Epoch 77/100: 100%|██████████| 557/557 [01:00<00:00,  9.23it/s, accuracy=0.991, loss=0.0492]\n",
            "Validating: 100%|██████████| 140/140 [00:03<00:00, 44.26it/s]\n"
          ]
        },
        {
          "name": "stdout",
          "output_type": "stream",
          "text": [
            "Epoch 77: Validation Loss = 0.0982\n"
          ]
        },
        {
          "name": "stderr",
          "output_type": "stream",
          "text": [
            "Training Epoch 78/100: 100%|██████████| 557/557 [01:00<00:00,  9.25it/s, accuracy=0.948, loss=0.115]\n",
            "Validating: 100%|██████████| 140/140 [00:03<00:00, 44.30it/s]\n"
          ]
        },
        {
          "name": "stdout",
          "output_type": "stream",
          "text": [
            "Epoch 78: Validation Loss = 0.0852\n"
          ]
        },
        {
          "name": "stderr",
          "output_type": "stream",
          "text": [
            "Training Epoch 79/100: 100%|██████████| 557/557 [01:00<00:00,  9.23it/s, accuracy=0.974, loss=0.0676]\n",
            "Validating: 100%|██████████| 140/140 [00:03<00:00, 44.21it/s]\n"
          ]
        },
        {
          "name": "stdout",
          "output_type": "stream",
          "text": [
            "Epoch 79: Validation Loss = 0.0706\n"
          ]
        },
        {
          "name": "stderr",
          "output_type": "stream",
          "text": [
            "Training Epoch 80/100: 100%|██████████| 557/557 [01:00<00:00,  9.26it/s, accuracy=0.991, loss=0.0742]\n",
            "Validating: 100%|██████████| 140/140 [00:03<00:00, 44.43it/s]\n"
          ]
        },
        {
          "name": "stdout",
          "output_type": "stream",
          "text": [
            "Epoch 80: Validation Loss = 0.0641\n"
          ]
        },
        {
          "name": "stderr",
          "output_type": "stream",
          "text": [
            "Training Epoch 81/100: 100%|██████████| 557/557 [01:00<00:00,  9.25it/s, accuracy=0.939, loss=0.16]\n",
            "Validating: 100%|██████████| 140/140 [00:03<00:00, 44.38it/s]\n"
          ]
        },
        {
          "name": "stdout",
          "output_type": "stream",
          "text": [
            "Epoch 81: Validation Loss = 0.0745\n"
          ]
        },
        {
          "name": "stderr",
          "output_type": "stream",
          "text": [
            "Training Epoch 82/100: 100%|██████████| 557/557 [01:00<00:00,  9.24it/s, accuracy=0.974, loss=0.0661]\n",
            "Validating: 100%|██████████| 140/140 [00:03<00:00, 44.32it/s]\n"
          ]
        },
        {
          "name": "stdout",
          "output_type": "stream",
          "text": [
            "Epoch 82: Validation Loss = 0.0764\n"
          ]
        },
        {
          "name": "stderr",
          "output_type": "stream",
          "text": [
            "Training Epoch 83/100: 100%|██████████| 557/557 [01:00<00:00,  9.22it/s, accuracy=0.983, loss=0.0612]\n",
            "Validating: 100%|██████████| 140/140 [00:03<00:00, 44.20it/s]\n"
          ]
        },
        {
          "name": "stdout",
          "output_type": "stream",
          "text": [
            "Epoch 83: Validation Loss = 0.1199\n"
          ]
        },
        {
          "name": "stderr",
          "output_type": "stream",
          "text": [
            "Training Epoch 84/100: 100%|██████████| 557/557 [01:00<00:00,  9.26it/s, accuracy=0.974, loss=0.0523]\n",
            "Validating: 100%|██████████| 140/140 [00:03<00:00, 44.34it/s]\n"
          ]
        },
        {
          "name": "stdout",
          "output_type": "stream",
          "text": [
            "Epoch 84: Validation Loss = 0.0890\n"
          ]
        },
        {
          "name": "stderr",
          "output_type": "stream",
          "text": [
            "Training Epoch 85/100: 100%|██████████| 557/557 [01:00<00:00,  9.23it/s, accuracy=0.974, loss=0.0599]\n",
            "Validating: 100%|██████████| 140/140 [00:03<00:00, 44.29it/s]\n"
          ]
        },
        {
          "name": "stdout",
          "output_type": "stream",
          "text": [
            "Epoch 85: Validation Loss = 0.0660\n"
          ]
        },
        {
          "name": "stderr",
          "output_type": "stream",
          "text": [
            "Training Epoch 86/100: 100%|██████████| 557/557 [01:00<00:00,  9.25it/s, accuracy=0.965, loss=0.103]\n",
            "Validating: 100%|██████████| 140/140 [00:03<00:00, 44.46it/s]\n"
          ]
        },
        {
          "name": "stdout",
          "output_type": "stream",
          "text": [
            "Epoch 86: Validation Loss = 0.0705\n"
          ]
        },
        {
          "name": "stderr",
          "output_type": "stream",
          "text": [
            "Training Epoch 87/100: 100%|██████████| 557/557 [01:00<00:00,  9.24it/s, accuracy=0.948, loss=0.133]\n",
            "Validating: 100%|██████████| 140/140 [00:03<00:00, 44.30it/s]\n"
          ]
        },
        {
          "name": "stdout",
          "output_type": "stream",
          "text": [
            "Epoch 87: Validation Loss = 0.0993\n"
          ]
        },
        {
          "name": "stderr",
          "output_type": "stream",
          "text": [
            "Training Epoch 88/100: 100%|██████████| 557/557 [01:00<00:00,  9.22it/s, accuracy=0.991, loss=0.0224]\n",
            "Validating: 100%|██████████| 140/140 [00:03<00:00, 44.28it/s]\n"
          ]
        },
        {
          "name": "stdout",
          "output_type": "stream",
          "text": [
            "Epoch 88: Validation Loss = 0.0777\n"
          ]
        },
        {
          "name": "stderr",
          "output_type": "stream",
          "text": [
            "Training Epoch 89/100: 100%|██████████| 557/557 [01:00<00:00,  9.21it/s, accuracy=0.939, loss=0.13]\n",
            "Validating: 100%|██████████| 140/140 [00:03<00:00, 44.42it/s]\n"
          ]
        },
        {
          "name": "stdout",
          "output_type": "stream",
          "text": [
            "Epoch 89: Validation Loss = 0.0718\n"
          ]
        },
        {
          "name": "stderr",
          "output_type": "stream",
          "text": [
            "Training Epoch 90/100: 100%|██████████| 557/557 [01:00<00:00,  9.21it/s, accuracy=0.983, loss=0.0349]\n",
            "Validating: 100%|██████████| 140/140 [00:03<00:00, 44.31it/s]\n"
          ]
        },
        {
          "name": "stdout",
          "output_type": "stream",
          "text": [
            "Epoch 90: Validation Loss = 0.0956\n"
          ]
        },
        {
          "name": "stderr",
          "output_type": "stream",
          "text": [
            "Training Epoch 91/100: 100%|██████████| 557/557 [01:00<00:00,  9.21it/s, accuracy=0.983, loss=0.052]\n",
            "Validating: 100%|██████████| 140/140 [00:03<00:00, 44.27it/s]\n"
          ]
        },
        {
          "name": "stdout",
          "output_type": "stream",
          "text": [
            "Epoch 91: Validation Loss = 0.0878\n"
          ]
        },
        {
          "name": "stderr",
          "output_type": "stream",
          "text": [
            "Training Epoch 92/100: 100%|██████████| 557/557 [01:00<00:00,  9.21it/s, accuracy=0.939, loss=0.211]\n",
            "Validating: 100%|██████████| 140/140 [00:03<00:00, 44.42it/s]\n"
          ]
        },
        {
          "name": "stdout",
          "output_type": "stream",
          "text": [
            "Epoch 92: Validation Loss = 0.0907\n"
          ]
        },
        {
          "name": "stderr",
          "output_type": "stream",
          "text": [
            "Training Epoch 93/100: 100%|██████████| 557/557 [01:00<00:00,  9.21it/s, accuracy=0.983, loss=0.0464]\n",
            "Validating: 100%|██████████| 140/140 [00:03<00:00, 44.26it/s]\n"
          ]
        },
        {
          "name": "stdout",
          "output_type": "stream",
          "text": [
            "Epoch 93: Validation Loss = 0.0757\n"
          ]
        },
        {
          "name": "stderr",
          "output_type": "stream",
          "text": [
            "Training Epoch 94/100: 100%|██████████| 557/557 [01:00<00:00,  9.21it/s, accuracy=0.948, loss=0.0996]\n",
            "Validating: 100%|██████████| 140/140 [00:03<00:00, 44.11it/s]\n"
          ]
        },
        {
          "name": "stdout",
          "output_type": "stream",
          "text": [
            "Epoch 94: Validation Loss = 0.1891\n"
          ]
        },
        {
          "name": "stderr",
          "output_type": "stream",
          "text": [
            "Training Epoch 95/100: 100%|██████████| 557/557 [01:00<00:00,  9.21it/s, accuracy=0.983, loss=0.0656]\n",
            "Validating: 100%|██████████| 140/140 [00:03<00:00, 44.01it/s]\n"
          ]
        },
        {
          "name": "stdout",
          "output_type": "stream",
          "text": [
            "Epoch 95: Validation Loss = 0.0709\n"
          ]
        },
        {
          "name": "stderr",
          "output_type": "stream",
          "text": [
            "Training Epoch 96/100: 100%|██████████| 557/557 [01:00<00:00,  9.21it/s, accuracy=0.983, loss=0.0423]\n",
            "Validating: 100%|██████████| 140/140 [00:03<00:00, 44.13it/s]\n"
          ]
        },
        {
          "name": "stdout",
          "output_type": "stream",
          "text": [
            "Epoch 96: Validation Loss = 0.0516\n"
          ]
        },
        {
          "name": "stderr",
          "output_type": "stream",
          "text": [
            "Training Epoch 97/100: 100%|██████████| 557/557 [01:00<00:00,  9.20it/s, accuracy=0.983, loss=0.0568]\n",
            "Validating: 100%|██████████| 140/140 [00:03<00:00, 44.18it/s]\n"
          ]
        },
        {
          "name": "stdout",
          "output_type": "stream",
          "text": [
            "Epoch 97: Validation Loss = 0.0755\n"
          ]
        },
        {
          "name": "stderr",
          "output_type": "stream",
          "text": [
            "Training Epoch 98/100: 100%|██████████| 557/557 [01:00<00:00,  9.20it/s, accuracy=0.974, loss=0.0568]\n",
            "Validating: 100%|██████████| 140/140 [00:03<00:00, 43.99it/s]\n"
          ]
        },
        {
          "name": "stdout",
          "output_type": "stream",
          "text": [
            "Epoch 98: Validation Loss = 0.0645\n"
          ]
        },
        {
          "name": "stderr",
          "output_type": "stream",
          "text": [
            "Training Epoch 99/100: 100%|██████████| 557/557 [01:00<00:00,  9.21it/s, accuracy=0.983, loss=0.0779]\n",
            "Validating: 100%|██████████| 140/140 [00:03<00:00, 44.35it/s]\n"
          ]
        },
        {
          "name": "stdout",
          "output_type": "stream",
          "text": [
            "Epoch 99: Validation Loss = 0.0666\n"
          ]
        },
        {
          "name": "stderr",
          "output_type": "stream",
          "text": [
            "Training Epoch 100/100: 100%|██████████| 557/557 [01:00<00:00,  9.21it/s, accuracy=0.983, loss=0.0774]\n",
            "Validating: 100%|██████████| 140/140 [00:03<00:00, 44.29it/s]"
          ]
        },
        {
          "name": "stdout",
          "output_type": "stream",
          "text": [
            "Epoch 100: Validation Loss = 0.0853\n"
          ]
        },
        {
          "name": "stderr",
          "output_type": "stream",
          "text": [
            "\n"
          ]
        }
      ],
      "source": [
        "criterion = torch.nn.CrossEntropyLoss()\n",
        "optimizer = torch.optim.Adam(\n",
        "    model.parameters(),\n",
        "    lr=1e-4,\n",
        "    weight_decay=1e-4\n",
        ")\n",
        "\n",
        "Train(ClassifierModel, trainloader, testloader, criterion, optimizer, epochs=100, device='cuda', scheduler=None)"
      ]
    },
    {
      "cell_type": "code",
      "execution_count": 27,
      "metadata": {
        "colab": {
          "base_uri": "https://localhost:8080/",
          "height": 641
        },
        "id": "JgPsAQ7ek4WW",
        "outputId": "ec427def-ed15-4980-b338-3a2cd90422c8"
      },
      "outputs": [
        {
          "data": {
            "image/png": "[encoded data removed]",
            "text/plain": [
              "<Figure size 1000x700 with 1 Axes>"
            ]
          },
          "metadata": {},
          "output_type": "display_data"
        }
      ],
      "source": [
        "from sklearn.metrics import roc_curve, auc\n",
        "from sklearn.preprocessing import label_binarize\n",
        "\n",
        "def plot_multiclass_roc(y_true, y_pred, num_classes):\n",
        "    y_true_one_hot = label_binarize(y_true, classes=np.arange(num_classes))\n",
        "\n",
        "    plt.figure(figsize=(10, 7))\n",
        "\n",
        "    for i in range(num_classes):\n",
        "        fpr, tpr, _ = roc_curve(y_true_one_hot[:, i], y_pred[:, i])\n",
        "        auc_score = auc(fpr, tpr)\n",
        "        plt.plot(fpr, tpr, label=f'Class {i} (AUC = {auc_score:.2f})')\n",
        "\n",
        "    plt.plot([0, 1], [0, 1], 'k--', label=\"Random Classifier (AUC = 0.50)\")\n",
        "\n",
        "    plt.xlabel(\"False Positive Rate (FPR)\")\n",
        "    plt.ylabel(\"True Positive Rate (TPR)\")\n",
        "    plt.title(\"ROC Curve for Multiclass Classification\")\n",
        "    plt.legend()\n",
        "    plt.grid()\n",
        "    plt.show()\n",
        "\n",
        "\n",
        "def evaluate_model_roc(model, dataloader, device, num_classes):\n",
        "    model.eval()  # Set model to evaluation mode\n",
        "    y_true_list = []\n",
        "    y_pred_list = []\n",
        "\n",
        "    with torch.no_grad():\n",
        "        for images, labels in dataloader:\n",
        "            images, labels = images.to(device), labels.to(device)\n",
        "\n",
        "            logits = model(images)\n",
        "\n",
        "            y_true_list.append(labels.cpu().numpy())\n",
        "            y_pred_list.append(logits.cpu().numpy())\n",
        "\n",
        "    y_true = np.concatenate(y_true_list, axis=0)\n",
        "    y_pred = np.concatenate(y_pred_list, axis=0)\n",
        "\n",
        "    plot_multiclass_roc(y_true, y_pred, num_classes)\n",
        "\n",
        "evaluate_model_roc(ClassifierModel, testloader, device, num_classes=3)"
      ]
    },
    {
      "cell_type": "code",
      "execution_count": null,
      "metadata": {
        "id": "aeZcodgboIvD"
      },
      "outputs": [],
      "source": [
        "torch.save(ClassifierModel.state_dict(), 'MaskedAutoEncoderClassifier__Very_VeryDeep_Final__Solution.pth')"
      ]
    },
    {
      "cell_type": "code",
      "execution_count": null,
      "metadata": {
        "colab": {
          "base_uri": "https://localhost:8080/"
        },
        "id": "rUqzSKu2CMXR",
        "outputId": "8488d3e0-6ccf-4c41-a9e4-e55dd01026ea"
      },
      "outputs": [
        {
          "name": "stdout",
          "output_type": "stream",
          "text": [
            "10000 10000\n",
            "True\n"
          ]
        }
      ],
      "source": [
        "files_HR = []\n",
        "files_LR = []\n",
        "\n",
        "for root, dirs, files in os.walk('../dataset/DatasetTask6B/HR'):\n",
        "    files_HR = files\n",
        "\n",
        "for root, dirs, files in os.walk('../dataset/DatasetTask6B/LR'):\n",
        "    files_LR = files\n",
        "\n",
        "print(len(files_HR), len(files_LR))\n",
        "print(files_HR == files_LR)"
      ]
    },
    {
      "cell_type": "code",
      "execution_count": 42,
      "metadata": {
        "colab": {
          "base_uri": "https://localhost:8080/"
        },
        "id": "RQu2RtBTHOxC",
        "outputId": "dc23ea90-e695-452e-ec33-0d5b103df3ce"
      },
      "outputs": [
        {
          "data": {
            "text/plain": [
              "<All keys matched successfully>"
            ]
          },
          "execution_count": 42,
          "metadata": {},
          "output_type": "execute_result"
        }
      ],
      "source": [
        "model = MaskedAutoEncoder(\n",
        "        patch_size=16,\n",
        "        encoder_embedding_dim=2048, encoder_num_heads=64, encoder_depth=8,\n",
        "        decoder_embedding_dim=1024, decoder_num_heads=32, decoder_depth=6\n",
        "    ).to(device=device)\n",
        "\n",
        "model.load_state_dict(torch.load('MaskedAutoEncoder__Very_VeryDeep_Final__Solution.pth'))"
      ]
    },
    {
      "cell_type": "code",
      "execution_count": 43,
      "metadata": {
        "id": "D6D_Whq9C0u7"
      },
      "outputs": [],
      "source": [
        "from Models.MAESuperResolution import MAEforSuperResolution\n",
        "\n",
        "modelSR = MAEforSuperResolution(\n",
        "    LR_shape=(1,75,75),\n",
        "    HR_shape=(1,150,150),\n",
        "    MAE_ViT = model,\n",
        ").to(device)"
      ]
    },
    {
      "cell_type": "code",
      "execution_count": null,
      "metadata": {
        "colab": {
          "base_uri": "https://localhost:8080/"
        },
        "id": "i_d4DxTMC4Lp",
        "outputId": "87d01596-dcd4-4d2f-a101-c798489402f2"
      },
      "outputs": [
        {
          "data": {
            "text/plain": [
              "(torch.Size([1, 75, 75]), torch.Size([1, 150, 150]))"
            ]
          },
          "execution_count": 44,
          "metadata": {},
          "output_type": "execute_result"
        }
      ],
      "source": [
        "from utils.CustomDataset import CustomSuperResolutionDataset\n",
        "\n",
        "# files_LR = files_LR[:100]\n",
        "dataset = CustomSuperResolutionDataset(\n",
        "    root = '../dataset/DatasetTask6B',\n",
        "    data=files_LR,\n",
        "    transform_HR=None,\n",
        "    transform_LR=None,\n",
        ")\n",
        "\n",
        "dataset[0][0].shape, dataset[0][1].shape"
      ]
    },
    {
      "cell_type": "code",
      "execution_count": 45,
      "metadata": {
        "id": "mdm3PKsVFPyh"
      },
      "outputs": [],
      "source": [
        "train_size = int(0.8 * len(dataset))\n",
        "val_size = len(dataset) - train_size\n",
        "\n",
        "train_dataset, val_dataset = random_split(dataset, [train_size, val_size])\n",
        "\n",
        "train_dataloader = DataLoader(\n",
        "    train_dataset,\n",
        "    batch_size=512,\n",
        "    shuffle=True,\n",
        ")\n",
        "\n",
        "val_dataloader = DataLoader(\n",
        "    val_dataset,\n",
        "    batch_size=512,\n",
        "    shuffle=True,\n",
        ")\n"
      ]
    },
    {
      "cell_type": "code",
      "execution_count": 46,
      "metadata": {
        "colab": {
          "base_uri": "https://localhost:8080/"
        },
        "id": "WEfj_fDXFM39",
        "outputId": "ecccc5b1-6e77-4c7f-c823-fc9719da1ce7"
      },
      "outputs": [
        {
          "name": "stdout",
          "output_type": "stream",
          "text": [
            "torch.Size([512, 1, 75, 75]) torch.Size([512, 1, 150, 150])\n"
          ]
        }
      ],
      "source": [
        "optimizer = torch.optim.Adam(\n",
        "    model.parameters(),\n",
        "    lr=1e-4,\n",
        "    weight_decay=1e-5\n",
        ")\n",
        "criterion = nn.MSELoss()\n",
        "\n",
        "for img_lr, img_hr in train_dataloader:\n",
        "    print(img_lr.shape, img_hr.shape)\n",
        "    break"
      ]
    },
    {
      "cell_type": "code",
      "execution_count": 47,
      "metadata": {
        "colab": {
          "base_uri": "https://localhost:8080/",
          "height": 187
        },
        "id": "2QHS0EsJHFxl",
        "outputId": "0c82478b-956c-4515-8e6c-f3acbc60983f"
      },
      "outputs": [
        {
          "data": {
            "text/html": [
              "<div style=\"max-width:800px; border: 1px solid var(--colab-border-color);\"><style>\n",
              "      pre.function-repr-contents {\n",
              "        overflow-x: auto;\n",
              "        padding: 8px 12px;\n",
              "        max-height: 500px;\n",
              "      }\n",
              "\n",
              "      pre.function-repr-contents.function-repr-contents-collapsed {\n",
              "        cursor: pointer;\n",
              "        max-height: 100px;\n",
              "      }\n",
              "    </style>\n",
              "    <pre style=\"white-space: initial; background:\n",
              "         var(--colab-secondary-surface-color); padding: 8px 12px;\n",
              "         border-bottom: 1px solid var(--colab-border-color);\"><b>Models.MaskedAutoEncoders.MaskedAutoEncoder</b><br/>def _wrapped_call_impl(*args, **kwargs)</pre><pre class=\"function-repr-contents function-repr-contents-collapsed\" style=\"\"><a class=\"filepath\" style=\"display:none\" href=\"#\">/content/GSOC-25-Projects/Models/MaskedAutoEncoders.py</a>Base class for all neural network modules.\n",
              "\n",
              "Your models should also subclass this class.\n",
              "\n",
              "Modules can also contain other Modules, allowing them to be nested in\n",
              "a tree structure. You can assign the submodules as regular attributes::\n",
              "\n",
              "    import torch.nn as nn\n",
              "    import torch.nn.functional as F\n",
              "\n",
              "    class Model(nn.Module):\n",
              "        def __init__(self) -&gt; None:\n",
              "            super().__init__()\n",
              "            self.conv1 = nn.Conv2d(1, 20, 5)\n",
              "            self.conv2 = nn.Conv2d(20, 20, 5)\n",
              "\n",
              "        def forward(self, x):\n",
              "            x = F.relu(self.conv1(x))\n",
              "            return F.relu(self.conv2(x))\n",
              "\n",
              "Submodules assigned in this way will be registered, and will also have their\n",
              "parameters converted when you call :meth:`to`, etc.\n",
              "\n",
              ".. note::\n",
              "    As per the example above, an ``__init__()`` call to the parent class\n",
              "    must be made before assignment on the child.\n",
              "\n",
              ":ivar training: Boolean represents whether this module is in training or\n",
              "                evaluation mode.\n",
              ":vartype training: bool</pre>\n",
              "      <script>\n",
              "      if (google.colab.kernel.accessAllowed && google.colab.files && google.colab.files.view) {\n",
              "        for (const element of document.querySelectorAll('.filepath')) {\n",
              "          element.style.display = 'block'\n",
              "          element.onclick = (event) => {\n",
              "            event.preventDefault();\n",
              "            event.stopPropagation();\n",
              "            google.colab.files.view(element.textContent, 11);\n",
              "          };\n",
              "        }\n",
              "      }\n",
              "      for (const element of document.querySelectorAll('.function-repr-contents')) {\n",
              "        element.onclick = (event) => {\n",
              "          event.preventDefault();\n",
              "          event.stopPropagation();\n",
              "          element.classList.toggle('function-repr-contents-collapsed');\n",
              "        };\n",
              "      }\n",
              "      </script>\n",
              "      </div>"
            ],
            "text/plain": [
              "Models.MaskedAutoEncoders.MaskedAutoEncoder"
            ]
          },
          "execution_count": 47,
          "metadata": {},
          "output_type": "execute_result"
        }
      ],
      "source": [
        "type(model)"
      ]
    },
    {
      "cell_type": "code",
      "execution_count": 49,
      "metadata": {
        "colab": {
          "base_uri": "https://localhost:8080/"
        },
        "id": "gBgmL2paE8lk",
        "outputId": "03519e98-affb-4c1b-e58c-60371310012f"
      },
      "outputs": [
        {
          "name": "stderr",
          "output_type": "stream",
          "text": [
            "Training Epoch 1/100: 100%|██████████| 16/16 [00:09<00:00,  1.62it/s, loss=0.00972, psnr=20.1]\n",
            "Validating: 100%|██████████| 4/4 [00:01<00:00,  3.91it/s]\n"
          ]
        },
        {
          "name": "stdout",
          "output_type": "stream",
          "text": [
            "Epoch 1: Validation Loss = 0.0077\n"
          ]
        },
        {
          "name": "stderr",
          "output_type": "stream",
          "text": [
            "Training Epoch 2/100: 100%|██████████| 16/16 [00:09<00:00,  1.70it/s, loss=0.00603, psnr=22.2]\n",
            "Validating: 100%|██████████| 4/4 [00:01<00:00,  3.98it/s]\n"
          ]
        },
        {
          "name": "stdout",
          "output_type": "stream",
          "text": [
            "Epoch 2: Validation Loss = 0.0053\n"
          ]
        },
        {
          "name": "stderr",
          "output_type": "stream",
          "text": [
            "Training Epoch 3/100: 100%|██████████| 16/16 [00:09<00:00,  1.72it/s, loss=0.004, psnr=24]\n",
            "Validating: 100%|██████████| 4/4 [00:00<00:00,  4.15it/s]\n"
          ]
        },
        {
          "name": "stdout",
          "output_type": "stream",
          "text": [
            "Epoch 3: Validation Loss = 0.0033\n"
          ]
        },
        {
          "name": "stderr",
          "output_type": "stream",
          "text": [
            "Training Epoch 4/100: 100%|██████████| 16/16 [00:09<00:00,  1.71it/s, loss=0.00246, psnr=26.1]\n",
            "Validating: 100%|██████████| 4/4 [00:00<00:00,  4.19it/s]\n"
          ]
        },
        {
          "name": "stdout",
          "output_type": "stream",
          "text": [
            "Epoch 4: Validation Loss = 0.0019\n"
          ]
        },
        {
          "name": "stderr",
          "output_type": "stream",
          "text": [
            "Training Epoch 5/100: 100%|██████████| 16/16 [00:09<00:00,  1.72it/s, loss=0.00178, psnr=27.5]\n",
            "Validating: 100%|██████████| 4/4 [00:00<00:00,  4.32it/s]\n"
          ]
        },
        {
          "name": "stdout",
          "output_type": "stream",
          "text": [
            "Epoch 5: Validation Loss = 0.0012\n"
          ]
        },
        {
          "name": "stderr",
          "output_type": "stream",
          "text": [
            "Training Epoch 6/100: 100%|██████████| 16/16 [00:09<00:00,  1.72it/s, loss=0.00137, psnr=28.6]\n",
            "Validating: 100%|██████████| 4/4 [00:00<00:00,  4.11it/s]\n"
          ]
        },
        {
          "name": "stdout",
          "output_type": "stream",
          "text": [
            "Epoch 6: Validation Loss = 0.0009\n"
          ]
        },
        {
          "name": "stderr",
          "output_type": "stream",
          "text": [
            "Training Epoch 7/100: 100%|██████████| 16/16 [00:09<00:00,  1.72it/s, loss=0.00115, psnr=29.4]\n",
            "Validating: 100%|██████████| 4/4 [00:00<00:00,  4.18it/s]\n"
          ]
        },
        {
          "name": "stdout",
          "output_type": "stream",
          "text": [
            "Epoch 7: Validation Loss = 0.0007\n"
          ]
        },
        {
          "name": "stderr",
          "output_type": "stream",
          "text": [
            "Training Epoch 8/100: 100%|██████████| 16/16 [00:09<00:00,  1.72it/s, loss=0.001, psnr=30]\n",
            "Validating: 100%|██████████| 4/4 [00:00<00:00,  4.14it/s]\n"
          ]
        },
        {
          "name": "stdout",
          "output_type": "stream",
          "text": [
            "Epoch 8: Validation Loss = 0.0006\n"
          ]
        },
        {
          "name": "stderr",
          "output_type": "stream",
          "text": [
            "Training Epoch 9/100: 100%|██████████| 16/16 [00:09<00:00,  1.72it/s, loss=0.000875, psnr=30.6]\n",
            "Validating: 100%|██████████| 4/4 [00:00<00:00,  4.20it/s]\n"
          ]
        },
        {
          "name": "stdout",
          "output_type": "stream",
          "text": [
            "Epoch 9: Validation Loss = 0.0005\n"
          ]
        },
        {
          "name": "stderr",
          "output_type": "stream",
          "text": [
            "Training Epoch 10/100: 100%|██████████| 16/16 [00:09<00:00,  1.71it/s, loss=0.00102, psnr=29.9]\n",
            "Validating: 100%|██████████| 4/4 [00:00<00:00,  4.23it/s]\n"
          ]
        },
        {
          "name": "stdout",
          "output_type": "stream",
          "text": [
            "Epoch 10: Validation Loss = 0.0005\n"
          ]
        },
        {
          "name": "stderr",
          "output_type": "stream",
          "text": [
            "Training Epoch 11/100: 100%|██████████| 16/16 [00:09<00:00,  1.72it/s, loss=0.000767, psnr=31.2]\n",
            "Validating: 100%|██████████| 4/4 [00:00<00:00,  4.19it/s]\n"
          ]
        },
        {
          "name": "stdout",
          "output_type": "stream",
          "text": [
            "Epoch 11: Validation Loss = 0.0004\n"
          ]
        },
        {
          "name": "stderr",
          "output_type": "stream",
          "text": [
            "Training Epoch 12/100: 100%|██████████| 16/16 [00:09<00:00,  1.72it/s, loss=0.000699, psnr=31.6]\n",
            "Validating: 100%|██████████| 4/4 [00:00<00:00,  4.12it/s]\n"
          ]
        },
        {
          "name": "stdout",
          "output_type": "stream",
          "text": [
            "Epoch 12: Validation Loss = 0.0004\n"
          ]
        },
        {
          "name": "stderr",
          "output_type": "stream",
          "text": [
            "Training Epoch 13/100: 100%|██████████| 16/16 [00:09<00:00,  1.72it/s, loss=0.000654, psnr=31.8]\n",
            "Validating: 100%|██████████| 4/4 [00:00<00:00,  4.19it/s]\n"
          ]
        },
        {
          "name": "stdout",
          "output_type": "stream",
          "text": [
            "Epoch 13: Validation Loss = 0.0004\n"
          ]
        },
        {
          "name": "stderr",
          "output_type": "stream",
          "text": [
            "Training Epoch 14/100: 100%|██████████| 16/16 [00:10<00:00,  1.58it/s, loss=0.000732, psnr=31.4]\n",
            "Validating: 100%|██████████| 4/4 [00:00<00:00,  4.11it/s]\n"
          ]
        },
        {
          "name": "stdout",
          "output_type": "stream",
          "text": [
            "Epoch 14: Validation Loss = 0.0005\n"
          ]
        },
        {
          "name": "stderr",
          "output_type": "stream",
          "text": [
            "Training Epoch 15/100: 100%|██████████| 16/16 [00:09<00:00,  1.71it/s, loss=0.000615, psnr=32.1]\n",
            "Validating: 100%|██████████| 4/4 [00:00<00:00,  4.10it/s]\n"
          ]
        },
        {
          "name": "stdout",
          "output_type": "stream",
          "text": [
            "Epoch 15: Validation Loss = 0.0003\n"
          ]
        },
        {
          "name": "stderr",
          "output_type": "stream",
          "text": [
            "Training Epoch 16/100: 100%|██████████| 16/16 [00:09<00:00,  1.71it/s, loss=0.000593, psnr=32.3]\n",
            "Validating: 100%|██████████| 4/4 [00:00<00:00,  4.13it/s]\n"
          ]
        },
        {
          "name": "stdout",
          "output_type": "stream",
          "text": [
            "Epoch 16: Validation Loss = 0.0003\n"
          ]
        },
        {
          "name": "stderr",
          "output_type": "stream",
          "text": [
            "Training Epoch 17/100: 100%|██████████| 16/16 [00:09<00:00,  1.71it/s, loss=0.00056, psnr=32.5]\n",
            "Validating: 100%|██████████| 4/4 [00:00<00:00,  4.15it/s]\n"
          ]
        },
        {
          "name": "stdout",
          "output_type": "stream",
          "text": [
            "Epoch 17: Validation Loss = 0.0003\n"
          ]
        },
        {
          "name": "stderr",
          "output_type": "stream",
          "text": [
            "Training Epoch 18/100: 100%|██████████| 16/16 [00:09<00:00,  1.71it/s, loss=0.000564, psnr=32.5]\n",
            "Validating: 100%|██████████| 4/4 [00:00<00:00,  4.11it/s]\n"
          ]
        },
        {
          "name": "stdout",
          "output_type": "stream",
          "text": [
            "Epoch 18: Validation Loss = 0.0003\n"
          ]
        },
        {
          "name": "stderr",
          "output_type": "stream",
          "text": [
            "Training Epoch 19/100: 100%|██████████| 16/16 [00:09<00:00,  1.71it/s, loss=0.000533, psnr=32.7]\n",
            "Validating: 100%|██████████| 4/4 [00:00<00:00,  4.11it/s]\n"
          ]
        },
        {
          "name": "stdout",
          "output_type": "stream",
          "text": [
            "Epoch 19: Validation Loss = 0.0003\n"
          ]
        },
        {
          "name": "stderr",
          "output_type": "stream",
          "text": [
            "Training Epoch 20/100: 100%|██████████| 16/16 [00:09<00:00,  1.71it/s, loss=0.00048, psnr=33.2]\n",
            "Validating: 100%|██████████| 4/4 [00:00<00:00,  4.00it/s]\n"
          ]
        },
        {
          "name": "stdout",
          "output_type": "stream",
          "text": [
            "Epoch 20: Validation Loss = 0.0003\n"
          ]
        },
        {
          "name": "stderr",
          "output_type": "stream",
          "text": [
            "Training Epoch 21/100: 100%|██████████| 16/16 [00:09<00:00,  1.72it/s, loss=0.000533, psnr=32.7]\n",
            "Validating: 100%|██████████| 4/4 [00:00<00:00,  4.11it/s]\n"
          ]
        },
        {
          "name": "stdout",
          "output_type": "stream",
          "text": [
            "Epoch 21: Validation Loss = 0.0003\n"
          ]
        },
        {
          "name": "stderr",
          "output_type": "stream",
          "text": [
            "Training Epoch 22/100: 100%|██████████| 16/16 [00:09<00:00,  1.71it/s, loss=0.000456, psnr=33.4]\n",
            "Validating: 100%|██████████| 4/4 [00:00<00:00,  4.14it/s]\n"
          ]
        },
        {
          "name": "stdout",
          "output_type": "stream",
          "text": [
            "Epoch 22: Validation Loss = 0.0003\n"
          ]
        },
        {
          "name": "stderr",
          "output_type": "stream",
          "text": [
            "Training Epoch 23/100: 100%|██████████| 16/16 [00:09<00:00,  1.72it/s, loss=0.000523, psnr=32.8]\n",
            "Validating: 100%|██████████| 4/4 [00:00<00:00,  4.21it/s]\n"
          ]
        },
        {
          "name": "stdout",
          "output_type": "stream",
          "text": [
            "Epoch 23: Validation Loss = 0.0003\n"
          ]
        },
        {
          "name": "stderr",
          "output_type": "stream",
          "text": [
            "Training Epoch 24/100: 100%|██████████| 16/16 [00:09<00:00,  1.71it/s, loss=0.000439, psnr=33.6]\n",
            "Validating: 100%|██████████| 4/4 [00:00<00:00,  4.17it/s]\n"
          ]
        },
        {
          "name": "stdout",
          "output_type": "stream",
          "text": [
            "Epoch 24: Validation Loss = 0.0002\n"
          ]
        },
        {
          "name": "stderr",
          "output_type": "stream",
          "text": [
            "Training Epoch 25/100: 100%|██████████| 16/16 [00:09<00:00,  1.72it/s, loss=0.000442, psnr=33.5]\n",
            "Validating: 100%|██████████| 4/4 [00:00<00:00,  4.14it/s]\n"
          ]
        },
        {
          "name": "stdout",
          "output_type": "stream",
          "text": [
            "Epoch 25: Validation Loss = 0.0003\n"
          ]
        },
        {
          "name": "stderr",
          "output_type": "stream",
          "text": [
            "Training Epoch 26/100: 100%|██████████| 16/16 [00:09<00:00,  1.71it/s, loss=0.000711, psnr=31.5]\n",
            "Validating: 100%|██████████| 4/4 [00:00<00:00,  4.21it/s]\n"
          ]
        },
        {
          "name": "stdout",
          "output_type": "stream",
          "text": [
            "Epoch 26: Validation Loss = 0.0007\n"
          ]
        },
        {
          "name": "stderr",
          "output_type": "stream",
          "text": [
            "Training Epoch 27/100: 100%|██████████| 16/16 [00:09<00:00,  1.71it/s, loss=0.000517, psnr=32.9]\n",
            "Validating: 100%|██████████| 4/4 [00:00<00:00,  4.15it/s]\n"
          ]
        },
        {
          "name": "stdout",
          "output_type": "stream",
          "text": [
            "Epoch 27: Validation Loss = 0.0003\n"
          ]
        },
        {
          "name": "stderr",
          "output_type": "stream",
          "text": [
            "Training Epoch 28/100: 100%|██████████| 16/16 [00:09<00:00,  1.71it/s, loss=0.000409, psnr=33.9]\n",
            "Validating: 100%|██████████| 4/4 [00:00<00:00,  4.15it/s]\n"
          ]
        },
        {
          "name": "stdout",
          "output_type": "stream",
          "text": [
            "Epoch 28: Validation Loss = 0.0002\n"
          ]
        },
        {
          "name": "stderr",
          "output_type": "stream",
          "text": [
            "Training Epoch 29/100: 100%|██████████| 16/16 [00:09<00:00,  1.72it/s, loss=0.000484, psnr=33.1]\n",
            "Validating: 100%|██████████| 4/4 [00:00<00:00,  4.08it/s]\n"
          ]
        },
        {
          "name": "stdout",
          "output_type": "stream",
          "text": [
            "Epoch 29: Validation Loss = 0.0005\n"
          ]
        },
        {
          "name": "stderr",
          "output_type": "stream",
          "text": [
            "Training Epoch 30/100: 100%|██████████| 16/16 [00:09<00:00,  1.71it/s, loss=0.000397, psnr=34]\n",
            "Validating: 100%|██████████| 4/4 [00:00<00:00,  4.15it/s]\n"
          ]
        },
        {
          "name": "stdout",
          "output_type": "stream",
          "text": [
            "Epoch 30: Validation Loss = 0.0002\n"
          ]
        },
        {
          "name": "stderr",
          "output_type": "stream",
          "text": [
            "Training Epoch 31/100: 100%|██████████| 16/16 [00:10<00:00,  1.57it/s, loss=0.000366, psnr=34.4]\n",
            "Validating: 100%|██████████| 4/4 [00:00<00:00,  4.28it/s]\n"
          ]
        },
        {
          "name": "stdout",
          "output_type": "stream",
          "text": [
            "Epoch 31: Validation Loss = 0.0002\n"
          ]
        },
        {
          "name": "stderr",
          "output_type": "stream",
          "text": [
            "Training Epoch 32/100: 100%|██████████| 16/16 [00:09<00:00,  1.72it/s, loss=0.000462, psnr=33.4]\n",
            "Validating: 100%|██████████| 4/4 [00:00<00:00,  4.22it/s]\n"
          ]
        },
        {
          "name": "stdout",
          "output_type": "stream",
          "text": [
            "Epoch 32: Validation Loss = 0.0003\n"
          ]
        },
        {
          "name": "stderr",
          "output_type": "stream",
          "text": [
            "Training Epoch 33/100: 100%|██████████| 16/16 [00:09<00:00,  1.72it/s, loss=0.000378, psnr=34.2]\n",
            "Validating: 100%|██████████| 4/4 [00:00<00:00,  4.14it/s]\n"
          ]
        },
        {
          "name": "stdout",
          "output_type": "stream",
          "text": [
            "Epoch 33: Validation Loss = 0.0002\n"
          ]
        },
        {
          "name": "stderr",
          "output_type": "stream",
          "text": [
            "Training Epoch 34/100: 100%|██████████| 16/16 [00:09<00:00,  1.71it/s, loss=0.000433, psnr=33.6]\n",
            "Validating: 100%|██████████| 4/4 [00:00<00:00,  4.11it/s]\n"
          ]
        },
        {
          "name": "stdout",
          "output_type": "stream",
          "text": [
            "Epoch 34: Validation Loss = 0.0004\n"
          ]
        },
        {
          "name": "stderr",
          "output_type": "stream",
          "text": [
            "Training Epoch 35/100: 100%|██████████| 16/16 [00:09<00:00,  1.71it/s, loss=0.000377, psnr=34.2]\n",
            "Validating: 100%|██████████| 4/4 [00:00<00:00,  4.22it/s]\n"
          ]
        },
        {
          "name": "stdout",
          "output_type": "stream",
          "text": [
            "Epoch 35: Validation Loss = 0.0002\n"
          ]
        },
        {
          "name": "stderr",
          "output_type": "stream",
          "text": [
            "Training Epoch 36/100: 100%|██████████| 16/16 [00:09<00:00,  1.72it/s, loss=0.000428, psnr=33.7]\n",
            "Validating: 100%|██████████| 4/4 [00:00<00:00,  4.21it/s]\n"
          ]
        },
        {
          "name": "stdout",
          "output_type": "stream",
          "text": [
            "Epoch 36: Validation Loss = 0.0003\n"
          ]
        },
        {
          "name": "stderr",
          "output_type": "stream",
          "text": [
            "Training Epoch 37/100: 100%|██████████| 16/16 [00:09<00:00,  1.71it/s, loss=0.000378, psnr=34.2]\n",
            "Validating: 100%|██████████| 4/4 [00:00<00:00,  4.13it/s]\n"
          ]
        },
        {
          "name": "stdout",
          "output_type": "stream",
          "text": [
            "Epoch 37: Validation Loss = 0.0003\n"
          ]
        },
        {
          "name": "stderr",
          "output_type": "stream",
          "text": [
            "Training Epoch 38/100: 100%|██████████| 16/16 [00:09<00:00,  1.72it/s, loss=0.000366, psnr=34.4]\n",
            "Validating: 100%|██████████| 4/4 [00:00<00:00,  4.15it/s]\n"
          ]
        },
        {
          "name": "stdout",
          "output_type": "stream",
          "text": [
            "Epoch 38: Validation Loss = 0.0002\n"
          ]
        },
        {
          "name": "stderr",
          "output_type": "stream",
          "text": [
            "Training Epoch 39/100: 100%|██████████| 16/16 [00:09<00:00,  1.71it/s, loss=0.000474, psnr=33.2]\n",
            "Validating: 100%|██████████| 4/4 [00:00<00:00,  4.19it/s]\n"
          ]
        },
        {
          "name": "stdout",
          "output_type": "stream",
          "text": [
            "Epoch 39: Validation Loss = 0.0004\n"
          ]
        },
        {
          "name": "stderr",
          "output_type": "stream",
          "text": [
            "Training Epoch 40/100: 100%|██████████| 16/16 [00:09<00:00,  1.71it/s, loss=0.000402, psnr=34]\n",
            "Validating: 100%|██████████| 4/4 [00:00<00:00,  4.20it/s]\n"
          ]
        },
        {
          "name": "stdout",
          "output_type": "stream",
          "text": [
            "Epoch 40: Validation Loss = 0.0003\n"
          ]
        },
        {
          "name": "stderr",
          "output_type": "stream",
          "text": [
            "Training Epoch 41/100: 100%|██████████| 16/16 [00:09<00:00,  1.72it/s, loss=0.00034, psnr=34.7]\n",
            "Validating: 100%|██████████| 4/4 [00:00<00:00,  4.15it/s]\n"
          ]
        },
        {
          "name": "stdout",
          "output_type": "stream",
          "text": [
            "Epoch 41: Validation Loss = 0.0002\n"
          ]
        },
        {
          "name": "stderr",
          "output_type": "stream",
          "text": [
            "Training Epoch 42/100: 100%|██████████| 16/16 [00:09<00:00,  1.71it/s, loss=0.000559, psnr=32.5]\n",
            "Validating: 100%|██████████| 4/4 [00:00<00:00,  4.15it/s]\n"
          ]
        },
        {
          "name": "stdout",
          "output_type": "stream",
          "text": [
            "Epoch 42: Validation Loss = 0.0004\n"
          ]
        },
        {
          "name": "stderr",
          "output_type": "stream",
          "text": [
            "Training Epoch 43/100: 100%|██████████| 16/16 [00:09<00:00,  1.71it/s, loss=0.000444, psnr=33.5]\n",
            "Validating: 100%|██████████| 4/4 [00:00<00:00,  4.16it/s]\n"
          ]
        },
        {
          "name": "stdout",
          "output_type": "stream",
          "text": [
            "Epoch 43: Validation Loss = 0.0003\n"
          ]
        },
        {
          "name": "stderr",
          "output_type": "stream",
          "text": [
            "Training Epoch 44/100: 100%|██████████| 16/16 [00:09<00:00,  1.72it/s, loss=0.00033, psnr=34.8]\n",
            "Validating: 100%|██████████| 4/4 [00:00<00:00,  4.18it/s]\n"
          ]
        },
        {
          "name": "stdout",
          "output_type": "stream",
          "text": [
            "Epoch 44: Validation Loss = 0.0002\n"
          ]
        },
        {
          "name": "stderr",
          "output_type": "stream",
          "text": [
            "Training Epoch 45/100: 100%|██████████| 16/16 [00:09<00:00,  1.71it/s, loss=0.000956, psnr=30.2]\n",
            "Validating: 100%|██████████| 4/4 [00:00<00:00,  4.14it/s]\n"
          ]
        },
        {
          "name": "stdout",
          "output_type": "stream",
          "text": [
            "Epoch 45: Validation Loss = 0.0008\n"
          ]
        },
        {
          "name": "stderr",
          "output_type": "stream",
          "text": [
            "Training Epoch 46/100: 100%|██████████| 16/16 [00:09<00:00,  1.71it/s, loss=0.000573, psnr=32.4]\n",
            "Validating: 100%|██████████| 4/4 [00:00<00:00,  4.10it/s]\n"
          ]
        },
        {
          "name": "stdout",
          "output_type": "stream",
          "text": [
            "Epoch 46: Validation Loss = 0.0004\n"
          ]
        },
        {
          "name": "stderr",
          "output_type": "stream",
          "text": [
            "Training Epoch 47/100: 100%|██████████| 16/16 [00:09<00:00,  1.72it/s, loss=0.000378, psnr=34.2]\n",
            "Validating: 100%|██████████| 4/4 [00:00<00:00,  4.07it/s]\n"
          ]
        },
        {
          "name": "stdout",
          "output_type": "stream",
          "text": [
            "Epoch 47: Validation Loss = 0.0002\n"
          ]
        },
        {
          "name": "stderr",
          "output_type": "stream",
          "text": [
            "Training Epoch 48/100: 100%|██████████| 16/16 [00:09<00:00,  1.71it/s, loss=0.000326, psnr=34.9]\n",
            "Validating: 100%|██████████| 4/4 [00:01<00:00,  2.23it/s]\n"
          ]
        },
        {
          "name": "stdout",
          "output_type": "stream",
          "text": [
            "Epoch 48: Validation Loss = 0.0002\n"
          ]
        },
        {
          "name": "stderr",
          "output_type": "stream",
          "text": [
            "Training Epoch 49/100: 100%|██████████| 16/16 [00:09<00:00,  1.72it/s, loss=0.000317, psnr=35]\n",
            "Validating: 100%|██████████| 4/4 [00:00<00:00,  4.15it/s]\n"
          ]
        },
        {
          "name": "stdout",
          "output_type": "stream",
          "text": [
            "Epoch 49: Validation Loss = 0.0002\n"
          ]
        },
        {
          "name": "stderr",
          "output_type": "stream",
          "text": [
            "Training Epoch 50/100: 100%|██████████| 16/16 [00:09<00:00,  1.72it/s, loss=0.000378, psnr=34.2]\n",
            "Validating: 100%|██████████| 4/4 [00:00<00:00,  4.16it/s]\n"
          ]
        },
        {
          "name": "stdout",
          "output_type": "stream",
          "text": [
            "Epoch 50: Validation Loss = 0.0003\n"
          ]
        },
        {
          "name": "stderr",
          "output_type": "stream",
          "text": [
            "Training Epoch 51/100: 100%|██████████| 16/16 [00:09<00:00,  1.72it/s, loss=0.000353, psnr=34.5]\n",
            "Validating: 100%|██████████| 4/4 [00:00<00:00,  4.23it/s]\n"
          ]
        },
        {
          "name": "stdout",
          "output_type": "stream",
          "text": [
            "Epoch 51: Validation Loss = 0.0002\n"
          ]
        },
        {
          "name": "stderr",
          "output_type": "stream",
          "text": [
            "Training Epoch 52/100: 100%|██████████| 16/16 [00:09<00:00,  1.72it/s, loss=0.00036, psnr=34.4]\n",
            "Validating: 100%|██████████| 4/4 [00:00<00:00,  4.23it/s]\n"
          ]
        },
        {
          "name": "stdout",
          "output_type": "stream",
          "text": [
            "Epoch 52: Validation Loss = 0.0002\n"
          ]
        },
        {
          "name": "stderr",
          "output_type": "stream",
          "text": [
            "Training Epoch 53/100: 100%|██████████| 16/16 [00:09<00:00,  1.71it/s, loss=0.000464, psnr=33.3]\n",
            "Validating: 100%|██████████| 4/4 [00:00<00:00,  4.13it/s]\n"
          ]
        },
        {
          "name": "stdout",
          "output_type": "stream",
          "text": [
            "Epoch 53: Validation Loss = 0.0003\n"
          ]
        },
        {
          "name": "stderr",
          "output_type": "stream",
          "text": [
            "Training Epoch 54/100: 100%|██████████| 16/16 [00:09<00:00,  1.72it/s, loss=0.000336, psnr=34.7]\n",
            "Validating: 100%|██████████| 4/4 [00:00<00:00,  4.18it/s]\n"
          ]
        },
        {
          "name": "stdout",
          "output_type": "stream",
          "text": [
            "Epoch 54: Validation Loss = 0.0002\n"
          ]
        },
        {
          "name": "stderr",
          "output_type": "stream",
          "text": [
            "Training Epoch 55/100: 100%|██████████| 16/16 [00:09<00:00,  1.71it/s, loss=0.000338, psnr=34.7]\n",
            "Validating: 100%|██████████| 4/4 [00:00<00:00,  4.15it/s]\n"
          ]
        },
        {
          "name": "stdout",
          "output_type": "stream",
          "text": [
            "Epoch 55: Validation Loss = 0.0002\n"
          ]
        },
        {
          "name": "stderr",
          "output_type": "stream",
          "text": [
            "Training Epoch 56/100: 100%|██████████| 16/16 [00:09<00:00,  1.72it/s, loss=0.000416, psnr=33.8]\n",
            "Validating: 100%|██████████| 4/4 [00:00<00:00,  4.13it/s]\n"
          ]
        },
        {
          "name": "stdout",
          "output_type": "stream",
          "text": [
            "Epoch 56: Validation Loss = 0.0003\n"
          ]
        },
        {
          "name": "stderr",
          "output_type": "stream",
          "text": [
            "Training Epoch 57/100: 100%|██████████| 16/16 [00:09<00:00,  1.71it/s, loss=0.000347, psnr=34.6]\n",
            "Validating: 100%|██████████| 4/4 [00:00<00:00,  4.15it/s]\n"
          ]
        },
        {
          "name": "stdout",
          "output_type": "stream",
          "text": [
            "Epoch 57: Validation Loss = 0.0002\n"
          ]
        },
        {
          "name": "stderr",
          "output_type": "stream",
          "text": [
            "Training Epoch 58/100: 100%|██████████| 16/16 [00:09<00:00,  1.71it/s, loss=0.000413, psnr=33.8]\n",
            "Validating: 100%|██████████| 4/4 [00:00<00:00,  4.05it/s]\n"
          ]
        },
        {
          "name": "stdout",
          "output_type": "stream",
          "text": [
            "Epoch 58: Validation Loss = 0.0003\n"
          ]
        },
        {
          "name": "stderr",
          "output_type": "stream",
          "text": [
            "Training Epoch 59/100: 100%|██████████| 16/16 [00:09<00:00,  1.71it/s, loss=0.000317, psnr=35]\n",
            "Validating: 100%|██████████| 4/4 [00:00<00:00,  4.14it/s]\n"
          ]
        },
        {
          "name": "stdout",
          "output_type": "stream",
          "text": [
            "Epoch 59: Validation Loss = 0.0002\n"
          ]
        },
        {
          "name": "stderr",
          "output_type": "stream",
          "text": [
            "Training Epoch 60/100: 100%|██████████| 16/16 [00:09<00:00,  1.72it/s, loss=0.000429, psnr=33.7]\n",
            "Validating: 100%|██████████| 4/4 [00:00<00:00,  4.22it/s]\n"
          ]
        },
        {
          "name": "stdout",
          "output_type": "stream",
          "text": [
            "Epoch 60: Validation Loss = 0.0003\n"
          ]
        },
        {
          "name": "stderr",
          "output_type": "stream",
          "text": [
            "Training Epoch 61/100: 100%|██████████| 16/16 [00:09<00:00,  1.71it/s, loss=0.00032, psnr=35]\n",
            "Validating: 100%|██████████| 4/4 [00:00<00:00,  4.05it/s]\n"
          ]
        },
        {
          "name": "stdout",
          "output_type": "stream",
          "text": [
            "Epoch 61: Validation Loss = 0.0002\n"
          ]
        },
        {
          "name": "stderr",
          "output_type": "stream",
          "text": [
            "Training Epoch 62/100: 100%|██████████| 16/16 [00:09<00:00,  1.72it/s, loss=0.000443, psnr=33.5]\n",
            "Validating: 100%|██████████| 4/4 [00:00<00:00,  4.01it/s]\n"
          ]
        },
        {
          "name": "stdout",
          "output_type": "stream",
          "text": [
            "Epoch 62: Validation Loss = 0.0003\n"
          ]
        },
        {
          "name": "stderr",
          "output_type": "stream",
          "text": [
            "Training Epoch 63/100: 100%|██████████| 16/16 [00:09<00:00,  1.71it/s, loss=0.00039, psnr=34.1]\n",
            "Validating: 100%|██████████| 4/4 [00:00<00:00,  4.16it/s]\n"
          ]
        },
        {
          "name": "stdout",
          "output_type": "stream",
          "text": [
            "Epoch 63: Validation Loss = 0.0003\n"
          ]
        },
        {
          "name": "stderr",
          "output_type": "stream",
          "text": [
            "Training Epoch 64/100: 100%|██████████| 16/16 [00:09<00:00,  1.71it/s, loss=0.00036, psnr=34.4]\n",
            "Validating: 100%|██████████| 4/4 [00:00<00:00,  4.10it/s]\n"
          ]
        },
        {
          "name": "stdout",
          "output_type": "stream",
          "text": [
            "Epoch 64: Validation Loss = 0.0002\n"
          ]
        },
        {
          "name": "stderr",
          "output_type": "stream",
          "text": [
            "Training Epoch 65/100: 100%|██████████| 16/16 [00:09<00:00,  1.71it/s, loss=0.000424, psnr=33.7]\n",
            "Validating: 100%|██████████| 4/4 [00:00<00:00,  4.18it/s]\n"
          ]
        },
        {
          "name": "stdout",
          "output_type": "stream",
          "text": [
            "Epoch 65: Validation Loss = 0.0004\n"
          ]
        },
        {
          "name": "stderr",
          "output_type": "stream",
          "text": [
            "Training Epoch 66/100: 100%|██████████| 16/16 [00:10<00:00,  1.58it/s, loss=0.000394, psnr=34]\n",
            "Validating: 100%|██████████| 4/4 [00:00<00:00,  4.20it/s]\n"
          ]
        },
        {
          "name": "stdout",
          "output_type": "stream",
          "text": [
            "Epoch 66: Validation Loss = 0.0003\n"
          ]
        },
        {
          "name": "stderr",
          "output_type": "stream",
          "text": [
            "Training Epoch 67/100: 100%|██████████| 16/16 [00:09<00:00,  1.72it/s, loss=0.000465, psnr=33.3]\n",
            "Validating: 100%|██████████| 4/4 [00:00<00:00,  4.18it/s]\n"
          ]
        },
        {
          "name": "stdout",
          "output_type": "stream",
          "text": [
            "Epoch 67: Validation Loss = 0.0003\n"
          ]
        },
        {
          "name": "stderr",
          "output_type": "stream",
          "text": [
            "Training Epoch 68/100: 100%|██████████| 16/16 [00:09<00:00,  1.71it/s, loss=0.000359, psnr=34.5]\n",
            "Validating: 100%|██████████| 4/4 [00:00<00:00,  4.10it/s]\n"
          ]
        },
        {
          "name": "stdout",
          "output_type": "stream",
          "text": [
            "Epoch 68: Validation Loss = 0.0003\n"
          ]
        },
        {
          "name": "stderr",
          "output_type": "stream",
          "text": [
            "Training Epoch 69/100: 100%|██████████| 16/16 [00:09<00:00,  1.72it/s, loss=0.000341, psnr=34.7]\n",
            "Validating: 100%|██████████| 4/4 [00:01<00:00,  3.97it/s]\n"
          ]
        },
        {
          "name": "stdout",
          "output_type": "stream",
          "text": [
            "Epoch 69: Validation Loss = 0.0003\n"
          ]
        },
        {
          "name": "stderr",
          "output_type": "stream",
          "text": [
            "Training Epoch 70/100: 100%|██████████| 16/16 [00:09<00:00,  1.72it/s, loss=0.000549, psnr=32.6]\n",
            "Validating: 100%|██████████| 4/4 [00:00<00:00,  4.17it/s]\n"
          ]
        },
        {
          "name": "stdout",
          "output_type": "stream",
          "text": [
            "Epoch 70: Validation Loss = 0.0004\n"
          ]
        },
        {
          "name": "stderr",
          "output_type": "stream",
          "text": [
            "Training Epoch 71/100: 100%|██████████| 16/16 [00:09<00:00,  1.72it/s, loss=0.000423, psnr=33.7]\n",
            "Validating: 100%|██████████| 4/4 [00:00<00:00,  4.19it/s]\n"
          ]
        },
        {
          "name": "stdout",
          "output_type": "stream",
          "text": [
            "Epoch 71: Validation Loss = 0.0003\n"
          ]
        },
        {
          "name": "stderr",
          "output_type": "stream",
          "text": [
            "Training Epoch 72/100: 100%|██████████| 16/16 [00:09<00:00,  1.71it/s, loss=0.00035, psnr=34.6]\n",
            "Validating: 100%|██████████| 4/4 [00:00<00:00,  4.15it/s]\n"
          ]
        },
        {
          "name": "stdout",
          "output_type": "stream",
          "text": [
            "Epoch 72: Validation Loss = 0.0002\n"
          ]
        },
        {
          "name": "stderr",
          "output_type": "stream",
          "text": [
            "Training Epoch 73/100: 100%|██████████| 16/16 [00:09<00:00,  1.71it/s, loss=0.000497, psnr=33]\n",
            "Validating: 100%|██████████| 4/4 [00:00<00:00,  4.14it/s]\n"
          ]
        },
        {
          "name": "stdout",
          "output_type": "stream",
          "text": [
            "Epoch 73: Validation Loss = 0.0006\n"
          ]
        },
        {
          "name": "stderr",
          "output_type": "stream",
          "text": [
            "Training Epoch 74/100: 100%|██████████| 16/16 [00:09<00:00,  1.72it/s, loss=0.000479, psnr=33.2]\n",
            "Validating: 100%|██████████| 4/4 [00:00<00:00,  4.24it/s]\n"
          ]
        },
        {
          "name": "stdout",
          "output_type": "stream",
          "text": [
            "Epoch 74: Validation Loss = 0.0003\n"
          ]
        },
        {
          "name": "stderr",
          "output_type": "stream",
          "text": [
            "Training Epoch 75/100: 100%|██████████| 16/16 [00:09<00:00,  1.72it/s, loss=0.000331, psnr=34.8]\n",
            "Validating: 100%|██████████| 4/4 [00:00<00:00,  4.08it/s]\n"
          ]
        },
        {
          "name": "stdout",
          "output_type": "stream",
          "text": [
            "Epoch 75: Validation Loss = 0.0002\n"
          ]
        },
        {
          "name": "stderr",
          "output_type": "stream",
          "text": [
            "Training Epoch 76/100: 100%|██████████| 16/16 [00:09<00:00,  1.72it/s, loss=0.000347, psnr=34.6]\n",
            "Validating: 100%|██████████| 4/4 [00:00<00:00,  4.13it/s]\n"
          ]
        },
        {
          "name": "stdout",
          "output_type": "stream",
          "text": [
            "Epoch 76: Validation Loss = 0.0002\n"
          ]
        },
        {
          "name": "stderr",
          "output_type": "stream",
          "text": [
            "Training Epoch 77/100: 100%|██████████| 16/16 [00:09<00:00,  1.71it/s, loss=0.000304, psnr=35.2]\n",
            "Validating: 100%|██████████| 4/4 [00:00<00:00,  4.19it/s]\n"
          ]
        },
        {
          "name": "stdout",
          "output_type": "stream",
          "text": [
            "Epoch 77: Validation Loss = 0.0002\n"
          ]
        },
        {
          "name": "stderr",
          "output_type": "stream",
          "text": [
            "Training Epoch 78/100: 100%|██████████| 16/16 [00:09<00:00,  1.72it/s, loss=0.00058, psnr=32.4]\n",
            "Validating: 100%|██████████| 4/4 [00:00<00:00,  4.15it/s]\n"
          ]
        },
        {
          "name": "stdout",
          "output_type": "stream",
          "text": [
            "Epoch 78: Validation Loss = 0.0004\n"
          ]
        },
        {
          "name": "stderr",
          "output_type": "stream",
          "text": [
            "Training Epoch 79/100: 100%|██████████| 16/16 [00:09<00:00,  1.71it/s, loss=0.000372, psnr=34.3]\n",
            "Validating: 100%|██████████| 4/4 [00:00<00:00,  4.17it/s]\n"
          ]
        },
        {
          "name": "stdout",
          "output_type": "stream",
          "text": [
            "Epoch 79: Validation Loss = 0.0002\n"
          ]
        },
        {
          "name": "stderr",
          "output_type": "stream",
          "text": [
            "Training Epoch 80/100: 100%|██████████| 16/16 [00:09<00:00,  1.71it/s, loss=0.000372, psnr=34.3]\n",
            "Validating: 100%|██████████| 4/4 [00:00<00:00,  4.14it/s]\n"
          ]
        },
        {
          "name": "stdout",
          "output_type": "stream",
          "text": [
            "Epoch 80: Validation Loss = 0.0003\n"
          ]
        },
        {
          "name": "stderr",
          "output_type": "stream",
          "text": [
            "Training Epoch 81/100: 100%|██████████| 16/16 [00:09<00:00,  1.72it/s, loss=0.000328, psnr=34.8]\n",
            "Validating: 100%|██████████| 4/4 [00:00<00:00,  4.16it/s]\n"
          ]
        },
        {
          "name": "stdout",
          "output_type": "stream",
          "text": [
            "Epoch 81: Validation Loss = 0.0002\n"
          ]
        },
        {
          "name": "stderr",
          "output_type": "stream",
          "text": [
            "Training Epoch 82/100: 100%|██████████| 16/16 [00:09<00:00,  1.71it/s, loss=0.000463, psnr=33.3]\n",
            "Validating: 100%|██████████| 4/4 [00:00<00:00,  4.11it/s]\n"
          ]
        },
        {
          "name": "stdout",
          "output_type": "stream",
          "text": [
            "Epoch 82: Validation Loss = 0.0004\n"
          ]
        },
        {
          "name": "stderr",
          "output_type": "stream",
          "text": [
            "Training Epoch 83/100: 100%|██████████| 16/16 [00:10<00:00,  1.58it/s, loss=0.00091, psnr=30.4]\n",
            "Validating: 100%|██████████| 4/4 [00:00<00:00,  4.10it/s]\n"
          ]
        },
        {
          "name": "stdout",
          "output_type": "stream",
          "text": [
            "Epoch 83: Validation Loss = 0.0010\n"
          ]
        },
        {
          "name": "stderr",
          "output_type": "stream",
          "text": [
            "Training Epoch 84/100: 100%|██████████| 16/16 [00:09<00:00,  1.72it/s, loss=0.000523, psnr=32.8]\n",
            "Validating: 100%|██████████| 4/4 [00:00<00:00,  4.20it/s]\n"
          ]
        },
        {
          "name": "stdout",
          "output_type": "stream",
          "text": [
            "Epoch 84: Validation Loss = 0.0003\n"
          ]
        },
        {
          "name": "stderr",
          "output_type": "stream",
          "text": [
            "Training Epoch 85/100: 100%|██████████| 16/16 [00:09<00:00,  1.71it/s, loss=0.000347, psnr=34.6]\n",
            "Validating: 100%|██████████| 4/4 [00:00<00:00,  4.20it/s]\n"
          ]
        },
        {
          "name": "stdout",
          "output_type": "stream",
          "text": [
            "Epoch 85: Validation Loss = 0.0002\n"
          ]
        },
        {
          "name": "stderr",
          "output_type": "stream",
          "text": [
            "Training Epoch 86/100: 100%|██████████| 16/16 [00:09<00:00,  1.72it/s, loss=0.000353, psnr=34.5]\n",
            "Validating: 100%|██████████| 4/4 [00:00<00:00,  4.26it/s]\n"
          ]
        },
        {
          "name": "stdout",
          "output_type": "stream",
          "text": [
            "Epoch 86: Validation Loss = 0.0002\n"
          ]
        },
        {
          "name": "stderr",
          "output_type": "stream",
          "text": [
            "Training Epoch 87/100: 100%|██████████| 16/16 [00:09<00:00,  1.72it/s, loss=0.00031, psnr=35.1]\n",
            "Validating: 100%|██████████| 4/4 [00:00<00:00,  4.16it/s]\n"
          ]
        },
        {
          "name": "stdout",
          "output_type": "stream",
          "text": [
            "Epoch 87: Validation Loss = 0.0002\n"
          ]
        },
        {
          "name": "stderr",
          "output_type": "stream",
          "text": [
            "Training Epoch 88/100: 100%|██████████| 16/16 [00:09<00:00,  1.71it/s, loss=0.000651, psnr=31.9]\n",
            "Validating: 100%|██████████| 4/4 [00:00<00:00,  4.07it/s]\n"
          ]
        },
        {
          "name": "stdout",
          "output_type": "stream",
          "text": [
            "Epoch 88: Validation Loss = 0.0005\n"
          ]
        },
        {
          "name": "stderr",
          "output_type": "stream",
          "text": [
            "Training Epoch 89/100: 100%|██████████| 16/16 [00:09<00:00,  1.71it/s, loss=0.000351, psnr=34.6]\n",
            "Validating: 100%|██████████| 4/4 [00:00<00:00,  4.15it/s]\n"
          ]
        },
        {
          "name": "stdout",
          "output_type": "stream",
          "text": [
            "Epoch 89: Validation Loss = 0.0003\n"
          ]
        },
        {
          "name": "stderr",
          "output_type": "stream",
          "text": [
            "Training Epoch 90/100: 100%|██████████| 16/16 [00:09<00:00,  1.72it/s, loss=0.00031, psnr=35.1]\n",
            "Validating: 100%|██████████| 4/4 [00:00<00:00,  4.10it/s]\n"
          ]
        },
        {
          "name": "stdout",
          "output_type": "stream",
          "text": [
            "Epoch 90: Validation Loss = 0.0002\n"
          ]
        },
        {
          "name": "stderr",
          "output_type": "stream",
          "text": [
            "Training Epoch 91/100: 100%|██████████| 16/16 [00:09<00:00,  1.70it/s, loss=0.000382, psnr=34.2]\n",
            "Validating: 100%|██████████| 4/4 [00:00<00:00,  4.12it/s]\n"
          ]
        },
        {
          "name": "stdout",
          "output_type": "stream",
          "text": [
            "Epoch 91: Validation Loss = 0.0003\n"
          ]
        },
        {
          "name": "stderr",
          "output_type": "stream",
          "text": [
            "Training Epoch 92/100: 100%|██████████| 16/16 [00:09<00:00,  1.71it/s, loss=0.000324, psnr=34.9]\n",
            "Validating: 100%|██████████| 4/4 [00:00<00:00,  4.20it/s]\n"
          ]
        },
        {
          "name": "stdout",
          "output_type": "stream",
          "text": [
            "Epoch 92: Validation Loss = 0.0002\n"
          ]
        },
        {
          "name": "stderr",
          "output_type": "stream",
          "text": [
            "Training Epoch 93/100: 100%|██████████| 16/16 [00:09<00:00,  1.71it/s, loss=0.000485, psnr=33.1]\n",
            "Validating: 100%|██████████| 4/4 [00:00<00:00,  4.08it/s]\n"
          ]
        },
        {
          "name": "stdout",
          "output_type": "stream",
          "text": [
            "Epoch 93: Validation Loss = 0.0003\n"
          ]
        },
        {
          "name": "stderr",
          "output_type": "stream",
          "text": [
            "Training Epoch 94/100: 100%|██████████| 16/16 [00:09<00:00,  1.71it/s, loss=0.000393, psnr=34.1]\n",
            "Validating: 100%|██████████| 4/4 [00:00<00:00,  4.15it/s]\n"
          ]
        },
        {
          "name": "stdout",
          "output_type": "stream",
          "text": [
            "Epoch 94: Validation Loss = 0.0003\n"
          ]
        },
        {
          "name": "stderr",
          "output_type": "stream",
          "text": [
            "Training Epoch 95/100: 100%|██████████| 16/16 [00:09<00:00,  1.71it/s, loss=0.000309, psnr=35.1]\n",
            "Validating: 100%|██████████| 4/4 [00:00<00:00,  4.16it/s]\n"
          ]
        },
        {
          "name": "stdout",
          "output_type": "stream",
          "text": [
            "Epoch 95: Validation Loss = 0.0002\n"
          ]
        },
        {
          "name": "stderr",
          "output_type": "stream",
          "text": [
            "Training Epoch 96/100: 100%|██████████| 16/16 [00:09<00:00,  1.71it/s, loss=0.000436, psnr=33.6]\n",
            "Validating: 100%|██████████| 4/4 [00:00<00:00,  4.11it/s]\n"
          ]
        },
        {
          "name": "stdout",
          "output_type": "stream",
          "text": [
            "Epoch 96: Validation Loss = 0.0003\n"
          ]
        },
        {
          "name": "stderr",
          "output_type": "stream",
          "text": [
            "Training Epoch 97/100: 100%|██████████| 16/16 [00:09<00:00,  1.71it/s, loss=0.000382, psnr=34.2]\n",
            "Validating: 100%|██████████| 4/4 [00:00<00:00,  4.06it/s]\n"
          ]
        },
        {
          "name": "stdout",
          "output_type": "stream",
          "text": [
            "Epoch 97: Validation Loss = 0.0002\n"
          ]
        },
        {
          "name": "stderr",
          "output_type": "stream",
          "text": [
            "Training Epoch 98/100: 100%|██████████| 16/16 [00:09<00:00,  1.71it/s, loss=0.00032, psnr=35]\n",
            "Validating: 100%|██████████| 4/4 [00:00<00:00,  4.22it/s]\n"
          ]
        },
        {
          "name": "stdout",
          "output_type": "stream",
          "text": [
            "Epoch 98: Validation Loss = 0.0002\n"
          ]
        },
        {
          "name": "stderr",
          "output_type": "stream",
          "text": [
            "Training Epoch 99/100: 100%|██████████| 16/16 [00:09<00:00,  1.72it/s, loss=0.000379, psnr=34.2]\n",
            "Validating: 100%|██████████| 4/4 [00:00<00:00,  4.15it/s]\n"
          ]
        },
        {
          "name": "stdout",
          "output_type": "stream",
          "text": [
            "Epoch 99: Validation Loss = 0.0003\n"
          ]
        },
        {
          "name": "stderr",
          "output_type": "stream",
          "text": [
            "Training Epoch 100/100: 100%|██████████| 16/16 [00:09<00:00,  1.71it/s, loss=0.000459, psnr=33.4]\n",
            "Validating: 100%|██████████| 4/4 [00:00<00:00,  4.15it/s]"
          ]
        },
        {
          "name": "stdout",
          "output_type": "stream",
          "text": [
            "Epoch 100: Validation Loss = 0.0003\n"
          ]
        },
        {
          "name": "stderr",
          "output_type": "stream",
          "text": [
            "\n"
          ]
        }
      ],
      "source": [
        "from utils.Training import Train_SuperResolution\n",
        "\n",
        "Train_SuperResolution(\n",
        "    model=modelSR,\n",
        "    train_loader=train_dataloader,\n",
        "    val_loader=val_dataloader,\n",
        "    optimizer=optimizer,\n",
        "    criterion=criterion,\n",
        "    epochs=100,\n",
        "    device='cuda'\n",
        ")"
      ]
    },
    {
      "cell_type": "code",
      "execution_count": 51,
      "metadata": {
        "colab": {
          "base_uri": "https://localhost:8080/"
        },
        "id": "ECrmSAjgPZ9G",
        "outputId": "2df723c7-6ae7-4c09-d220-72299f800e32"
      },
      "outputs": [
        {
          "name": "stdout",
          "output_type": "stream",
          "text": [
            "Collecting torchmetrics\n",
            "  Downloading torchmetrics-1.7.0-py3-none-any.whl.metadata (21 kB)\n",
            "Requirement already satisfied: numpy>1.20.0 in /usr/local/lib/python3.11/dist-packages (from torchmetrics) (2.0.2)\n",
            "Requirement already satisfied: packaging>17.1 in /usr/local/lib/python3.11/dist-packages (from torchmetrics) (24.2)\n",
            "Requirement already satisfied: torch>=2.0.0 in /usr/local/lib/python3.11/dist-packages (from torchmetrics) (2.6.0+cu124)\n",
            "Collecting lightning-utilities>=0.8.0 (from torchmetrics)\n",
            "  Downloading lightning_utilities-0.14.2-py3-none-any.whl.metadata (5.6 kB)\n",
            "Requirement already satisfied: setuptools in /usr/local/lib/python3.11/dist-packages (from lightning-utilities>=0.8.0->torchmetrics) (75.1.0)\n",
            "Requirement already satisfied: typing_extensions in /usr/local/lib/python3.11/dist-packages (from lightning-utilities>=0.8.0->torchmetrics) (4.12.2)\n",
            "Requirement already satisfied: filelock in /usr/local/lib/python3.11/dist-packages (from torch>=2.0.0->torchmetrics) (3.18.0)\n",
            "Requirement already satisfied: networkx in /usr/local/lib/python3.11/dist-packages (from torch>=2.0.0->torchmetrics) (3.4.2)\n",
            "Requirement already satisfied: jinja2 in /usr/local/lib/python3.11/dist-packages (from torch>=2.0.0->torchmetrics) (3.1.6)\n",
            "Requirement already satisfied: fsspec in /usr/local/lib/python3.11/dist-packages (from torch>=2.0.0->torchmetrics) (2025.3.0)\n",
            "Collecting nvidia-cuda-nvrtc-cu12==12.4.127 (from torch>=2.0.0->torchmetrics)\n",
            "  Downloading nvidia_cuda_nvrtc_cu12-12.4.127-py3-none-manylinux2014_x86_64.whl.metadata (1.5 kB)\n",
            "Collecting nvidia-cuda-runtime-cu12==12.4.127 (from torch>=2.0.0->torchmetrics)\n",
            "  Downloading nvidia_cuda_runtime_cu12-12.4.127-py3-none-manylinux2014_x86_64.whl.metadata (1.5 kB)\n",
            "Collecting nvidia-cuda-cupti-cu12==12.4.127 (from torch>=2.0.0->torchmetrics)\n",
            "  Downloading nvidia_cuda_cupti_cu12-12.4.127-py3-none-manylinux2014_x86_64.whl.metadata (1.6 kB)\n",
            "Collecting nvidia-cudnn-cu12==9.1.0.70 (from torch>=2.0.0->torchmetrics)\n",
            "  Downloading nvidia_cudnn_cu12-9.1.0.70-py3-none-manylinux2014_x86_64.whl.metadata (1.6 kB)\n",
            "Collecting nvidia-cublas-cu12==12.4.5.8 (from torch>=2.0.0->torchmetrics)\n",
            "  Downloading nvidia_cublas_cu12-12.4.5.8-py3-none-manylinux2014_x86_64.whl.metadata (1.5 kB)\n",
            "Collecting nvidia-cufft-cu12==11.2.1.3 (from torch>=2.0.0->torchmetrics)\n",
            "  Downloading nvidia_cufft_cu12-11.2.1.3-py3-none-manylinux2014_x86_64.whl.metadata (1.5 kB)\n",
            "Collecting nvidia-curand-cu12==10.3.5.147 (from torch>=2.0.0->torchmetrics)\n",
            "  Downloading nvidia_curand_cu12-10.3.5.147-py3-none-manylinux2014_x86_64.whl.metadata (1.5 kB)\n",
            "Collecting nvidia-cusolver-cu12==11.6.1.9 (from torch>=2.0.0->torchmetrics)\n",
            "  Downloading nvidia_cusolver_cu12-11.6.1.9-py3-none-manylinux2014_x86_64.whl.metadata (1.6 kB)\n",
            "Collecting nvidia-cusparse-cu12==12.3.1.170 (from torch>=2.0.0->torchmetrics)\n",
            "  Downloading nvidia_cusparse_cu12-12.3.1.170-py3-none-manylinux2014_x86_64.whl.metadata (1.6 kB)\n",
            "Requirement already satisfied: nvidia-cusparselt-cu12==0.6.2 in /usr/local/lib/python3.11/dist-packages (from torch>=2.0.0->torchmetrics) (0.6.2)\n",
            "Requirement already satisfied: nvidia-nccl-cu12==2.21.5 in /usr/local/lib/python3.11/dist-packages (from torch>=2.0.0->torchmetrics) (2.21.5)\n",
            "Requirement already satisfied: nvidia-nvtx-cu12==12.4.127 in /usr/local/lib/python3.11/dist-packages (from torch>=2.0.0->torchmetrics) (12.4.127)\n",
            "Collecting nvidia-nvjitlink-cu12==12.4.127 (from torch>=2.0.0->torchmetrics)\n",
            "  Downloading nvidia_nvjitlink_cu12-12.4.127-py3-none-manylinux2014_x86_64.whl.metadata (1.5 kB)\n",
            "Requirement already satisfied: triton==3.2.0 in /usr/local/lib/python3.11/dist-packages (from torch>=2.0.0->torchmetrics) (3.2.0)\n",
            "Requirement already satisfied: sympy==1.13.1 in /usr/local/lib/python3.11/dist-packages (from torch>=2.0.0->torchmetrics) (1.13.1)\n",
            "Requirement already satisfied: mpmath<1.4,>=1.1.0 in /usr/local/lib/python3.11/dist-packages (from sympy==1.13.1->torch>=2.0.0->torchmetrics) (1.3.0)\n",
            "Requirement already satisfied: MarkupSafe>=2.0 in /usr/local/lib/python3.11/dist-packages (from jinja2->torch>=2.0.0->torchmetrics) (3.0.2)\n",
            "Downloading torchmetrics-1.7.0-py3-none-any.whl (960 kB)\n",
            "\u001b[2K   \u001b[90m━━━━━━━━━━━━━━━━━━━━━━━━━━━━━━━━━━━━━━━━\u001b[0m \u001b[32m960.9/960.9 kB\u001b[0m \u001b[31m17.5 MB/s\u001b[0m eta \u001b[36m0:00:00\u001b[0m\n",
            "\u001b[?25hDownloading lightning_utilities-0.14.2-py3-none-any.whl (28 kB)\n",
            "Downloading nvidia_cublas_cu12-12.4.5.8-py3-none-manylinux2014_x86_64.whl (363.4 MB)\n",
            "\u001b[2K   \u001b[90m━━━━━━━━━━━━━━━━━━━━━━━━━━━━━━━━━━━━━━━━\u001b[0m \u001b[32m363.4/363.4 MB\u001b[0m \u001b[31m2.9 MB/s\u001b[0m eta \u001b[36m0:00:00\u001b[0m\n",
            "\u001b[?25hDownloading nvidia_cuda_cupti_cu12-12.4.127-py3-none-manylinux2014_x86_64.whl (13.8 MB)\n",
            "\u001b[2K   \u001b[90m━━━━━━━━━━━━━━━━━━━━━━━━━━━━━━━━━━━━━━━━\u001b[0m \u001b[32m13.8/13.8 MB\u001b[0m \u001b[31m113.6 MB/s\u001b[0m eta \u001b[36m0:00:00\u001b[0m\n",
            "\u001b[?25hDownloading nvidia_cuda_nvrtc_cu12-12.4.127-py3-none-manylinux2014_x86_64.whl (24.6 MB)\n",
            "\u001b[2K   \u001b[90m━━━━━━━━━━━━━━━━━━━━━━━━━━━━━━━━━━━━━━━━\u001b[0m \u001b[32m24.6/24.6 MB\u001b[0m \u001b[31m92.1 MB/s\u001b[0m eta \u001b[36m0:00:00\u001b[0m\n",
            "\u001b[?25hDownloading nvidia_cuda_runtime_cu12-12.4.127-py3-none-manylinux2014_x86_64.whl (883 kB)\n",
            "\u001b[2K   \u001b[90m━━━━━━━━━━━━━━━━━━━━━━━━━━━━━━━━━━━━━━━━\u001b[0m \u001b[32m883.7/883.7 kB\u001b[0m \u001b[31m62.9 MB/s\u001b[0m eta \u001b[36m0:00:00\u001b[0m\n",
            "\u001b[?25hDownloading nvidia_cudnn_cu12-9.1.0.70-py3-none-manylinux2014_x86_64.whl (664.8 MB)\n",
            "\u001b[2K   \u001b[90m━━━━━━━━━━━━━━━━━━━━━━━━━━━━━━━━━━━━━━━━\u001b[0m \u001b[32m664.8/664.8 MB\u001b[0m \u001b[31m1.7 MB/s\u001b[0m eta \u001b[36m0:00:00\u001b[0m\n",
            "\u001b[?25hDownloading nvidia_cufft_cu12-11.2.1.3-py3-none-manylinux2014_x86_64.whl (211.5 MB)\n",
            "\u001b[2K   \u001b[90m━━━━━━━━━━━━━━━━━━━━━━━━━━━━━━━━━━━━━━━━\u001b[0m \u001b[32m211.5/211.5 MB\u001b[0m \u001b[31m10.7 MB/s\u001b[0m eta \u001b[36m0:00:00\u001b[0m\n",
            "\u001b[?25hDownloading nvidia_curand_cu12-10.3.5.147-py3-none-manylinux2014_x86_64.whl (56.3 MB)\n",
            "\u001b[2K   \u001b[90m━━━━━━━━━━━━━━━━━━━━━━━━━━━━━━━━━━━━━━━━\u001b[0m \u001b[32m56.3/56.3 MB\u001b[0m \u001b[31m36.8 MB/s\u001b[0m eta \u001b[36m0:00:00\u001b[0m\n",
            "\u001b[?25hDownloading nvidia_cusolver_cu12-11.6.1.9-py3-none-manylinux2014_x86_64.whl (127.9 MB)\n",
            "\u001b[2K   \u001b[90m━━━━━━━━━━━━━━━━━━━━━━━━━━━━━━━━━━━━━━━━\u001b[0m \u001b[32m127.9/127.9 MB\u001b[0m \u001b[31m16.8 MB/s\u001b[0m eta \u001b[36m0:00:00\u001b[0m\n",
            "\u001b[?25hDownloading nvidia_cusparse_cu12-12.3.1.170-py3-none-manylinux2014_x86_64.whl (207.5 MB)\n",
            "\u001b[2K   \u001b[90m━━━━━━━━━━━━━━━━━━━━━━━━━━━━━━━━━━━━━━━━\u001b[0m \u001b[32m207.5/207.5 MB\u001b[0m \u001b[31m4.6 MB/s\u001b[0m eta \u001b[36m0:00:00\u001b[0m\n",
            "\u001b[?25hDownloading nvidia_nvjitlink_cu12-12.4.127-py3-none-manylinux2014_x86_64.whl (21.1 MB)\n",
            "\u001b[2K   \u001b[90m━━━━━━━━━━━━━━━━━━━━━━━━━━━━━━━━━━━━━━━━\u001b[0m \u001b[32m21.1/21.1 MB\u001b[0m \u001b[31m89.4 MB/s\u001b[0m eta \u001b[36m0:00:00\u001b[0m\n",
            "\u001b[?25hInstalling collected packages: nvidia-nvjitlink-cu12, nvidia-curand-cu12, nvidia-cufft-cu12, nvidia-cuda-runtime-cu12, nvidia-cuda-nvrtc-cu12, nvidia-cuda-cupti-cu12, nvidia-cublas-cu12, lightning-utilities, nvidia-cusparse-cu12, nvidia-cudnn-cu12, nvidia-cusolver-cu12, torchmetrics\n",
            "  Attempting uninstall: nvidia-nvjitlink-cu12\n",
            "    Found existing installation: nvidia-nvjitlink-cu12 12.5.82\n",
            "    Uninstalling nvidia-nvjitlink-cu12-12.5.82:\n",
            "      Successfully uninstalled nvidia-nvjitlink-cu12-12.5.82\n",
            "  Attempting uninstall: nvidia-curand-cu12\n",
            "    Found existing installation: nvidia-curand-cu12 10.3.6.82\n",
            "    Uninstalling nvidia-curand-cu12-10.3.6.82:\n",
            "      Successfully uninstalled nvidia-curand-cu12-10.3.6.82\n",
            "  Attempting uninstall: nvidia-cufft-cu12\n",
            "    Found existing installation: nvidia-cufft-cu12 11.2.3.61\n",
            "    Uninstalling nvidia-cufft-cu12-11.2.3.61:\n",
            "      Successfully uninstalled nvidia-cufft-cu12-11.2.3.61\n",
            "  Attempting uninstall: nvidia-cuda-runtime-cu12\n",
            "    Found existing installation: nvidia-cuda-runtime-cu12 12.5.82\n",
            "    Uninstalling nvidia-cuda-runtime-cu12-12.5.82:\n",
            "      Successfully uninstalled nvidia-cuda-runtime-cu12-12.5.82\n",
            "  Attempting uninstall: nvidia-cuda-nvrtc-cu12\n",
            "    Found existing installation: nvidia-cuda-nvrtc-cu12 12.5.82\n",
            "    Uninstalling nvidia-cuda-nvrtc-cu12-12.5.82:\n",
            "      Successfully uninstalled nvidia-cuda-nvrtc-cu12-12.5.82\n",
            "  Attempting uninstall: nvidia-cuda-cupti-cu12\n",
            "    Found existing installation: nvidia-cuda-cupti-cu12 12.5.82\n",
            "    Uninstalling nvidia-cuda-cupti-cu12-12.5.82:\n",
            "      Successfully uninstalled nvidia-cuda-cupti-cu12-12.5.82\n",
            "  Attempting uninstall: nvidia-cublas-cu12\n",
            "    Found existing installation: nvidia-cublas-cu12 12.5.3.2\n",
            "    Uninstalling nvidia-cublas-cu12-12.5.3.2:\n",
            "      Successfully uninstalled nvidia-cublas-cu12-12.5.3.2\n",
            "  Attempting uninstall: nvidia-cusparse-cu12\n",
            "    Found existing installation: nvidia-cusparse-cu12 12.5.1.3\n",
            "    Uninstalling nvidia-cusparse-cu12-12.5.1.3:\n",
            "      Successfully uninstalled nvidia-cusparse-cu12-12.5.1.3\n",
            "  Attempting uninstall: nvidia-cudnn-cu12\n",
            "    Found existing installation: nvidia-cudnn-cu12 9.3.0.75\n",
            "    Uninstalling nvidia-cudnn-cu12-9.3.0.75:\n",
            "      Successfully uninstalled nvidia-cudnn-cu12-9.3.0.75\n",
            "  Attempting uninstall: nvidia-cusolver-cu12\n",
            "    Found existing installation: nvidia-cusolver-cu12 11.6.3.83\n",
            "    Uninstalling nvidia-cusolver-cu12-11.6.3.83:\n",
            "      Successfully uninstalled nvidia-cusolver-cu12-11.6.3.83\n",
            "Successfully installed lightning-utilities-0.14.2 nvidia-cublas-cu12-12.4.5.8 nvidia-cuda-cupti-cu12-12.4.127 nvidia-cuda-nvrtc-cu12-12.4.127 nvidia-cuda-runtime-cu12-12.4.127 nvidia-cudnn-cu12-9.1.0.70 nvidia-cufft-cu12-11.2.1.3 nvidia-curand-cu12-10.3.5.147 nvidia-cusolver-cu12-11.6.1.9 nvidia-cusparse-cu12-12.3.1.170 nvidia-nvjitlink-cu12-12.4.127 torchmetrics-1.7.0\n"
          ]
        }
      ],
      "source": [
        "!pip install torchmetrics"
      ]
    },
    {
      "cell_type": "code",
      "execution_count": 55,
      "metadata": {
        "colab": {
          "base_uri": "https://localhost:8080/"
        },
        "id": "A4iuj8eGOvFP",
        "outputId": "5f6f1847-dbb6-4188-bb2a-bc6677405250"
      },
      "outputs": [
        {
          "name": "stderr",
          "output_type": "stream",
          "text": [
            "Computing SSIM: 100%|██████████| 4/4 [00:01<00:00,  2.85it/s]"
          ]
        },
        {
          "name": "stdout",
          "output_type": "stream",
          "text": [
            "\n",
            "Mean SSIM: 0.9020\n"
          ]
        },
        {
          "name": "stderr",
          "output_type": "stream",
          "text": [
            "\n"
          ]
        }
      ],
      "source": [
        "import torch\n",
        "from torchmetrics.image import StructuralSimilarityIndexMeasure\n",
        "from tqdm import tqdm  # For progress bar\n",
        "\n",
        "def compute_ssim_dataloader(data_loader, model, device=\"cuda\"):\n",
        "    \"\"\"\n",
        "    Computes the average SSIM for all image pairs in a DataLoader.\n",
        "\n",
        "    Args:\n",
        "        data_loader (torch.utils.data.DataLoader): DataLoader returning (LR, HR) image pairs.\n",
        "        device (str): Device to use ('cuda' or 'cpu').\n",
        "\n",
        "    Returns:\n",
        "        float: Mean SSIM score over the dataset.\n",
        "    \"\"\"\n",
        "    ssim_metric = StructuralSimilarityIndexMeasure(data_range=1.0).to(device)\n",
        "    ssim_scores = []\n",
        "\n",
        "    with torch.no_grad():\n",
        "      model.eval()\n",
        "      # Iterate through batches\n",
        "      for lr_images, hr_images in tqdm(data_loader, desc=\"Computing SSIM\"):\n",
        "        lr_images, hr_images = lr_images.to(device), hr_images.to(device)\n",
        "\n",
        "        batch_ssim = ssim_metric(model(lr_images), hr_images)\n",
        "        ssim_scores.append(batch_ssim.item())\n",
        "\n",
        "    mean_ssim = sum(ssim_scores) / len(ssim_scores)\n",
        "    return mean_ssim\n",
        "\n",
        "mean_ssim = compute_ssim_dataloader(val_dataloader, modelSR, device=\"cuda\")\n",
        "print(f\"\\nMean SSIM: {mean_ssim:.4f}\")"
      ]
    },
    {
      "cell_type": "code",
      "execution_count": 59,
      "metadata": {
        "colab": {
          "base_uri": "https://localhost:8080/",
          "height": 435
        },
        "id": "bKolGtNYQn2a",
        "outputId": "dd900947-4787-4422-b840-170449068842"
      },
      "outputs": [
        {
          "data": {
            "image/png": "[encoded data removed]",
            "text/plain": [
              "<Figure size 1000x500 with 2 Axes>"
            ]
          },
          "metadata": {},
          "output_type": "display_data"
        }
      ],
      "source": [
        "for img_lr, img_hr in train_dataloader:\n",
        "    image = img_lr.to(device)\n",
        "    pred = modelSR(image)\n",
        "    fig, ax = plt.subplots(1, 2, figsize=(10, 5))\n",
        "    ax[0].imshow(np.array(image[0].squeeze().cpu()))\n",
        "    ax[0].set_title('Output Image')\n",
        "\n",
        "    ax[1].imshow(np.array(pred[0].squeeze().squeeze().detach().cpu()))\n",
        "    ax[1].set_title('Predicted Image')\n",
        "    break"
      ]
    }
  ],
  "metadata": {
    "accelerator": "GPU",
    "colab": {
      "gpuType": "A100",
      "machine_shape": "hm",
      "provenance": []
    },
    "kernelspec": {
      "display_name": "Python 3",
      "name": "python3"
    },
    "language_info": {
      "name": "python"
    }
  },
  "nbformat": 4,
  "nbformat_minor": 0
}
