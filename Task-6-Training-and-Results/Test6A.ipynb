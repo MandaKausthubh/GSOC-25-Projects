{
 "cells": [
  {
   "cell_type": "code",
   "execution_count": 1,
   "metadata": {},
   "outputs": [
    {
     "name": "stderr",
     "output_type": "stream",
     "text": [
      "/Users/mandakausthubh/anaconda3/envs/ViT/lib/python3.12/site-packages/torchvision/io/image.py:14: UserWarning: Failed to load image Python extension: 'dlopen(/Users/mandakausthubh/anaconda3/envs/ViT/lib/python3.12/site-packages/torchvision/image.so, 0x0006): Library not loaded: @rpath/libjpeg.9.dylib\n",
      "  Referenced from: <367D4265-B20F-34BD-94EB-4F3EE47C385B> /Users/mandakausthubh/anaconda3/envs/ViT/lib/python3.12/site-packages/torchvision/image.so\n",
      "  Reason: tried: '/Users/mandakausthubh/anaconda3/envs/ViT/lib/python3.12/site-packages/torchvision/../../../libjpeg.9.dylib' (no such file), '/Users/mandakausthubh/anaconda3/envs/ViT/lib/python3.12/site-packages/torchvision/../../../libjpeg.9.dylib' (no such file), '/Users/mandakausthubh/anaconda3/envs/ViT/lib/python3.12/lib-dynload/../../libjpeg.9.dylib' (no such file), '/Users/mandakausthubh/anaconda3/envs/ViT/bin/../lib/libjpeg.9.dylib' (no such file)'If you don't plan on using image functionality from `torchvision.io`, you can ignore this warning. Otherwise, there might be something wrong with your environment. Did you have `libjpeg` or `libpng` installed before building `torchvision` from source?\n",
      "  warn(\n"
     ]
    }
   ],
   "source": [
    "import numpy as np\n",
    "import matplotlib.pyplot as plt\n",
    "import torch, torch.nn as nn\n",
    "from torch.utils.data import DataLoader, random_split \n",
    "from torchvision.transforms import Normalize, Lambda\n",
    "\n",
    "import sys, os\n",
    "sys.path.append(os.path.join(os.path.dirname(\"./\"), '..'))\n",
    "\n",
    "from utils.Training import Train_MAE\n",
    "from utils.CustomDataset import CustomDatasetSelfSupervised\n",
    "from Models.MaskedAutoEncoders import MaskedAutoEncoder\n",
    "from utils.Augmentation import augment_images"
   ]
  },
  {
   "cell_type": "code",
   "execution_count": 2,
   "metadata": {},
   "outputs": [],
   "source": [
    "# Loading the data\n",
    "\n",
    "# Transform = Normalize(mean=[0.5], std=[0.5])\n",
    "class MinMaxNormalize(object):\n",
    "    \"\"\"Normalizes a tensor to [0, 1] range using min and max of the tensor.\"\"\"\n",
    "    def __init__(self, min_val=None, max_val=None):\n",
    "        \"\"\"\n",
    "        Args:\n",
    "            min_val (float, optional): Fixed min value. If None, computed from input.\n",
    "            max_val (float, optional): Fixed max value. If None, computed from input.\n",
    "        \"\"\"\n",
    "        self.min_val = min_val\n",
    "        self.max_val = max_val\n",
    "\n",
    "    def __call__(self, tensor):\n",
    "        \"\"\"\n",
    "        Args:\n",
    "            tensor (torch.Tensor): Input tensor of shape (C, H, W) or (H, W)\n",
    "        Returns:\n",
    "            torch.Tensor: Normalized tensor in [0, 1]\n",
    "        \"\"\"\n",
    "        if self.min_val is None or self.max_val is None:\n",
    "            min_val = tensor.min()\n",
    "            max_val = tensor.max()\n",
    "        else:\n",
    "            min_val = self.min_val\n",
    "            max_val = self.max_val\n",
    "\n",
    "        # Avoid division by zero\n",
    "        if max_val == min_val:\n",
    "            return torch.zeros_like(tensor) if min_val == 0 else torch.ones_like(tensor)\n",
    "        \n",
    "        return (tensor - min_val) / (max_val - min_val)\n"
   ]
  },
  {
   "cell_type": "code",
   "execution_count": 3,
   "metadata": {},
   "outputs": [],
   "source": [
    "import matplotlib.pyplot as plt\n",
    "import torch\n",
    "\n",
    "def visualize_reconstruction(model, data, index=0, mask_ratio=0.75, patch_size=8, device='cpu'):\n",
    "    \"\"\"\n",
    "    Visualize the original image, mask, and reconstructed image from the MAE model.\n",
    "    \n",
    "    Args:\n",
    "        model: Trained MaskedAutoEncoder instance\n",
    "        data: Dataset or list of images (tensors of shape (C, H, W))\n",
    "        index: Index of the image to visualize (default: 0)\n",
    "        mask_ratio: Fraction of patches to mask (default: 0.75)\n",
    "        patch_size: Size of each patch (default: 16). Can be an integer (square patches) or tuple (rectangular patches).\n",
    "        device: Device to run the model on (default: 'cpu')\n",
    "    \"\"\"\n",
    "    model.eval()\n",
    "    with torch.no_grad():\n",
    "        image = data[index].unsqueeze(0).to(device)  # (1, C, H, W)\n",
    "        loss, pred, mask = model(image, mask_ratio)\n",
    "        recon = model.unpatchify(pred)  # (1, C, H, W)\n",
    "        \n",
    "        # Get image size\n",
    "        _, C, H, W = image.shape\n",
    "        \n",
    "        # Handle patch_size as integer or tuple\n",
    "        if isinstance(patch_size, int):\n",
    "            patch_size = (patch_size, patch_size)\n",
    "        else:\n",
    "            assert len(patch_size) == 2, \"patch_size must be an integer or a tuple of two integers\"\n",
    "        \n",
    "        # Calculate number of patches\n",
    "        num_patches_h = H // patch_size[0]\n",
    "        num_patches_w = W // patch_size[1]\n",
    "        \n",
    "        # Reshape mask for visualization\n",
    "        mask_vis = mask.reshape(1, num_patches_h, num_patches_w).squeeze().cpu()\n",
    "        \n",
    "        # Plot original, mask, and reconstruction\n",
    "        fig, axes = plt.subplots(1, 3, figsize=(15, 5))\n",
    "        \n",
    "        # Original image\n",
    "        if C == 1:\n",
    "            axes[0].imshow(image.squeeze().cpu())\n",
    "        else:\n",
    "            axes[0].imshow(image.squeeze().cpu().permute(1, 2, 0))\n",
    "        axes[0].set_title('Original')\n",
    "        \n",
    "        # Mask\n",
    "        axes[1].imshow(mask_vis)\n",
    "        axes[1].set_title('Mask')\n",
    "        \n",
    "        # Reconstructed image\n",
    "        if C == 1:\n",
    "            axes[2].imshow(recon.squeeze().cpu())\n",
    "        else:\n",
    "            axes[2].imshow(recon.squeeze().cpu().permute(1, 2, 0))\n",
    "        axes[2].set_title('Reconstructed')\n",
    "        \n",
    "        plt.show()"
   ]
  },
  {
   "cell_type": "code",
   "execution_count": 4,
   "metadata": {},
   "outputs": [],
   "source": [
    "from torch.optim.lr_scheduler import LambdaLR\n",
    "\n",
    "def get_linear_schedule_with_warmup(optimizer, num_warmup_steps, num_training_steps, last_epoch=-1):\n",
    "    \"\"\"\n",
    "    Creates a learning rate scheduler with:\n",
    "    - Warmup (linear increase from 0 to initial LR) over `num_warmup_steps`.\n",
    "    - Linear decay to 0 over remaining `num_training_steps - num_warmup_steps`.\n",
    "    \"\"\"\n",
    "    def lr_lambda(current_step: int):\n",
    "        if current_step < num_warmup_steps:\n",
    "            # Warmup phase: increase LR from 0 to 1.0\n",
    "            return float(current_step) / float(max(1, num_warmup_steps))\n",
    "        # Decay phase: decrease LR from 1.0 to 0.0\n",
    "        return max(\n",
    "            0.0, \n",
    "            float(num_training_steps - current_step) / \n",
    "            float(max(1, num_training_steps - num_warmup_steps)))\n",
    "    \n",
    "    return LambdaLR(optimizer, lr_lambda, last_epoch)"
   ]
  },
  {
   "cell_type": "code",
   "execution_count": 16,
   "metadata": {},
   "outputs": [
    {
     "data": {
      "text/plain": [
       "(1000, torch.Size([1, 64, 64]))"
      ]
     },
     "execution_count": 16,
     "metadata": {},
     "output_type": "execute_result"
    }
   ],
   "source": [
    "Data_paths = [os.path.join(root, file) for root, _, files in os.walk( \"../dataset/DatasetTask6A/no_sub\") for file in files]\n",
    "Data_paths = Data_paths[:1000]  # Limit to 1000 images for testing\n",
    "\n",
    "dataset = CustomDatasetSelfSupervised(\n",
    "            data = Data_paths,\n",
    "            root = \"\",\n",
    "            transform = MinMaxNormalize()\n",
    ")\n",
    "\n",
    "len(dataset), dataset[0].shape"
   ]
  },
  {
   "cell_type": "code",
   "execution_count": 17,
   "metadata": {},
   "outputs": [],
   "source": [
    "train_len = int(len(dataset)*0.9)\n",
    "test_len = len(dataset) - train_len\n",
    "\n",
    "\n",
    "train, test = random_split(dataset, [train_len, test_len], generator=torch.Generator().manual_seed(42))\n",
    "TrainLoader = DataLoader(train, batch_size=16, shuffle=True)\n",
    "ValidationLoader = DataLoader(test, batch_size=16, shuffle=False)"
   ]
  },
  {
   "cell_type": "code",
   "execution_count": 18,
   "metadata": {},
   "outputs": [],
   "source": [
    "# Define the model\n",
    "model = MaskedAutoEncoder(\n",
    "        patch_size=8,\n",
    "        encoder_embedding_dim=2048, encoder_num_heads=64, encoder_depth=8,\n",
    "        decoder_embedding_dim=1024, decoder_num_heads=32, decoder_depth=4\n",
    "    ).to(device='mps')"
   ]
  },
  {
   "cell_type": "code",
   "execution_count": 19,
   "metadata": {},
   "outputs": [
    {
     "name": "stderr",
     "output_type": "stream",
     "text": [
      "100%|██████████| 57/57 [00:26<00:00,  2.16it/s]\n",
      "100%|██████████| 7/7 [00:00<00:00, 10.00it/s]\n"
     ]
    },
    {
     "name": "stdout",
     "output_type": "stream",
     "text": [
      "\n",
      "Epoch 1/150 -\n",
      "\tTraining Loss: 0.40296699721039386\n",
      "\tVal Loss: 0.11869089411837715 \n",
      "\n"
     ]
    },
    {
     "name": "stderr",
     "output_type": "stream",
     "text": [
      "100%|██████████| 57/57 [00:25<00:00,  2.21it/s]\n",
      "100%|██████████| 7/7 [00:00<00:00, 10.09it/s]\n",
      "100%|██████████| 57/57 [00:25<00:00,  2.22it/s]\n",
      "100%|██████████| 7/7 [00:00<00:00, 10.33it/s]\n",
      "100%|██████████| 57/57 [00:25<00:00,  2.22it/s]\n",
      "100%|██████████| 7/7 [00:00<00:00, 10.35it/s]\n",
      "100%|██████████| 57/57 [00:25<00:00,  2.23it/s]\n",
      "100%|██████████| 7/7 [00:00<00:00, 10.33it/s]\n",
      "100%|██████████| 57/57 [00:25<00:00,  2.23it/s]\n",
      "100%|██████████| 7/7 [00:00<00:00, 10.32it/s]\n"
     ]
    },
    {
     "name": "stdout",
     "output_type": "stream",
     "text": [
      "\n",
      "Epoch 6/150 -\n",
      "\tTraining Loss: 0.01602654761977886\n",
      "\tVal Loss: 0.01485076081007719 \n",
      "\n"
     ]
    },
    {
     "name": "stderr",
     "output_type": "stream",
     "text": [
      "100%|██████████| 57/57 [00:25<00:00,  2.23it/s]\n",
      "100%|██████████| 7/7 [00:00<00:00, 10.32it/s]\n",
      "100%|██████████| 57/57 [00:25<00:00,  2.21it/s]\n",
      "100%|██████████| 7/7 [00:00<00:00, 10.21it/s]\n",
      "100%|██████████| 57/57 [00:26<00:00,  2.19it/s]\n",
      "100%|██████████| 7/7 [00:00<00:00,  9.99it/s]\n",
      "100%|██████████| 57/57 [00:26<00:00,  2.16it/s]\n",
      "100%|██████████| 7/7 [00:00<00:00,  9.84it/s]\n",
      "100%|██████████| 57/57 [00:26<00:00,  2.14it/s]\n",
      "100%|██████████| 7/7 [00:00<00:00,  9.70it/s]\n"
     ]
    },
    {
     "name": "stdout",
     "output_type": "stream",
     "text": [
      "\n",
      "Epoch 11/150 -\n",
      "\tTraining Loss: 0.009240837326567424\n",
      "\tVal Loss: 0.009391117841005325 \n",
      "\n"
     ]
    },
    {
     "name": "stderr",
     "output_type": "stream",
     "text": [
      "100%|██████████| 57/57 [00:26<00:00,  2.13it/s]\n",
      "100%|██████████| 7/7 [00:00<00:00,  9.56it/s]\n",
      "100%|██████████| 57/57 [00:26<00:00,  2.12it/s]\n",
      "100%|██████████| 7/7 [00:00<00:00,  9.54it/s]\n",
      "100%|██████████| 57/57 [00:26<00:00,  2.11it/s]\n",
      "100%|██████████| 7/7 [00:00<00:00,  9.56it/s]\n",
      "100%|██████████| 57/57 [00:27<00:00,  2.10it/s]\n",
      "100%|██████████| 7/7 [00:00<00:00,  9.51it/s]\n",
      "100%|██████████| 57/57 [00:27<00:00,  2.09it/s]\n",
      "100%|██████████| 7/7 [00:00<00:00,  9.30it/s]\n"
     ]
    },
    {
     "name": "stdout",
     "output_type": "stream",
     "text": [
      "\n",
      "Epoch 16/150 -\n",
      "\tTraining Loss: 0.007959357299433466\n",
      "\tVal Loss: 0.008358405570366554 \n",
      "\n"
     ]
    },
    {
     "name": "stderr",
     "output_type": "stream",
     "text": [
      "100%|██████████| 57/57 [00:27<00:00,  2.09it/s]\n",
      "100%|██████████| 7/7 [00:00<00:00,  9.47it/s]\n",
      "100%|██████████| 57/57 [00:27<00:00,  2.10it/s]\n",
      "100%|██████████| 7/7 [00:00<00:00,  9.72it/s]\n",
      "100%|██████████| 57/57 [00:26<00:00,  2.15it/s]\n",
      "100%|██████████| 7/7 [00:00<00:00,  9.70it/s]\n",
      "100%|██████████| 57/57 [00:26<00:00,  2.15it/s]\n",
      "100%|██████████| 7/7 [00:00<00:00,  9.69it/s]\n",
      "100%|██████████| 57/57 [00:26<00:00,  2.13it/s]\n",
      "100%|██████████| 7/7 [00:00<00:00,  9.38it/s]\n"
     ]
    },
    {
     "name": "stdout",
     "output_type": "stream",
     "text": [
      "\n",
      "Epoch 21/150 -\n",
      "\tTraining Loss: 0.00712967469569361\n",
      "\tVal Loss: 0.0070725660771131516 \n",
      "\n"
     ]
    },
    {
     "name": "stderr",
     "output_type": "stream",
     "text": [
      "100%|██████████| 57/57 [00:26<00:00,  2.14it/s]\n",
      "100%|██████████| 7/7 [00:00<00:00,  9.70it/s]\n",
      "100%|██████████| 57/57 [00:27<00:00,  2.10it/s]\n",
      "100%|██████████| 7/7 [00:00<00:00,  9.56it/s]\n",
      "100%|██████████| 57/57 [00:27<00:00,  2.08it/s]\n",
      "100%|██████████| 7/7 [00:00<00:00,  9.61it/s]\n",
      "100%|██████████| 57/57 [00:26<00:00,  2.12it/s]\n",
      "100%|██████████| 7/7 [00:00<00:00,  9.66it/s]\n",
      "100%|██████████| 57/57 [00:26<00:00,  2.13it/s]\n",
      "100%|██████████| 7/7 [00:00<00:00,  9.75it/s]\n"
     ]
    },
    {
     "name": "stdout",
     "output_type": "stream",
     "text": [
      "\n",
      "Epoch 26/150 -\n",
      "\tTraining Loss: 0.006818297850131465\n",
      "\tVal Loss: 0.006827134705547776 \n",
      "\n"
     ]
    },
    {
     "name": "stderr",
     "output_type": "stream",
     "text": [
      "100%|██████████| 57/57 [00:26<00:00,  2.15it/s]\n",
      "100%|██████████| 7/7 [00:00<00:00,  9.88it/s]\n",
      "100%|██████████| 57/57 [00:26<00:00,  2.15it/s]\n",
      "100%|██████████| 7/7 [00:00<00:00,  9.87it/s]\n",
      "100%|██████████| 57/57 [00:26<00:00,  2.16it/s]\n",
      "100%|██████████| 7/7 [00:00<00:00,  9.89it/s]\n",
      "100%|██████████| 57/57 [00:26<00:00,  2.16it/s]\n",
      "100%|██████████| 7/7 [00:00<00:00,  9.91it/s]\n",
      "100%|██████████| 57/57 [00:26<00:00,  2.16it/s]\n",
      "100%|██████████| 7/7 [00:00<00:00,  9.89it/s]\n"
     ]
    },
    {
     "name": "stdout",
     "output_type": "stream",
     "text": [
      "\n",
      "Epoch 31/150 -\n",
      "\tTraining Loss: 0.00637712439914283\n",
      "\tVal Loss: 0.00686654807733638 \n",
      "\n"
     ]
    },
    {
     "name": "stderr",
     "output_type": "stream",
     "text": [
      "100%|██████████| 57/57 [00:26<00:00,  2.16it/s]\n",
      "100%|██████████| 7/7 [00:00<00:00,  9.92it/s]\n",
      "100%|██████████| 57/57 [00:26<00:00,  2.16it/s]\n",
      "100%|██████████| 7/7 [00:00<00:00,  9.88it/s]\n",
      "100%|██████████| 57/57 [00:26<00:00,  2.16it/s]\n",
      "100%|██████████| 7/7 [00:00<00:00,  9.88it/s]\n",
      "100%|██████████| 57/57 [00:27<00:00,  2.10it/s]\n",
      "100%|██████████| 7/7 [00:00<00:00,  7.84it/s]\n",
      "100%|██████████| 57/57 [00:28<00:00,  2.00it/s]\n",
      "100%|██████████| 7/7 [00:00<00:00,  9.89it/s]\n"
     ]
    },
    {
     "name": "stdout",
     "output_type": "stream",
     "text": [
      "\n",
      "Epoch 36/150 -\n",
      "\tTraining Loss: 0.006017171336632026\n",
      "\tVal Loss: 0.006143413417573486 \n",
      "\n"
     ]
    },
    {
     "name": "stderr",
     "output_type": "stream",
     "text": [
      "100%|██████████| 57/57 [00:26<00:00,  2.16it/s]\n",
      "100%|██████████| 7/7 [00:00<00:00,  9.92it/s]\n",
      "100%|██████████| 57/57 [00:26<00:00,  2.13it/s]\n",
      "100%|██████████| 7/7 [00:00<00:00,  9.39it/s]\n",
      "100%|██████████| 57/57 [00:27<00:00,  2.09it/s]\n",
      "100%|██████████| 7/7 [00:00<00:00,  9.78it/s]\n",
      "100%|██████████| 57/57 [00:26<00:00,  2.13it/s]\n",
      "100%|██████████| 7/7 [00:00<00:00,  9.75it/s]\n",
      "100%|██████████| 57/57 [00:26<00:00,  2.13it/s]\n",
      "100%|██████████| 7/7 [00:00<00:00,  9.67it/s]\n"
     ]
    },
    {
     "name": "stdout",
     "output_type": "stream",
     "text": [
      "\n",
      "Epoch 41/150 -\n",
      "\tTraining Loss: 0.006036543851032069\n",
      "\tVal Loss: 0.006276508660188743 \n",
      "\n"
     ]
    },
    {
     "name": "stderr",
     "output_type": "stream",
     "text": [
      "100%|██████████| 57/57 [00:26<00:00,  2.12it/s]\n",
      "100%|██████████| 7/7 [00:00<00:00,  9.53it/s]\n",
      "100%|██████████| 57/57 [00:26<00:00,  2.12it/s]\n",
      "100%|██████████| 7/7 [00:00<00:00,  9.67it/s]\n",
      "100%|██████████| 57/57 [00:27<00:00,  2.09it/s]\n",
      "100%|██████████| 7/7 [00:00<00:00,  9.45it/s]\n",
      "100%|██████████| 57/57 [00:27<00:00,  2.09it/s]\n",
      "100%|██████████| 7/7 [00:00<00:00,  9.61it/s]\n",
      "100%|██████████| 57/57 [00:27<00:00,  2.10it/s]\n",
      "100%|██████████| 7/7 [00:00<00:00,  9.70it/s]\n"
     ]
    },
    {
     "name": "stdout",
     "output_type": "stream",
     "text": [
      "\n",
      "Epoch 46/150 -\n",
      "\tTraining Loss: 0.006029021387037478\n",
      "\tVal Loss: 0.005759146463658128 \n",
      "\n"
     ]
    },
    {
     "name": "stderr",
     "output_type": "stream",
     "text": [
      "100%|██████████| 57/57 [00:26<00:00,  2.11it/s]\n",
      "100%|██████████| 7/7 [00:00<00:00,  9.77it/s]\n",
      "100%|██████████| 57/57 [00:26<00:00,  2.12it/s]\n",
      "100%|██████████| 7/7 [00:00<00:00,  9.79it/s]\n",
      "100%|██████████| 57/57 [00:26<00:00,  2.13it/s]\n",
      "100%|██████████| 7/7 [00:00<00:00,  9.82it/s]\n",
      "100%|██████████| 57/57 [00:26<00:00,  2.14it/s]\n",
      "100%|██████████| 7/7 [00:00<00:00,  9.84it/s]\n",
      "100%|██████████| 57/57 [00:26<00:00,  2.14it/s]\n",
      "100%|██████████| 7/7 [00:00<00:00,  9.91it/s]\n"
     ]
    },
    {
     "name": "stdout",
     "output_type": "stream",
     "text": [
      "\n",
      "Epoch 51/150 -\n",
      "\tTraining Loss: 0.0058618034644607915\n",
      "\tVal Loss: 0.005825680347957781 \n",
      "\n"
     ]
    },
    {
     "name": "stderr",
     "output_type": "stream",
     "text": [
      "100%|██████████| 57/57 [00:26<00:00,  2.15it/s]\n",
      "100%|██████████| 7/7 [00:00<00:00,  9.93it/s]\n",
      "100%|██████████| 57/57 [00:26<00:00,  2.15it/s]\n",
      "100%|██████████| 7/7 [00:00<00:00,  9.99it/s]\n",
      "100%|██████████| 57/57 [00:26<00:00,  2.15it/s]\n",
      "100%|██████████| 7/7 [00:00<00:00,  9.90it/s]\n",
      "100%|██████████| 57/57 [00:26<00:00,  2.15it/s]\n",
      "100%|██████████| 7/7 [00:00<00:00,  9.86it/s]\n",
      "100%|██████████| 57/57 [00:26<00:00,  2.15it/s]\n",
      "100%|██████████| 7/7 [00:00<00:00,  9.90it/s]\n"
     ]
    },
    {
     "name": "stdout",
     "output_type": "stream",
     "text": [
      "\n",
      "Epoch 56/150 -\n",
      "\tTraining Loss: 0.00591731979920153\n",
      "\tVal Loss: 0.006473736438368048 \n",
      "\n"
     ]
    },
    {
     "name": "stderr",
     "output_type": "stream",
     "text": [
      "100%|██████████| 57/57 [00:26<00:00,  2.14it/s]\n",
      "100%|██████████| 7/7 [00:00<00:00,  9.87it/s]\n",
      "100%|██████████| 57/57 [00:26<00:00,  2.14it/s]\n",
      "100%|██████████| 7/7 [00:00<00:00,  9.83it/s]\n",
      "100%|██████████| 57/57 [00:26<00:00,  2.14it/s]\n",
      "100%|██████████| 7/7 [00:00<00:00,  9.72it/s]\n",
      "100%|██████████| 57/57 [00:26<00:00,  2.14it/s]\n",
      "100%|██████████| 7/7 [00:00<00:00,  9.83it/s]\n",
      "100%|██████████| 57/57 [00:26<00:00,  2.14it/s]\n",
      "100%|██████████| 7/7 [00:00<00:00,  9.86it/s]\n"
     ]
    },
    {
     "name": "stdout",
     "output_type": "stream",
     "text": [
      "\n",
      "Epoch 61/150 -\n",
      "\tTraining Loss: 0.00586356109073549\n",
      "\tVal Loss: 0.006257007430706706 \n",
      "\n"
     ]
    },
    {
     "name": "stderr",
     "output_type": "stream",
     "text": [
      "100%|██████████| 57/57 [00:26<00:00,  2.14it/s]\n",
      "100%|██████████| 7/7 [00:00<00:00,  9.90it/s]\n",
      "100%|██████████| 57/57 [00:26<00:00,  2.14it/s]\n",
      "100%|██████████| 7/7 [00:00<00:00,  9.85it/s]\n",
      "100%|██████████| 57/57 [00:26<00:00,  2.14it/s]\n",
      "100%|██████████| 7/7 [00:00<00:00,  9.88it/s]\n",
      "100%|██████████| 57/57 [00:26<00:00,  2.14it/s]\n",
      "100%|██████████| 7/7 [00:00<00:00,  9.76it/s]\n",
      "100%|██████████| 57/57 [00:26<00:00,  2.14it/s]\n",
      "100%|██████████| 7/7 [00:00<00:00,  9.89it/s]\n"
     ]
    },
    {
     "name": "stdout",
     "output_type": "stream",
     "text": [
      "\n",
      "Epoch 66/150 -\n",
      "\tTraining Loss: 0.0057563003348676785\n",
      "\tVal Loss: 0.005705625151417085 \n",
      "\n"
     ]
    },
    {
     "name": "stderr",
     "output_type": "stream",
     "text": [
      "100%|██████████| 57/57 [00:26<00:00,  2.14it/s]\n",
      "100%|██████████| 7/7 [00:00<00:00,  9.89it/s]\n",
      "100%|██████████| 57/57 [00:26<00:00,  2.14it/s]\n",
      "100%|██████████| 7/7 [00:00<00:00,  9.86it/s]\n",
      "100%|██████████| 57/57 [00:26<00:00,  2.14it/s]\n",
      "100%|██████████| 7/7 [00:00<00:00,  9.91it/s]\n",
      "100%|██████████| 57/57 [00:26<00:00,  2.14it/s]\n",
      "100%|██████████| 7/7 [00:00<00:00,  9.87it/s]\n",
      "100%|██████████| 57/57 [00:26<00:00,  2.14it/s]\n",
      "100%|██████████| 7/7 [00:00<00:00,  9.84it/s]\n"
     ]
    },
    {
     "name": "stdout",
     "output_type": "stream",
     "text": [
      "\n",
      "Epoch 71/150 -\n",
      "\tTraining Loss: 0.00581140694486206\n",
      "\tVal Loss: 0.00670479450907026 \n",
      "\n"
     ]
    },
    {
     "name": "stderr",
     "output_type": "stream",
     "text": [
      "100%|██████████| 57/57 [00:26<00:00,  2.15it/s]\n",
      "100%|██████████| 7/7 [00:00<00:00,  9.89it/s]\n",
      "100%|██████████| 57/57 [00:26<00:00,  2.15it/s]\n",
      "100%|██████████| 7/7 [00:00<00:00,  9.94it/s]\n",
      "100%|██████████| 57/57 [00:26<00:00,  2.15it/s]\n",
      "100%|██████████| 7/7 [00:00<00:00,  9.89it/s]\n",
      "100%|██████████| 57/57 [00:26<00:00,  2.15it/s]\n",
      "100%|██████████| 7/7 [00:00<00:00,  9.87it/s]\n",
      "100%|██████████| 57/57 [00:26<00:00,  2.15it/s]\n",
      "100%|██████████| 7/7 [00:00<00:00,  9.91it/s]\n"
     ]
    },
    {
     "name": "stdout",
     "output_type": "stream",
     "text": [
      "\n",
      "Epoch 76/150 -\n",
      "\tTraining Loss: 0.005770946664964421\n",
      "\tVal Loss: 0.0056829121229904035 \n",
      "\n"
     ]
    },
    {
     "name": "stderr",
     "output_type": "stream",
     "text": [
      "100%|██████████| 57/57 [00:26<00:00,  2.15it/s]\n",
      "100%|██████████| 7/7 [00:00<00:00,  9.94it/s]\n",
      "100%|██████████| 57/57 [00:26<00:00,  2.15it/s]\n",
      "100%|██████████| 7/7 [00:00<00:00,  9.90it/s]\n",
      "100%|██████████| 57/57 [00:26<00:00,  2.15it/s]\n",
      "100%|██████████| 7/7 [00:00<00:00,  9.91it/s]\n",
      "100%|██████████| 57/57 [00:26<00:00,  2.15it/s]\n",
      "100%|██████████| 7/7 [00:00<00:00,  9.94it/s]\n",
      "100%|██████████| 57/57 [00:26<00:00,  2.15it/s]\n",
      "100%|██████████| 7/7 [00:00<00:00,  9.95it/s]\n"
     ]
    },
    {
     "name": "stdout",
     "output_type": "stream",
     "text": [
      "\n",
      "Epoch 81/150 -\n",
      "\tTraining Loss: 0.005693937659982527\n",
      "\tVal Loss: 0.005462805873581341 \n",
      "\n"
     ]
    },
    {
     "name": "stderr",
     "output_type": "stream",
     "text": [
      "100%|██████████| 57/57 [00:26<00:00,  2.15it/s]\n",
      "100%|██████████| 7/7 [00:00<00:00,  9.94it/s]\n",
      "100%|██████████| 57/57 [00:26<00:00,  2.15it/s]\n",
      "100%|██████████| 7/7 [00:00<00:00,  9.97it/s]\n",
      "100%|██████████| 57/57 [00:26<00:00,  2.15it/s]\n",
      "100%|██████████| 7/7 [00:00<00:00,  9.93it/s]\n",
      "100%|██████████| 57/57 [00:26<00:00,  2.15it/s]\n",
      "100%|██████████| 7/7 [00:00<00:00,  9.90it/s]\n",
      "100%|██████████| 57/57 [00:26<00:00,  2.15it/s]\n",
      "100%|██████████| 7/7 [00:00<00:00,  9.93it/s]\n"
     ]
    },
    {
     "name": "stdout",
     "output_type": "stream",
     "text": [
      "\n",
      "Epoch 86/150 -\n",
      "\tTraining Loss: 0.005617649890809206\n",
      "\tVal Loss: 0.005718480463006667 \n",
      "\n"
     ]
    },
    {
     "name": "stderr",
     "output_type": "stream",
     "text": [
      "100%|██████████| 57/57 [00:26<00:00,  2.15it/s]\n",
      "100%|██████████| 7/7 [00:00<00:00,  9.82it/s]\n",
      "100%|██████████| 57/57 [00:26<00:00,  2.15it/s]\n",
      "100%|██████████| 7/7 [00:00<00:00,  9.93it/s]\n",
      "100%|██████████| 57/57 [00:26<00:00,  2.15it/s]\n",
      "100%|██████████| 7/7 [00:00<00:00,  9.89it/s]\n",
      "100%|██████████| 57/57 [00:26<00:00,  2.15it/s]\n",
      "100%|██████████| 7/7 [00:00<00:00,  9.84it/s]\n",
      "100%|██████████| 57/57 [00:26<00:00,  2.15it/s]\n",
      "100%|██████████| 7/7 [00:00<00:00,  9.92it/s]\n"
     ]
    },
    {
     "name": "stdout",
     "output_type": "stream",
     "text": [
      "\n",
      "Epoch 91/150 -\n",
      "\tTraining Loss: 0.005589402321595372\n",
      "\tVal Loss: 0.0057273681408592635 \n",
      "\n"
     ]
    },
    {
     "name": "stderr",
     "output_type": "stream",
     "text": [
      "100%|██████████| 57/57 [00:26<00:00,  2.15it/s]\n",
      "100%|██████████| 7/7 [00:00<00:00,  9.95it/s]\n",
      "100%|██████████| 57/57 [00:26<00:00,  2.15it/s]\n",
      "100%|██████████| 7/7 [00:00<00:00,  9.89it/s]\n",
      "100%|██████████| 57/57 [00:26<00:00,  2.15it/s]\n",
      "100%|██████████| 7/7 [00:00<00:00,  9.94it/s]\n",
      "100%|██████████| 57/57 [00:26<00:00,  2.15it/s]\n",
      "100%|██████████| 7/7 [00:00<00:00, 10.00it/s]\n",
      "100%|██████████| 57/57 [00:26<00:00,  2.13it/s]\n",
      "100%|██████████| 7/7 [00:00<00:00,  9.82it/s]\n"
     ]
    },
    {
     "name": "stdout",
     "output_type": "stream",
     "text": [
      "\n",
      "Epoch 96/150 -\n",
      "\tTraining Loss: 0.005626482472411896\n",
      "\tVal Loss: 0.005326771310397557 \n",
      "\n"
     ]
    },
    {
     "name": "stderr",
     "output_type": "stream",
     "text": [
      "100%|██████████| 57/57 [00:26<00:00,  2.13it/s]\n",
      "100%|██████████| 7/7 [00:00<00:00,  9.90it/s]\n",
      "100%|██████████| 57/57 [00:26<00:00,  2.15it/s]\n",
      "100%|██████████| 7/7 [00:00<00:00,  9.91it/s]\n",
      "100%|██████████| 57/57 [00:26<00:00,  2.15it/s]\n",
      "100%|██████████| 7/7 [00:00<00:00,  9.95it/s]\n",
      "100%|██████████| 57/57 [00:26<00:00,  2.15it/s]\n",
      "100%|██████████| 7/7 [00:00<00:00,  9.94it/s]\n",
      "100%|██████████| 57/57 [00:26<00:00,  2.15it/s]\n",
      "100%|██████████| 7/7 [00:00<00:00,  9.88it/s]\n"
     ]
    },
    {
     "name": "stdout",
     "output_type": "stream",
     "text": [
      "\n",
      "Epoch 101/150 -\n",
      "\tTraining Loss: 0.0054778873904101685\n",
      "\tVal Loss: 0.005365886459393161 \n",
      "\n"
     ]
    },
    {
     "name": "stderr",
     "output_type": "stream",
     "text": [
      "100%|██████████| 57/57 [00:26<00:00,  2.15it/s]\n",
      "100%|██████████| 7/7 [00:00<00:00,  9.90it/s]\n",
      "100%|██████████| 57/57 [00:26<00:00,  2.15it/s]\n",
      "100%|██████████| 7/7 [00:00<00:00,  9.91it/s]\n",
      "100%|██████████| 57/57 [00:26<00:00,  2.15it/s]\n",
      "100%|██████████| 7/7 [00:00<00:00,  9.85it/s]\n",
      "100%|██████████| 57/57 [00:26<00:00,  2.15it/s]\n",
      "100%|██████████| 7/7 [00:00<00:00,  9.91it/s]\n",
      "100%|██████████| 57/57 [00:26<00:00,  2.15it/s]\n",
      "100%|██████████| 7/7 [00:00<00:00,  9.93it/s]\n"
     ]
    },
    {
     "name": "stdout",
     "output_type": "stream",
     "text": [
      "\n",
      "Epoch 106/150 -\n",
      "\tTraining Loss: 0.00549865628412941\n",
      "\tVal Loss: 0.005270653371033924 \n",
      "\n"
     ]
    },
    {
     "name": "stderr",
     "output_type": "stream",
     "text": [
      "100%|██████████| 57/57 [00:26<00:00,  2.15it/s]\n",
      "100%|██████████| 7/7 [00:00<00:00,  9.92it/s]\n",
      "100%|██████████| 57/57 [00:26<00:00,  2.15it/s]\n",
      "100%|██████████| 7/7 [00:00<00:00,  9.88it/s]\n",
      "100%|██████████| 57/57 [00:26<00:00,  2.15it/s]\n",
      "100%|██████████| 7/7 [00:00<00:00,  9.92it/s]\n",
      "100%|██████████| 57/57 [00:26<00:00,  2.15it/s]\n",
      "100%|██████████| 7/7 [00:00<00:00,  9.93it/s]\n",
      "100%|██████████| 57/57 [00:26<00:00,  2.15it/s]\n",
      "100%|██████████| 7/7 [00:00<00:00,  9.90it/s]\n"
     ]
    },
    {
     "name": "stdout",
     "output_type": "stream",
     "text": [
      "\n",
      "Epoch 111/150 -\n",
      "\tTraining Loss: 0.0055854272979654765\n",
      "\tVal Loss: 0.005695318337529898 \n",
      "\n"
     ]
    },
    {
     "name": "stderr",
     "output_type": "stream",
     "text": [
      "100%|██████████| 57/57 [00:26<00:00,  2.15it/s]\n",
      "100%|██████████| 7/7 [00:00<00:00,  9.91it/s]\n",
      "100%|██████████| 57/57 [00:26<00:00,  2.15it/s]\n",
      "100%|██████████| 7/7 [00:00<00:00,  9.96it/s]\n",
      "100%|██████████| 57/57 [00:26<00:00,  2.15it/s]\n",
      "100%|██████████| 7/7 [00:00<00:00,  9.95it/s]\n",
      "100%|██████████| 57/57 [00:26<00:00,  2.15it/s]\n",
      "100%|██████████| 7/7 [00:00<00:00,  9.86it/s]\n",
      "100%|██████████| 57/57 [00:26<00:00,  2.15it/s]\n",
      "100%|██████████| 7/7 [00:00<00:00,  9.88it/s]\n"
     ]
    },
    {
     "name": "stdout",
     "output_type": "stream",
     "text": [
      "\n",
      "Epoch 116/150 -\n",
      "\tTraining Loss: 0.005515271405640401\n",
      "\tVal Loss: 0.0054515270915414605 \n",
      "\n"
     ]
    },
    {
     "name": "stderr",
     "output_type": "stream",
     "text": [
      "100%|██████████| 57/57 [00:26<00:00,  2.15it/s]\n",
      "100%|██████████| 7/7 [00:00<00:00,  9.92it/s]\n",
      "100%|██████████| 57/57 [00:26<00:00,  2.15it/s]\n",
      "100%|██████████| 7/7 [00:00<00:00,  9.83it/s]\n",
      "100%|██████████| 57/57 [00:26<00:00,  2.15it/s]\n",
      "100%|██████████| 7/7 [00:00<00:00,  9.89it/s]\n",
      "100%|██████████| 57/57 [00:26<00:00,  2.15it/s]\n",
      "100%|██████████| 7/7 [00:00<00:00,  9.89it/s]\n",
      "100%|██████████| 57/57 [00:26<00:00,  2.15it/s]\n",
      "100%|██████████| 7/7 [00:00<00:00,  9.86it/s]\n"
     ]
    },
    {
     "name": "stdout",
     "output_type": "stream",
     "text": [
      "\n",
      "Epoch 121/150 -\n",
      "\tTraining Loss: 0.005402774476495229\n",
      "\tVal Loss: 0.005472483712115458 \n",
      "\n"
     ]
    },
    {
     "name": "stderr",
     "output_type": "stream",
     "text": [
      "100%|██████████| 57/57 [00:26<00:00,  2.15it/s]\n",
      "100%|██████████| 7/7 [00:00<00:00,  9.90it/s]\n",
      "100%|██████████| 57/57 [00:26<00:00,  2.12it/s]\n",
      "100%|██████████| 7/7 [00:00<00:00,  9.51it/s]\n",
      "100%|██████████| 57/57 [00:27<00:00,  2.09it/s]\n",
      "100%|██████████| 7/7 [00:00<00:00,  9.84it/s]\n",
      "100%|██████████| 57/57 [00:26<00:00,  2.14it/s]\n",
      "100%|██████████| 7/7 [00:00<00:00,  9.87it/s]\n",
      "100%|██████████| 57/57 [00:26<00:00,  2.14it/s]\n",
      "100%|██████████| 7/7 [00:00<00:00,  9.79it/s]\n"
     ]
    },
    {
     "name": "stdout",
     "output_type": "stream",
     "text": [
      "\n",
      "Epoch 126/150 -\n",
      "\tTraining Loss: 0.005010596460156273\n",
      "\tVal Loss: 0.004737828991242817 \n",
      "\n"
     ]
    },
    {
     "name": "stderr",
     "output_type": "stream",
     "text": [
      "100%|██████████| 57/57 [00:26<00:00,  2.14it/s]\n",
      "100%|██████████| 7/7 [00:00<00:00,  9.91it/s]\n",
      "100%|██████████| 57/57 [00:26<00:00,  2.15it/s]\n",
      "100%|██████████| 7/7 [00:00<00:00,  9.93it/s]\n",
      "100%|██████████| 57/57 [00:26<00:00,  2.15it/s]\n",
      "100%|██████████| 7/7 [00:00<00:00,  9.87it/s]\n",
      "100%|██████████| 57/57 [00:26<00:00,  2.14it/s]\n",
      "100%|██████████| 7/7 [00:00<00:00,  9.95it/s]\n",
      "100%|██████████| 57/57 [00:26<00:00,  2.15it/s]\n",
      "100%|██████████| 7/7 [00:00<00:00,  9.91it/s]\n"
     ]
    },
    {
     "name": "stdout",
     "output_type": "stream",
     "text": [
      "\n",
      "Epoch 131/150 -\n",
      "\tTraining Loss: 0.004532210610545518\n",
      "\tVal Loss: 0.004337533377110958 \n",
      "\n"
     ]
    },
    {
     "name": "stderr",
     "output_type": "stream",
     "text": [
      "100%|██████████| 57/57 [00:26<00:00,  2.15it/s]\n",
      "100%|██████████| 7/7 [00:00<00:00,  9.88it/s]\n",
      "100%|██████████| 57/57 [00:26<00:00,  2.15it/s]\n",
      "100%|██████████| 7/7 [00:00<00:00,  9.93it/s]\n",
      "100%|██████████| 57/57 [00:26<00:00,  2.15it/s]\n",
      "100%|██████████| 7/7 [00:00<00:00,  9.91it/s]\n",
      "100%|██████████| 57/57 [00:26<00:00,  2.15it/s]\n",
      "100%|██████████| 7/7 [00:00<00:00,  9.92it/s]\n",
      "100%|██████████| 57/57 [00:26<00:00,  2.15it/s]\n",
      "100%|██████████| 7/7 [00:00<00:00,  9.91it/s]\n"
     ]
    },
    {
     "name": "stdout",
     "output_type": "stream",
     "text": [
      "\n",
      "Epoch 136/150 -\n",
      "\tTraining Loss: 0.0042212166774429774\n",
      "\tVal Loss: 0.0042792644484766895 \n",
      "\n"
     ]
    },
    {
     "name": "stderr",
     "output_type": "stream",
     "text": [
      "100%|██████████| 57/57 [00:26<00:00,  2.15it/s]\n",
      "100%|██████████| 7/7 [00:00<00:00,  9.91it/s]\n",
      "100%|██████████| 57/57 [00:26<00:00,  2.15it/s]\n",
      "100%|██████████| 7/7 [00:00<00:00,  9.92it/s]\n",
      "100%|██████████| 57/57 [00:26<00:00,  2.15it/s]\n",
      "100%|██████████| 7/7 [00:00<00:00,  9.93it/s]\n",
      "100%|██████████| 57/57 [00:26<00:00,  2.15it/s]\n",
      "100%|██████████| 7/7 [00:00<00:00,  9.89it/s]\n",
      "100%|██████████| 57/57 [00:26<00:00,  2.14it/s]\n",
      "100%|██████████| 7/7 [00:00<00:00,  9.89it/s]\n"
     ]
    },
    {
     "name": "stdout",
     "output_type": "stream",
     "text": [
      "\n",
      "Epoch 141/150 -\n",
      "\tTraining Loss: 0.0039863464373507\n",
      "\tVal Loss: 0.003835452554215278 \n",
      "\n"
     ]
    },
    {
     "name": "stderr",
     "output_type": "stream",
     "text": [
      "100%|██████████| 57/57 [00:26<00:00,  2.15it/s]\n",
      "100%|██████████| 7/7 [00:00<00:00,  9.91it/s]\n",
      "100%|██████████| 57/57 [00:26<00:00,  2.14it/s]\n",
      "100%|██████████| 7/7 [00:00<00:00,  9.81it/s]\n",
      "100%|██████████| 57/57 [00:26<00:00,  2.15it/s]\n",
      "100%|██████████| 7/7 [00:00<00:00,  9.91it/s]\n",
      "100%|██████████| 57/57 [00:26<00:00,  2.15it/s]\n",
      "100%|██████████| 7/7 [00:00<00:00,  9.88it/s]\n",
      "100%|██████████| 57/57 [00:26<00:00,  2.15it/s]\n",
      "100%|██████████| 7/7 [00:00<00:00,  9.82it/s]\n"
     ]
    },
    {
     "name": "stdout",
     "output_type": "stream",
     "text": [
      "\n",
      "Epoch 146/150 -\n",
      "\tTraining Loss: 0.004018532475783375\n",
      "\tVal Loss: 0.004244346637278795 \n",
      "\n"
     ]
    },
    {
     "name": "stderr",
     "output_type": "stream",
     "text": [
      "100%|██████████| 57/57 [00:26<00:00,  2.15it/s]\n",
      "100%|██████████| 7/7 [00:00<00:00,  9.94it/s]\n",
      "100%|██████████| 57/57 [00:25<00:00,  2.24it/s]\n",
      "100%|██████████| 7/7 [00:00<00:00,  9.95it/s]\n",
      "100%|██████████| 57/57 [00:24<00:00,  2.31it/s]\n",
      "100%|██████████| 7/7 [00:00<00:00,  9.86it/s]\n",
      "100%|██████████| 57/57 [00:24<00:00,  2.31it/s]\n",
      "100%|██████████| 7/7 [00:00<00:00,  9.89it/s]\n"
     ]
    },
    {
     "name": "stdout",
     "output_type": "stream",
     "text": [
      "Final Performance:\n",
      "\tTraining Loss: 0.00962129503624699\n",
      "\tTest Loss: 0.007470575549329321\n",
      "Finished Training\n"
     ]
    },
    {
     "data": {
      "image/png": "[encoded data removed]",
      "text/plain": [
       "<Figure size 1500x500 with 1 Axes>"
      ]
     },
     "metadata": {},
     "output_type": "display_data"
    }
   ],
   "source": [
    "\n",
    "\n",
    "# optimizer = torch.optim.AdamW(model.parameters(), lr=1.5e-8, weight_decay=0.05)\n",
    "# scheduler = torch.optim.lr_scheduler.CosineAnnealingLR(optimizer, T_max=50)\n",
    "\n",
    "model.norm_pix_loss = False\n",
    "optimizer = torch.optim.AdamW(model.parameters(), lr=1e-3, weight_decay=0.05, betas=(0.9, 0.95))\n",
    "# scheduler = torch.optim.lr_scheduler.CosineAnnealingLR(optimizer, T_max=50)\n",
    "\n",
    "total_epochs =150 \n",
    "batches_per_epoch = len(TrainLoader)\n",
    "total_training_steps = total_epochs * batches_per_epoch\n",
    "num_warmup_steps = int(total_training_steps * 0.4)\n",
    "scheduler = get_linear_schedule_with_warmup(optimizer, num_warmup_steps, total_training_steps)\n",
    "\n",
    "Train_MAE(model, TrainLoader, ValidationLoader, optimizer,\n",
    "            epochs=total_epochs, device='mps', scheduler=scheduler, masking_ratio=0.6)"
   ]
  },
  {
   "cell_type": "code",
   "execution_count": 20,
   "metadata": {},
   "outputs": [
    {
     "data": {
      "image/png": "[encoded data removed]",
      "text/plain": [
       "<Figure size 1500x500 with 3 Axes>"
      ]
     },
     "metadata": {},
     "output_type": "display_data"
    }
   ],
   "source": [
    "device = 'mps' if torch.backends.mps.is_available() else 'cpu'\n",
    "visualize_reconstruction(model, dataset, index=0, mask_ratio=0.75, patch_size=8, device=device)"
   ]
  },
  {
   "cell_type": "code",
   "execution_count": 21,
   "metadata": {},
   "outputs": [],
   "source": [
    "torch.save(model.state_dict(), '../ModelWeights/MaskedAutoEncoder__Very_VeryDeep_Final__Solution.pth')"
   ]
  },
  {
   "cell_type": "code",
   "execution_count": 1,
   "metadata": {},
   "outputs": [
    {
     "ename": "NameError",
     "evalue": "name 'torch' is not defined",
     "output_type": "error",
     "traceback": [
      "\u001b[0;31m---------------------------------------------------------------------------\u001b[0m",
      "\u001b[0;31mNameError\u001b[0m                                 Traceback (most recent call last)",
      "Cell \u001b[0;32mIn[1], line 1\u001b[0m\n\u001b[0;32m----> 1\u001b[0m device \u001b[38;5;241m=\u001b[39m \u001b[38;5;124m'\u001b[39m\u001b[38;5;124mmps\u001b[39m\u001b[38;5;124m'\u001b[39m \u001b[38;5;28;01mif\u001b[39;00m \u001b[43mtorch\u001b[49m\u001b[38;5;241m.\u001b[39mbackends\u001b[38;5;241m.\u001b[39mmps\u001b[38;5;241m.\u001b[39mis_available() \u001b[38;5;28;01melse\u001b[39;00m \u001b[38;5;124m'\u001b[39m\u001b[38;5;124mcpu\u001b[39m\u001b[38;5;124m'\u001b[39m\n\u001b[1;32m      2\u001b[0m model\u001b[38;5;241m.\u001b[39mto(device)\n\u001b[1;32m      3\u001b[0m image \u001b[38;5;241m=\u001b[39m torch\u001b[38;5;241m.\u001b[39mtensor(dataset)[\u001b[38;5;241m4\u001b[39m]\u001b[38;5;241m.\u001b[39munsqueeze(\u001b[38;5;241m0\u001b[39m)\u001b[38;5;241m.\u001b[39mto(device)  \u001b[38;5;66;03m# (1, 1, 64, 64)\u001b[39;00m\n",
      "\u001b[0;31mNameError\u001b[0m: name 'torch' is not defined"
     ]
    }
   ],
   "source": [
    "device = 'mps' if torch.backends.mps.is_available() else 'cpu'\n",
    "model.to(device)\n",
    "image = torch.tensor(dataset)[4].unsqueeze(0).to(device)  # (1, 1, 64, 64)\n",
    "latent, _, _ = model.forward_encoder(image, masking_ratio=0.75)\n",
    "print(latent.shape)  # Should be (1, 4, 768) - 4 unmasked patches\n",
    "print(latent.var(dim=1).mean())  # Variance across patches"
   ]
  },
  {
   "cell_type": "code",
   "execution_count": null,
   "metadata": {},
   "outputs": [
    {
     "name": "stdout",
     "output_type": "stream",
     "text": [
      "Decoder Positional Embeddings Variance: 0.1519421637058258\n"
     ]
    }
   ],
   "source": [
    "print(\"Decoder Positional Embeddings Variance:\", model.decoder_pos_embed.var(dim=1).mean().item())"
   ]
  },
  {
   "cell_type": "code",
   "execution_count": null,
   "metadata": {},
   "outputs": [
    {
     "data": {
      "image/png": "[encoded data removed]",
      "text/plain": [
       "<Figure size 1500x500 with 3 Axes>"
      ]
     },
     "metadata": {},
     "output_type": "display_data"
    }
   ],
   "source": [
    "TestingData = torch.rand(4, 1, 64, 64).to(device)\n",
    "visualize_reconstruction(model, TestingData, index=2, mask_ratio=0.3, patch_size=8, device=device)"
   ]
  }
 ],
 "metadata": {
  "kernelspec": {
   "display_name": "ViT",
   "language": "python",
   "name": "python3"
  },
  "language_info": {
   "codemirror_mode": {
    "name": "ipython",
    "version": 3
   },
   "file_extension": ".py",
   "mimetype": "text/x-python",
   "name": "python",
   "nbconvert_exporter": "python",
   "pygments_lexer": "ipython3",
   "version": "3.12.9"
  }
 },
 "nbformat": 4,
 "nbformat_minor": 2
}
